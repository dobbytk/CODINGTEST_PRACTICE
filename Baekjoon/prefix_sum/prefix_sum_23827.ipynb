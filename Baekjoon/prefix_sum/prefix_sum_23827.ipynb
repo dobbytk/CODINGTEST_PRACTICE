{
 "cells": [
  {
   "cell_type": "markdown",
   "metadata": {},
   "source": [
    "문제 </br>\n",
    "모든 원소가 양의 정수이고, 길이가 $N$인 수열 $$A_1, A_2, ..., A_N$$이 주어진다. \n",
    "$1 \\le i < j \\le N$을 만족하는 모든 정수쌍 $(i, j)$에 대해 $A_i \\times A_j$의 합을 $1\\, 000 \\, 000 \\, 007$로 나눈 나머지를 구하시오.\n",
    "\n",
    "입력\n",
    "첫째 줄에 수열 $A$의 길이 $N$이 주어진다.\n",
    "\n",
    "둘째 줄에 수열 $A_1, A_2, \\cdots, A_N$이 공백으로 구분되어 주어진다.\n"
   ]
  },
  {
   "cell_type": "code",
   "execution_count": 13,
   "metadata": {},
   "outputs": [
    {
     "name": "stdout",
     "output_type": "stream",
     "text": [
      "11\n"
     ]
    }
   ],
   "source": [
    "n = int(input())\n",
    "arr = list(map(int, input().split()))\n",
    "sum_arr = sum(arr)\n",
    "result = 0\n",
    "\n",
    "for i in arr:\n",
    "    sum_arr -= i\n",
    "    result = (result + i * sum_arr) % 1000000007\n",
    "    # 각 원소와 해당 원소의 뒷 원소들의 합을 곱하고 이를 다 더한 값에 1000000007로 나누면 됨\n",
    "print(result)"
   ]
  }
 ],
 "metadata": {
  "interpreter": {
   "hash": "7812ea015bdcee6f23a998adcdd2ef97c151c0c241b7b7070987d9313e41299d"
  },
  "kernelspec": {
   "display_name": "Python 3.9.5 64-bit",
   "language": "python",
   "name": "python3"
  },
  "language_info": {
   "codemirror_mode": {
    "name": "ipython",
    "version": 3
   },
   "file_extension": ".py",
   "mimetype": "text/x-python",
   "name": "python",
   "nbconvert_exporter": "python",
   "pygments_lexer": "ipython3",
   "version": "3.9.5"
  },
  "orig_nbformat": 4
 },
 "nbformat": 4,
 "nbformat_minor": 2
}
