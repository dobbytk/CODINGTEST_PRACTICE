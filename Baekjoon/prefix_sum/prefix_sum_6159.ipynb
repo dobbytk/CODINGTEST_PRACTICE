{
 "cells": [
  {
   "cell_type": "markdown",
   "metadata": {},
   "source": [
    "```\n",
    "문제\n",
    "한 농부가 할로윈 파티에 그의 소들을 데려가려고한다. 아쉽게도 농부에게는 코스튬이 한벌밖에 없다. 그 코스튬에는 정확하게 사이즈는 S(1 <= S <= 1,000,000)이며, 최대 소 두마리가 들어간다. 농부는 N(2 <= N <= 20,000)마리의 소가 있으며(소의 이름은 편의상 소1.. 소N으로한다), 소i의 사이즈는 (1 <= L_i <= 1,000,000)이다. 만약 소 두마리의 크기 합이 코스튬의 크기 이하인 경우 둘이 코스튬에 들어갈 수 있다. 농부가 코스튬에 얼마나 많은 서로 다른 소의 짝이 들어가는지 구할수있도록 도와주자.\n",
    "\n",
    "입력\n",
    "첫째 줄에는 정수 N(소의 수)과 S(코스튬의 크기)가 주어진다.\n",
    "\n",
    "둘째 줄부터는 각 줄에 소들의 크기가 주어진다.\n",
    "\n",
    "출력\n",
    "첫째 줄에 얼마나 많은 짝이 가능한지 출력한다.\n",
    "\n",
    "예제 입력 1 \n",
    "4 6\n",
    "3\n",
    "5\n",
    "2\n",
    "1\n",
    "예제 출력 1 \n",
    "4\n",
    "```"
   ]
  },
  {
   "cell_type": "code",
   "execution_count": 8,
   "metadata": {},
   "outputs": [
    {
     "name": "stdout",
     "output_type": "stream",
     "text": [
      "4\n"
     ]
    }
   ],
   "source": [
    "import sys\n",
    "\n",
    "N, S = map(int, sys.stdin.readline().split())\n",
    "\n",
    "arr = []\n",
    "cnt = 0\n",
    "\n",
    "for _ in range(N):\n",
    "    arr.append(int(sys.stdin.readline()))\n",
    "\n",
    "for i in range(len(arr)):\n",
    "    tmp = arr[i]\n",
    "    for j in range(i + 1, len(arr)):\n",
    "        add = tmp + arr[j]\n",
    "        if add <= S:\n",
    "            cnt+=1\n",
    "\n",
    "print(cnt)\n"
   ]
  },
  {
   "cell_type": "code",
   "execution_count": null,
   "metadata": {},
   "outputs": [],
   "source": []
  }
 ],
 "metadata": {
  "interpreter": {
   "hash": "7812ea015bdcee6f23a998adcdd2ef97c151c0c241b7b7070987d9313e41299d"
  },
  "kernelspec": {
   "display_name": "Python 3.9.5 64-bit",
   "language": "python",
   "name": "python3"
  },
  "language_info": {
   "codemirror_mode": {
    "name": "ipython",
    "version": 3
   },
   "file_extension": ".py",
   "mimetype": "text/x-python",
   "name": "python",
   "nbconvert_exporter": "python",
   "pygments_lexer": "ipython3",
   "version": "3.9.5"
  },
  "orig_nbformat": 4
 },
 "nbformat": 4,
 "nbformat_minor": 2
}
