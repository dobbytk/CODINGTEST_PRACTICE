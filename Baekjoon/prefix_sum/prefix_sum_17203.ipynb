{
 "cells": [
  {
   "cell_type": "markdown",
   "metadata": {},
   "source": [
    "```\n",
    "문제\n",
    "작곡가인 GUN은 박자의 빠르기가 변화하는 곡을 쓰는 걸 좋아한다.\n",
    "\n",
    "혼신의 힘을 다해 곡을 완성한 GUN은 자기가 쓴 곡의 초당 박자 변화량의 합이 얼마나 되는지 궁금해졌다. 하지만 GUN의 노래는 박자가 변화하는 곳이 많아 구간의 변화량 합을 일일이 계산하기 어렵다. GUN은 당신에게 이 곡의 특정 부분들의 구간별 초당 박자 변화량의 합을 구해달라고 요청했다. GUN을 도와 주어진 구간들의 초당 박자 변화량의 합을 구해주자.\n",
    "\n",
    "단, i 초와 j 초 구간 사이의 초당 박자 변화량의 합은 \n",
    "$ \\sum_{k=i}^{j-1}|a_{k+1} - a_k|$  라고 정의하고 $ j-1 < i $인 경우엔 \n",
    "$ \\sum_{k=i}^{j-1}|a_{k+1} - a_k| = 0 $ 이다.\n",
    "\n",
    "그리고 기호 |a|는 임의의 실수 a에 대해 a<0 이면 |a| = -a 이고 a≥0 이면 |a| = a임을 나타내는 기호이다.\n",
    "\n",
    "입력\n",
    "입력의 첫 번째 줄에는 GUN이 쓴 노래의 길이 N(1 ≤ N ≤ 1,000) 초와 초당 박자 변화량의 합을 구해야 하는 구간의 수 Q(1 ≤ Q ≤ 1,000)이 공백으로 구분되어 주어진다.\n",
    "\n",
    "입력의 두 번째 줄에는 순서대로 GUN이 쓴 노래의 박자 빠르기를 나타내는 수열 a1 a2, ... , an 이 공백으로 구분되어 주어지며, ai (-104 ≤ ai ≤ 104)는 i 초일 때 박자의 빠르기라고 한다.\n",
    "\n",
    "입력의 세 번째 줄부터 Q 줄에 걸쳐 변화량의 합을 구해야 하는 구간의 시작점과 끝점 Q(i,l), Q(i,r) (1 ≤ Q(i,l) ≤ Q(i,r) ≤ N)가 주어진다.\n",
    "\n",
    "출력\n",
    "GUN이 쓴 곡의 구간의 초당 박자 변화량의 합을 입력 순서대로 Q 줄에 걸쳐 출력한다.\n",
    "\n",
    "예제 입력 1 \n",
    "4 3\n",
    "100 101 382 573\n",
    "1 1\n",
    "1 3\n",
    "2 4\n",
    "예제 출력 1 \n",
    "0\n",
    "282\n",
    "472\n",
    "```"
   ]
  },
  {
   "cell_type": "code",
   "execution_count": 3,
   "metadata": {},
   "outputs": [
    {
     "name": "stdout",
     "output_type": "stream",
     "text": [
      "0\n",
      "282\n",
      "472\n"
     ]
    }
   ],
   "source": [
    "N, Q = map(int, input().split())\n",
    "arr = list(map(int, input().split()))\n",
    "\n",
    "for _ in range(Q):\n",
    "    answer = 0\n",
    "    i, j = map(int, input().split())\n",
    "    tmp = arr[i-1:j]\n",
    "    for k in range(1, len(tmp)):\n",
    "        answer += abs(tmp[k-1] - tmp[k])\n",
    "\n",
    "    print(answer)\n",
    "        \n",
    "\n"
   ]
  },
  {
   "cell_type": "code",
   "execution_count": null,
   "metadata": {},
   "outputs": [],
   "source": []
  }
 ],
 "metadata": {
  "interpreter": {
   "hash": "7812ea015bdcee6f23a998adcdd2ef97c151c0c241b7b7070987d9313e41299d"
  },
  "kernelspec": {
   "display_name": "Python 3.9.5 64-bit",
   "language": "python",
   "name": "python3"
  },
  "language_info": {
   "codemirror_mode": {
    "name": "ipython",
    "version": 3
   },
   "file_extension": ".py",
   "mimetype": "text/x-python",
   "name": "python",
   "nbconvert_exporter": "python",
   "pygments_lexer": "ipython3",
   "version": "3.9.5"
  },
  "orig_nbformat": 4
 },
 "nbformat": 4,
 "nbformat_minor": 2
}
