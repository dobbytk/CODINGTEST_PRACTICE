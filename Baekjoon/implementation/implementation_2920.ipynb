{
 "cells": [
  {
   "cell_type": "markdown",
   "metadata": {},
   "source": [
    "```\n",
    "문제\n",
    "다장조는 c d e f g a b C, 총 8개 음으로 이루어져있다. 이 문제에서 8개 음은 다음과 같이 숫자로 바꾸어 표현한다. c는 1로, d는 2로, ..., C를 8로 바꾼다.\n",
    "\n",
    "1부터 8까지 차례대로 연주한다면 ascending, 8부터 1까지 차례대로 연주한다면 descending, 둘 다 아니라면 mixed 이다.\n",
    "\n",
    "연주한 순서가 주어졌을 때, 이것이 ascending인지, descending인지, 아니면 mixed인지 판별하는 프로그램을 작성하시오.\n",
    "\n",
    "입력\n",
    "첫째 줄에 8개 숫자가 주어진다. 이 숫자는 문제 설명에서 설명한 음이며, 1부터 8까지 숫자가 한 번씩 등장한다.\n",
    "\n",
    "출력\n",
    "첫째 줄에 ascending, descending, mixed 중 하나를 출력한다.\n",
    "\n",
    "예제 입력 1 \n",
    "1 2 3 4 5 6 7 8\n",
    "예제 출력 1 \n",
    "ascending\n",
    "예제 입력 2 \n",
    "8 7 6 5 4 3 2 1\n",
    "예제 출력 2 \n",
    "descending\n",
    "예제 입력 3 \n",
    "8 1 7 2 6 3 5 4\n",
    "예제 출력 3 \n",
    "mixed\n",
    "\n",
    "```"
   ]
  },
  {
   "cell_type": "code",
   "execution_count": 4,
   "metadata": {},
   "outputs": [
    {
     "name": "stdout",
     "output_type": "stream",
     "text": [
      "mixed\n"
     ]
    }
   ],
   "source": [
    "arr = list(map(int, input().split()))\n",
    "\n",
    "test = [1, 2, 3, 4, 5, 6, 7, 8]\n",
    "\n",
    "if arr == sorted(test):\n",
    "    print(\"ascending\")\n",
    "elif arr == sorted(test, reverse=True):\n",
    "    print(\"descending\")\n",
    "else:\n",
    "    print(\"mixed\")"
   ]
  },
  {
   "cell_type": "code",
   "execution_count": null,
   "metadata": {},
   "outputs": [],
   "source": []
  }
 ],
 "metadata": {
  "interpreter": {
   "hash": "7812ea015bdcee6f23a998adcdd2ef97c151c0c241b7b7070987d9313e41299d"
  },
  "kernelspec": {
   "display_name": "Python 3.9.5 64-bit",
   "language": "python",
   "name": "python3"
  },
  "language_info": {
   "codemirror_mode": {
    "name": "ipython",
    "version": 3
   },
   "file_extension": ".py",
   "mimetype": "text/x-python",
   "name": "python",
   "nbconvert_exporter": "python",
   "pygments_lexer": "ipython3",
   "version": "3.9.5"
  },
  "orig_nbformat": 4
 },
 "nbformat": 4,
 "nbformat_minor": 2
}
