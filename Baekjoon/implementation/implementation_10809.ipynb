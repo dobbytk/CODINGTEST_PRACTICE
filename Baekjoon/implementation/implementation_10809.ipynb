{
 "cells": [
  {
   "cell_type": "markdown",
   "metadata": {},
   "source": [
    "```\n",
    "문제\n",
    "알파벳 소문자로만 이루어진 단어 S가 주어진다. \n",
    "각각의 알파벳에 대해서, 단어에 포함되어 있는 경우에는 처음 등장하는 위치를, 포함되어 있지 않은 경우에는 -1을 출력하는 프로그램을 작성하시오.\n",
    "\n",
    "입력\n",
    "첫째 줄에 단어 S가 주어진다. \n",
    "단어의 길이는 100을 넘지 않으며, 알파벳 소문자로만 이루어져 있다.\n",
    "\n",
    "출력\n",
    "각각의 알파벳에 대해서, a가 처음 등장하는 위치, b가 처음 등장하는 위치, ... z가 처음 등장하는 위치를 공백으로 구분해서 출력한다.\n",
    "\n",
    "만약, 어떤 알파벳이 단어에 포함되어 있지 않다면 -1을 출력한다. \n",
    "단어의 첫 번째 글자는 0번째 위치이고, 두 번째 글자는 1번째 위치이다.\n",
    "\n",
    "예제 입력 1 \n",
    "baekjoon\n",
    "예제 출력 1 \n",
    "1 0 -1 -1 2 -1 -1 -1 -1 4 3 -1 -1 7 5 -1 -1 -1 -1 -1 -1 -1 -1 -1 -1 -1\n",
    "```"
   ]
  },
  {
   "cell_type": "code",
   "execution_count": 7,
   "metadata": {},
   "outputs": [
    {
     "name": "stdout",
     "output_type": "stream",
     "text": [
      "1\n",
      "0\n",
      "-1\n",
      "-1\n",
      "2\n",
      "-1\n",
      "-1\n",
      "-1\n",
      "-1\n",
      "4\n",
      "3\n",
      "-1\n",
      "-1\n",
      "7\n",
      "5\n",
      "-1\n",
      "-1\n",
      "-1\n",
      "-1\n",
      "-1\n",
      "-1\n",
      "-1\n",
      "-1\n",
      "-1\n",
      "-1\n",
      "-1\n"
     ]
    }
   ],
   "source": [
    "array = [chr(i) for i in range(97, 123)]\n",
    "s = input()\n",
    "\n",
    "\n",
    "for c in array:\n",
    "    try:\n",
    "        print(s.index(c))\n",
    "    except:\n",
    "        print(-1)"
   ]
  },
  {
   "cell_type": "code",
   "execution_count": null,
   "metadata": {},
   "outputs": [],
   "source": []
  }
 ],
 "metadata": {
  "interpreter": {
   "hash": "7812ea015bdcee6f23a998adcdd2ef97c151c0c241b7b7070987d9313e41299d"
  },
  "kernelspec": {
   "display_name": "Python 3.9.5 64-bit",
   "language": "python",
   "name": "python3"
  },
  "language_info": {
   "codemirror_mode": {
    "name": "ipython",
    "version": 3
   },
   "file_extension": ".py",
   "mimetype": "text/x-python",
   "name": "python",
   "nbconvert_exporter": "python",
   "pygments_lexer": "ipython3",
   "version": "3.9.5"
  },
  "orig_nbformat": 4
 },
 "nbformat": 4,
 "nbformat_minor": 2
}
