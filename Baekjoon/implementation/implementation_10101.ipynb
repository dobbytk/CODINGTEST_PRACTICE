{
 "cells": [
  {
   "cell_type": "markdown",
   "metadata": {},
   "source": [
    "```\n",
    "문제\n",
    "창영이는 삼각형의 종류를 잘 구분하지 못한다. 따라서 프로그램을 이용해 이를 외우려고 한다.\n",
    "\n",
    "삼각형의 세 각을 입력받은 다음, \n",
    "\n",
    "세 각의 크기가 모두 60이면, Equilateral\n",
    "세 각의 합이 180이고, 두 각이 같은 경우에는 Isosceles\n",
    "세 각의 합이 180이고, 같은 각이 없는 경우에는 Scalene\n",
    "세 각의 합이 180이 아닌 경우에는 Error\n",
    "를 출력하는 프로그램을 작성하시오.\n",
    "\n",
    "입력\n",
    "총 3개의 줄에 걸쳐 삼각형의 각의 크기가 주어진다. 모든 정수는 0보다 크고, 180보다 작다.\n",
    "\n",
    "출력\n",
    "문제의 설명에 따라 Equilateral, Isosceles, Scalene, Error 중 하나를 출력한다.\n",
    "\n",
    "예제 입력 1 \n",
    "60\n",
    "70\n",
    "50\n",
    "예제 출력 1 \n",
    "Scalene\n",
    "```"
   ]
  },
  {
   "cell_type": "code",
   "execution_count": 7,
   "metadata": {},
   "outputs": [
    {
     "name": "stdout",
     "output_type": "stream",
     "text": [
      "Isosceles\n"
     ]
    }
   ],
   "source": [
    "a = int(input())\n",
    "b = int(input())\n",
    "c = int(input())\n",
    "angle = a + b + c\n",
    "\n",
    "if angle != 180:\n",
    "    print('Error')\n",
    "elif a != b and b != c and a != c:\n",
    "    print('Scalene')\n",
    "elif a == b == c:\n",
    "    print('Equilateral')\n",
    "elif (a == b and b != c and a != c) or (a != b and b == c and a != c) or (a != b and b != c and a == c):\n",
    "    print('Isosceles')\n"
   ]
  },
  {
   "cell_type": "code",
   "execution_count": null,
   "metadata": {},
   "outputs": [],
   "source": []
  }
 ],
 "metadata": {
  "kernelspec": {
   "display_name": "Python 3.9.5 64-bit",
   "language": "python",
   "name": "python3"
  },
  "language_info": {
   "codemirror_mode": {
    "name": "ipython",
    "version": 3
   },
   "file_extension": ".py",
   "mimetype": "text/x-python",
   "name": "python",
   "nbconvert_exporter": "python",
   "pygments_lexer": "ipython3",
   "version": "3.9.5"
  },
  "orig_nbformat": 4,
  "vscode": {
   "interpreter": {
    "hash": "7812ea015bdcee6f23a998adcdd2ef97c151c0c241b7b7070987d9313e41299d"
   }
  }
 },
 "nbformat": 4,
 "nbformat_minor": 2
}
