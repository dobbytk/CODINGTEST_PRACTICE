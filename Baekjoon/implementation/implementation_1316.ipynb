{
 "cells": [
  {
   "cell_type": "markdown",
   "metadata": {},
   "source": [
    "```\n",
    "문제\n",
    "그룹 단어란 단어에 존재하는 모든 문자에 대해서, 각 문자가 연속해서 나타나는 경우만을 말한다. 예를 들면, ccazzzzbb는 c, a, z, b가 모두 연속해서 나타나고, kin도 k, i, n이 연속해서 나타나기 때문에 그룹 단어이지만, aabbbccb는 b가 떨어져서 나타나기 때문에 그룹 단어가 아니다.\n",
    "\n",
    "단어 N개를 입력으로 받아 그룹 단어의 개수를 출력하는 프로그램을 작성하시오.\n",
    "\n",
    "입력\n",
    "첫째 줄에 단어의 개수 N이 들어온다. N은 100보다 작거나 같은 자연수이다. 둘째 줄부터 N개의 줄에 단어가 들어온다. 단어는 알파벳 소문자로만 되어있고 중복되지 않으며, 길이는 최대 100이다.\n",
    "\n",
    "출력\n",
    "첫째 줄에 그룹 단어의 개수를 출력한다.\n",
    "\n",
    "예제 입력 1 \n",
    "3\n",
    "happy\n",
    "new\n",
    "year\n",
    "예제 출력 1 \n",
    "3\n",
    "예제 입력 2 \n",
    "4\n",
    "aba\n",
    "abab\n",
    "abcabc\n",
    "a\n",
    "예제 출력 2 \n",
    "1\n",
    "예제 입력 3 \n",
    "5\n",
    "ab\n",
    "aa\n",
    "aca\n",
    "ba\n",
    "bb\n",
    "예제 출력 3 \n",
    "4\n",
    "예제 입력 4 \n",
    "2\n",
    "yzyzy\n",
    "zyzyz\n",
    "예제 출력 4 \n",
    "0\n",
    "예제 입력 5 \n",
    "1\n",
    "z\n",
    "예제 출력 5 \n",
    "1\n",
    "```"
   ]
  },
  {
   "cell_type": "code",
   "execution_count": 2,
   "metadata": {},
   "outputs": [
    {
     "name": "stdout",
     "output_type": "stream",
     "text": [
      "3\n"
     ]
    }
   ],
   "source": [
    "N=int(input())\n",
    "\n",
    "answer=0\n",
    "\n",
    "for i in range(N):\n",
    "    word = input()\n",
    "    for j in range(len(word)):\n",
    "        if j!=len(word)-1:\n",
    "            if word[j]==word[j+1]:\n",
    "                pass\n",
    "            elif word[j] in word[j+1:]:\n",
    "                break\n",
    "        else:\n",
    "            answer+=1\n",
    "print(answer)"
   ]
  },
  {
   "cell_type": "code",
   "execution_count": null,
   "metadata": {},
   "outputs": [],
   "source": []
  }
 ],
 "metadata": {
  "interpreter": {
   "hash": "7812ea015bdcee6f23a998adcdd2ef97c151c0c241b7b7070987d9313e41299d"
  },
  "kernelspec": {
   "display_name": "Python 3.9.5 64-bit",
   "language": "python",
   "name": "python3"
  },
  "language_info": {
   "codemirror_mode": {
    "name": "ipython",
    "version": 3
   },
   "file_extension": ".py",
   "mimetype": "text/x-python",
   "name": "python",
   "nbconvert_exporter": "python",
   "pygments_lexer": "ipython3",
   "version": "3.9.5"
  },
  "orig_nbformat": 4
 },
 "nbformat": 4,
 "nbformat_minor": 2
}
