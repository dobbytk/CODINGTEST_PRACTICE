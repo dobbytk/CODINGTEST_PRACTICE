{
 "cells": [
  {
   "cell_type": "markdown",
   "metadata": {},
   "source": [
    "```\n",
    "문제\n",
    "예제를 보고 규칙을 유추한 뒤에 별을 찍어 보세요.\n",
    "\n",
    "입력\n",
    "첫째 줄에 N(1 ≤ N ≤ 100)이 주어진다.\n",
    "\n",
    "출력\n",
    "첫째 줄부터 2×N-1번째 줄까지 차례대로 별을 출력한다.\n",
    "\n",
    "예제 입력 1 \n",
    "5\n",
    "예제 출력 1 \n",
    "    *\n",
    "   ***\n",
    "  *****\n",
    " *******\n",
    "*********\n",
    " *******\n",
    "  *****\n",
    "   ***\n",
    "    *\n",
    "```"
   ]
  },
  {
   "cell_type": "code",
   "execution_count": null,
   "metadata": {},
   "outputs": [],
   "source": [
    "N = int(input())\n",
    "\n",
    "for i in range(N):\n",
    "    print(\" \" * (N - i - 1) + \"*\" * (2 * i + 1))\n",
    "for i in range(1, N):\n",
    "    print(\" \" * i + \"*\" * (2 * (N - i - 1) + 1))"
   ]
  }
 ],
 "metadata": {
  "language_info": {
   "name": "python"
  },
  "orig_nbformat": 4
 },
 "nbformat": 4,
 "nbformat_minor": 2
}
