{
 "cells": [
  {
   "cell_type": "markdown",
   "metadata": {},
   "source": [
    "```\n",
    "문제\n",
    "You enjoy your new job as a teacher of young children. It’s fun to see them learning to count, recognize letters, draw, and interact with the world.\n",
    "\n",
    "One common problem you’ve noticed is that children often forget numbers when counting. For example, early on they might count “one, two, three, five, six.” You have to remind them about that “four” that they didn’t say. And as they get more proficient and clever, they may use the “quick” way of counting: “one, two, skip a few, ninety-nine, one hundred!”\n",
    "\n",
    "Please write a program that can help you (and your students) identify the missing numbers when they are counting.\n",
    "\n",
    "입력\n",
    "The first line of input contains a single integer n, where 1 ≤ n ≤ 100. Each of the next n lines contains one number that the child recited. Each recited number is an integer between 1 and 200 (inclusive). They are listed in increasing order, and there are no duplicates.\n",
    "\n",
    "출력\n",
    "If the child recited all the numbers between 1 and the last number they recited, then print good job.\n",
    "\n",
    "If the child missed any numbers between 1 and the last number they recited, then print those missing numbers in increasing numeric order, one per line.\n",
    "\n",
    "예제 입력 1 \n",
    "9\n",
    "2\n",
    "4\n",
    "5\n",
    "7\n",
    "8\n",
    "9\n",
    "10\n",
    "11\n",
    "13\n",
    "예제 출력 1 \n",
    "1\n",
    "3\n",
    "6\n",
    "12\n",
    "예제 입력 2 \n",
    "5\n",
    "1\n",
    "2\n",
    "3\n",
    "4\n",
    "5\n",
    "예제 출력 2 \n",
    "good job\n",
    "```"
   ]
  },
  {
   "cell_type": "code",
   "execution_count": null,
   "metadata": {},
   "outputs": [],
   "source": [
    "n = int(input())\n",
    "recited_arr = []\n",
    "\n",
    "for i in range(1, n + 1):\n",
    "    recited_arr.append(int(input()))\n",
    "\n",
    "arr = [x for x in range(1, max(recited_arr) + 1)]\n",
    "\n",
    "for i in arr:\n",
    "    if recited_arr == arr:\n",
    "        print('good job')\n",
    "        break\n",
    "    elif i not in recited_arr:\n",
    "        print(i)"
   ]
  },
  {
   "cell_type": "code",
   "execution_count": null,
   "metadata": {},
   "outputs": [],
   "source": []
  }
 ],
 "metadata": {
  "interpreter": {
   "hash": "7812ea015bdcee6f23a998adcdd2ef97c151c0c241b7b7070987d9313e41299d"
  },
  "kernelspec": {
   "display_name": "Python 3.9.5 64-bit",
   "language": "python",
   "name": "python3"
  },
  "language_info": {
   "codemirror_mode": {
    "name": "ipython",
    "version": 3
   },
   "file_extension": ".py",
   "mimetype": "text/x-python",
   "name": "python",
   "nbconvert_exporter": "python",
   "pygments_lexer": "ipython3",
   "version": "3.9.5"
  },
  "orig_nbformat": 4
 },
 "nbformat": 4,
 "nbformat_minor": 2
}
