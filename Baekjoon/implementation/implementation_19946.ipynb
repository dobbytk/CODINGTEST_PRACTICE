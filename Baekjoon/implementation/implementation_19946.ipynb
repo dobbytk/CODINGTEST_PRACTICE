{
 "cells": [
  {
   "cell_type": "markdown",
   "metadata": {},
   "source": [
    "```\n",
    "문제\n",
    "태영이의 취미는 2의 제곱수를 계산하는 것이다.\n",
    "\n",
    "태영이는 264 = 18,446,744,073,709,551,616 이라는 것을 알고 있고 직접 20부터 2씩 곱해서 264을 구할 것이다.\n",
    "\n",
    "하지만 태영이는 2씩 곱하는 와중에 1을 빼버리는 실수를 딱 한 번 해버리고 말았다. (실수는 단 한 번만 하며, 그 후에는 2로 곱하는 계산을 정확하게 수행한다.)\n",
    "\n",
    "예를 들어, 21 = 2로 계산을 잘 하다가 22 = 3으로 계산해버리는 어이없는 실수를 해버리는 것이다.\n",
    "\n",
    "그렇게 된다면 23 = 6 , 24 = 12 ... 로 계산하여 점점 오차가 커진다.\n",
    "\n",
    "태영이가 구한 264인 N이 주어졌을 때, 태영이가 처음으로 실수한 구간을 찾아주자.\n",
    "\n",
    "입력\n",
    "양의 정수 N이 주어진다.\n",
    "\n",
    "N은 태영이가 264를 계산했을 때 나올 수 있는 수이다.\n",
    "\n",
    "출력\n",
    "태영이가 처음으로 실수한 구간을 찾아주자.\n",
    "\n",
    "2K = 2K-1로 계산해버렸을 때의 K를 출력하면 된다.\n",
    "\n",
    "제한\n",
    "2 ≤ N ≤ 18,446,744,073,709,551,615 = 264 - 1\n",
    "예제 입력 1 \n",
    "18446744073709551615\n",
    "예제 출력 1 \n",
    "64\n",
    "263 = 9,223,372,036,854,775,808 까지는 계산을 잘 하다가\n",
    "\n",
    "264를 264-1인 18,446,744,073,709,551,615로 계산을 잘못해버렸다. \n",
    "```"
   ]
  },
  {
   "cell_type": "code",
   "execution_count": 14,
   "metadata": {},
   "outputs": [
    {
     "name": "stdout",
     "output_type": "stream",
     "text": [
      "64\n"
     ]
    }
   ],
   "source": [
    "n = int(input())\n",
    "k = 64\n",
    "while n % 2 == 0:\n",
    "    n //= 2\n",
    "    k -= 1\n",
    "print(k)\n",
    "\n"
   ]
  },
  {
   "cell_type": "code",
   "execution_count": null,
   "metadata": {},
   "outputs": [],
   "source": []
  }
 ],
 "metadata": {
  "interpreter": {
   "hash": "7812ea015bdcee6f23a998adcdd2ef97c151c0c241b7b7070987d9313e41299d"
  },
  "kernelspec": {
   "display_name": "Python 3.9.5 64-bit",
   "language": "python",
   "name": "python3"
  },
  "language_info": {
   "codemirror_mode": {
    "name": "ipython",
    "version": 3
   },
   "file_extension": ".py",
   "mimetype": "text/x-python",
   "name": "python",
   "nbconvert_exporter": "python",
   "pygments_lexer": "ipython3",
   "version": "3.9.5"
  },
  "orig_nbformat": 4
 },
 "nbformat": 4,
 "nbformat_minor": 2
}
