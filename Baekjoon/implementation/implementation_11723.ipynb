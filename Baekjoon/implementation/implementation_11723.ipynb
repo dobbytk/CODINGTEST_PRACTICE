{
 "cells": [
  {
   "cell_type": "markdown",
   "metadata": {},
   "source": [
    "```문제\n",
    "비어있는 공집합 S가 주어졌을 때, 아래 연산을 수행하는 프로그램을 작성하시오.\n",
    "\n",
    "add x: S에 x를 추가한다. (1 ≤ x ≤ 20) S에 x가 이미 있는 경우에는 연산을 무시한다.\n",
    "remove x: S에서 x를 제거한다. (1 ≤ x ≤ 20) S에 x가 없는 경우에는 연산을 무시한다.\n",
    "check x: S에 x가 있으면 1을, 없으면 0을 출력한다. (1 ≤ x ≤ 20)\n",
    "toggle x: S에 x가 있으면 x를 제거하고, 없으면 x를 추가한다. (1 ≤ x ≤ 20)\n",
    "all: S를 {1, 2, ..., 20} 으로 바꾼다.\n",
    "empty: S를 공집합으로 바꾼다. \n",
    "입력\n",
    "첫째 줄에 수행해야 하는 연산의 수 M (1 ≤ M ≤ 3,000,000)이 주어진다.\n",
    "\n",
    "둘째 줄부터 M개의 줄에 수행해야 하는 연산이 한 줄에 하나씩 주어진다.\n",
    "\n",
    "출력\n",
    "check 연산이 주어질때마다, 결과를 출력한다.\n",
    "\n",
    "예제 입력 1       예제 출력 1\n",
    "26              1\n",
    "add 1           1\n",
    "add 2           0\n",
    "check 1         1\n",
    "check 2         0\n",
    "check 3         1\n",
    "remove 2        0\n",
    "check 1         1\n",
    "check 2         0\n",
    "toggle 3        1\n",
    "check 1         1\n",
    "check 2         0\n",
    "check 3         0\n",
    "check 4         0\n",
    "all             1\n",
    "check 10        0\n",
    "check 20        \n",
    "toggle 10\n",
    "remove 20\n",
    "check 10\n",
    "check 20\n",
    "empty\n",
    "check 1\n",
    "toggle 1\n",
    "check 1\n",
    "toggle 1\n",
    "check 1\n",
    "```"
   ]
  },
  {
   "cell_type": "code",
   "execution_count": null,
   "metadata": {},
   "outputs": [],
   "source": [
    "import sys\n",
    "n = int(sys.stdin.readline())\n",
    "\n",
    "result = set()\n",
    "\n",
    "for i in range(n):\n",
    "    s = sys.stdin.readline().strip().split()\n",
    "    if len(s) == 1:\n",
    "        if s[0] == 'all':\n",
    "            result = set([i for i in range(1, 21)])\n",
    "        else:\n",
    "            result = set()\n",
    "    \n",
    "\n",
    "    else:\n",
    "        s[0], s[1] = s[0], int(s[1])\n",
    "        if s[0] == 'add':\n",
    "            result.add(s[1])\n",
    "        elif s[0] == 'check':\n",
    "            if s[1] in result:\n",
    "                print(1)\n",
    "            else:\n",
    "                print(0)\n",
    "        elif s[0] == 'remove':\n",
    "            result.discard(s[1])\n",
    "        elif s[0] == 'toggle':\n",
    "            if s[1] in result:\n",
    "                result.discard(s[1])\n",
    "            else:\n",
    "                result.add(s[1])\n",
    "        "
   ]
  }
 ],
 "metadata": {
  "interpreter": {
   "hash": "7812ea015bdcee6f23a998adcdd2ef97c151c0c241b7b7070987d9313e41299d"
  },
  "kernelspec": {
   "display_name": "Python 3.9.5 64-bit",
   "name": "python3"
  },
  "language_info": {
   "codemirror_mode": {
    "name": "ipython",
    "version": 3
   },
   "file_extension": ".py",
   "mimetype": "text/x-python",
   "name": "python",
   "nbconvert_exporter": "python",
   "pygments_lexer": "ipython3",
   "version": "3.9.5"
  },
  "orig_nbformat": 4
 },
 "nbformat": 4,
 "nbformat_minor": 2
}
