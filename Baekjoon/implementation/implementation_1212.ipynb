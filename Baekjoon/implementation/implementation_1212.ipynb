{
 "cells": [
  {
   "cell_type": "markdown",
   "metadata": {},
   "source": [
    "```\n",
    "문제\n",
    "8진수가 주어졌을 때, 2진수로 변환하는 프로그램을 작성하시오.\n",
    "\n",
    "입력\n",
    "첫째 줄에 8진수가 주어진다. 주어지는 수의 길이는 333,334을 넘지 않는다.\n",
    "\n",
    "출력\n",
    "첫째 줄에 주어진 수를 2진수로 변환하여 출력한다. 수가 0인 경우를 제외하고는 반드시 1로 시작해야 한다.\n",
    "\n",
    "예제 입력 1 \n",
    "314\n",
    "예제 출력 1 \n",
    "11001100\n",
    "```"
   ]
  },
  {
   "cell_type": "code",
   "execution_count": 14,
   "metadata": {},
   "outputs": [
    {
     "name": "stdout",
     "output_type": "stream",
     "text": [
      "11001100\n"
     ]
    }
   ],
   "source": [
    "n = int(input(), 8)\n",
    "print(bin(n)[2:])"
   ]
  }
 ],
 "metadata": {
  "interpreter": {
   "hash": "7812ea015bdcee6f23a998adcdd2ef97c151c0c241b7b7070987d9313e41299d"
  },
  "kernelspec": {
   "display_name": "Python 3.9.5 64-bit",
   "language": "python",
   "name": "python3"
  },
  "language_info": {
   "codemirror_mode": {
    "name": "ipython",
    "version": 3
   },
   "file_extension": ".py",
   "mimetype": "text/x-python",
   "name": "python",
   "nbconvert_exporter": "python",
   "pygments_lexer": "ipython3",
   "version": "3.9.5"
  },
  "orig_nbformat": 4
 },
 "nbformat": 4,
 "nbformat_minor": 2
}
