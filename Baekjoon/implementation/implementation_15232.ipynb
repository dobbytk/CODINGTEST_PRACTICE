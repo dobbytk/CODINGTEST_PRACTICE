{
 "cells": [
  {
   "cell_type": "markdown",
   "metadata": {},
   "source": [
    "```\n",
    "Read two integer numbers R and C from the standard input and then print R lines with C asterisks (*) each.\n",
    "\n",
    "Example (R=3, C=5):\n",
    "\n",
    "*****\n",
    "*****\n",
    "*****\n",
    "Example (R=2, C=10):\n",
    "\n",
    "**********\n",
    "**********\n",
    "입력\n",
    "The first line will contain an interger R. The number of lines to print.\n",
    "\n",
    "The second line will contain an integer C. The number of asterisks to print in each line.\n",
    "\n",
    "R, C will be at most 20.\n",
    "\n",
    "출력\n",
    "Print a rectangle of R lines and C columns.\n",
    "\n",
    "예제 입력 1 \n",
    "3\n",
    "5\n",
    "예제 출력 1 \n",
    "*****\n",
    "*****\n",
    "*****\n",
    "```"
   ]
  },
  {
   "cell_type": "code",
   "execution_count": 1,
   "metadata": {},
   "outputs": [
    {
     "name": "stdout",
     "output_type": "stream",
     "text": [
      "*****\n",
      "*****\n",
      "*****\n"
     ]
    }
   ],
   "source": [
    "n = int(input())\n",
    "m = int(input())\n",
    "\n",
    "for _ in range(n):\n",
    "    print('*' * m)"
   ]
  },
  {
   "cell_type": "code",
   "execution_count": null,
   "metadata": {},
   "outputs": [],
   "source": []
  }
 ],
 "metadata": {
  "interpreter": {
   "hash": "7812ea015bdcee6f23a998adcdd2ef97c151c0c241b7b7070987d9313e41299d"
  },
  "kernelspec": {
   "display_name": "Python 3.9.5 64-bit",
   "language": "python",
   "name": "python3"
  },
  "language_info": {
   "codemirror_mode": {
    "name": "ipython",
    "version": 3
   },
   "file_extension": ".py",
   "mimetype": "text/x-python",
   "name": "python",
   "nbconvert_exporter": "python",
   "pygments_lexer": "ipython3",
   "version": "3.9.5"
  },
  "orig_nbformat": 4
 },
 "nbformat": 4,
 "nbformat_minor": 2
}
