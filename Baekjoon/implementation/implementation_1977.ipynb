{
 "cells": [
  {
   "cell_type": "markdown",
   "metadata": {},
   "source": [
    "```\n",
    "문제\n",
    "M과 N이 주어질 때 M이상 N이하의 자연수 중 완전제곱수인 것을 모두 골라 그 합을 구하고 그 중 최솟값을 찾는 프로그램을 작성하시오. 예를 들어 M=60, N=100인 경우 60이상 100이하의 자연수 중 완전제곱수는 64, 81, 100 이렇게 총 3개가 있으므로 그 합은 245가 되고 이 중 최솟값은 64가 된다.\n",
    "\n",
    "입력\n",
    "첫째 줄에 M이, 둘째 줄에 N이 주어진다. M과 N은 10000이하의 자연수이며 M은 N보다 같거나 작다.\n",
    "\n",
    "출력\n",
    "M이상 N이하의 자연수 중 완전제곱수인 것을 모두 찾아 첫째 줄에 그 합을, 둘째 줄에 그 중 최솟값을 출력한다. 단, M이상 N이하의 자연수 중 완전제곱수가 없을 경우는 첫째 줄에 -1을 출력한다.\n",
    "\n",
    "예제 입력 1 \n",
    "60\n",
    "100\n",
    "예제 출력 1 \n",
    "245\n",
    "64\n",
    "예제 입력 2 \n",
    "75\n",
    "80\n",
    "예제 출력 2 \n",
    "-1\n",
    "```"
   ]
  },
  {
   "cell_type": "code",
   "execution_count": 33,
   "metadata": {},
   "outputs": [
    {
     "name": "stdout",
     "output_type": "stream",
     "text": [
      "245\n",
      "64\n"
     ]
    }
   ],
   "source": [
    "import math\n",
    "\n",
    "arr = []\n",
    "result = []\n",
    "\n",
    "for _ in range(2):\n",
    "    arr.append(int(input()))\n",
    "\n",
    "s1 = math.ceil(math.sqrt(arr[0]))\n",
    "s2 = math.trunc(math.sqrt(arr[1]))\n",
    "\n",
    "for i in range(s1, s2+1):\n",
    "    result.append(int(math.pow(i, 2)))\n",
    "\n",
    "if sum(result) == 0:\n",
    "    print(-1)\n",
    "else:\n",
    "    print(sum(result))\n",
    "    print(min(result))"
   ]
  }
 ],
 "metadata": {
  "interpreter": {
   "hash": "7812ea015bdcee6f23a998adcdd2ef97c151c0c241b7b7070987d9313e41299d"
  },
  "kernelspec": {
   "display_name": "Python 3.9.5 64-bit",
   "language": "python",
   "name": "python3"
  },
  "language_info": {
   "codemirror_mode": {
    "name": "ipython",
    "version": 3
   },
   "file_extension": ".py",
   "mimetype": "text/x-python",
   "name": "python",
   "nbconvert_exporter": "python",
   "pygments_lexer": "ipython3",
   "version": "3.9.5"
  },
  "orig_nbformat": 4
 },
 "nbformat": 4,
 "nbformat_minor": 2
}
