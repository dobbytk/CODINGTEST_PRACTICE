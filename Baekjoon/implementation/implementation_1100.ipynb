{
 "cells": [
  {
   "cell_type": "markdown",
   "metadata": {},
   "source": [
    "```\n",
    "문제\n",
    "체스판은 8×8크기이고, 검정 칸과 하얀 칸이 번갈아가면서 색칠되어 있다. 가장 왼쪽 위칸 (0,0)은 하얀색이다. 체스판의 상태가 주어졌을 때, 하얀 칸 위에 말이 몇 개 있는지 출력하는 프로그램을 작성하시오.\n",
    "\n",
    "입력\n",
    "첫째 줄부터 8개의 줄에 체스판의 상태가 주어진다. ‘.’은 빈 칸이고, ‘F’는 위에 말이 있는 칸이다.\n",
    "\n",
    "출력\n",
    "첫째 줄에 문제의 정답을 출력한다.\n",
    "\n",
    "예제 입력 1 \n",
    ".F.F...F\n",
    "F...F.F.\n",
    "...F.F.F\n",
    "F.F...F.\n",
    ".F...F..\n",
    "F...F.F.\n",
    ".F.F.F.F\n",
    "..FF..F.\n",
    "예제 출력 1 \n",
    "1\n",
    "예제 입력 2 \n",
    "........\n",
    "........\n",
    "........\n",
    "........\n",
    "........\n",
    "........\n",
    "........\n",
    "........\n",
    "예제 출력 2 \n",
    "0\n",
    "예제 입력 3 \n",
    "FFFFFFFF\n",
    "FFFFFFFF\n",
    "FFFFFFFF\n",
    "FFFFFFFF\n",
    "FFFFFFFF\n",
    "FFFFFFFF\n",
    "FFFFFFFF\n",
    "FFFFFFFF\n",
    "예제 출력 3 \n",
    "32\n",
    "예제 입력 4 \n",
    "........\n",
    "..F.....\n",
    ".....F..\n",
    ".....F..\n",
    "........\n",
    "........\n",
    ".......F\n",
    ".F......\n",
    "예제 출력 4 \n",
    "2\n",
    "\n",
    "```"
   ]
  },
  {
   "cell_type": "code",
   "execution_count": 9,
   "metadata": {},
   "outputs": [
    {
     "name": "stdout",
     "output_type": "stream",
     "text": [
      "0\n"
     ]
    }
   ],
   "source": [
    "chess = []\n",
    "cnt = 0\n",
    "\n",
    "for s in range(8):\n",
    "    chess.append(list(map(str, input())))\n",
    "\n",
    "for i in range(len(chess)):\n",
    "    # 짝수\n",
    "    if i % 2 == 0:\n",
    "        for j in range(0, len(chess[i]), 2):\n",
    "            if chess[i][j] == 'F':\n",
    "                cnt += 1\n",
    "    # 홀수\n",
    "    else:\n",
    "        for j in range(1, len(chess[i]), 2):\n",
    "            if chess[i][j] == 'F':\n",
    "                cnt +=1 \n",
    "\n",
    "print(cnt)        \n"
   ]
  },
  {
   "cell_type": "code",
   "execution_count": 7,
   "metadata": {},
   "outputs": [
    {
     "data": {
      "text/plain": [
       "[['.', '.', '.', '.', '.', '.', '.', '.'],\n",
       " ['.', '.', 'F', '.', '.', '.', '.', '.'],\n",
       " ['.', '.', '.', '.', '.', 'F', '.', '.'],\n",
       " ['.', '.', '.', '.', '.', 'F', '.', '.'],\n",
       " ['.', '.', '.', '.', '.', '.', '.', '.'],\n",
       " ['.', '.', '.', '.', '.', '.', '.', '.'],\n",
       " ['.', '.', '.', '.', '.', '.', '.', 'F'],\n",
       " ['.', 'F', '.', '.', '.', '.', '.', '.']]"
      ]
     },
     "execution_count": 7,
     "metadata": {},
     "output_type": "execute_result"
    }
   ],
   "source": [
    "chess"
   ]
  },
  {
   "cell_type": "code",
   "execution_count": null,
   "metadata": {},
   "outputs": [],
   "source": []
  }
 ],
 "metadata": {
  "interpreter": {
   "hash": "7812ea015bdcee6f23a998adcdd2ef97c151c0c241b7b7070987d9313e41299d"
  },
  "kernelspec": {
   "display_name": "Python 3.9.5 64-bit",
   "language": "python",
   "name": "python3"
  },
  "language_info": {
   "codemirror_mode": {
    "name": "ipython",
    "version": 3
   },
   "file_extension": ".py",
   "mimetype": "text/x-python",
   "name": "python",
   "nbconvert_exporter": "python",
   "pygments_lexer": "ipython3",
   "version": "3.9.5"
  },
  "orig_nbformat": 4
 },
 "nbformat": 4,
 "nbformat_minor": 2
}
