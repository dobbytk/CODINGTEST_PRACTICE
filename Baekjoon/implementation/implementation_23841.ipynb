{
 "cells": [
  {
   "cell_type": "markdown",
   "metadata": {},
   "source": [
    "```\n",
    "문제\n",
    "시험과 과제에 지친 희권이는 취미로 그림을 그리기 시작했다.\n",
    "\n",
    "\n",
    "\n",
    "하지만, 그림이 별로 마음에 들지 않아 데칼코마니로 바꾸려 한다.\n",
    "\n",
    "\n",
    "\n",
    "위에 보이는 것처럼 그림을 좌우 방향으로 반으로 포개어 접으면, 맞닿는 면에 물감이 번지면서 데칼코마니가 완성된다.\n",
    "\n",
    "접은 그림은 원래대로 되돌릴 수 없기 때문에 희권이는 결과를 미리 알고 싶어 한다.\n",
    "\n",
    "희권이에게 그림을 데칼코마니 한 결과를 알려주자.\n",
    "\n",
    "입력\n",
    "첫 줄에 그림의 세로 길이 정수 N과 가로 길이 정수 M이 주어진다. (1 ≤ N, M ≤ 50, M은 짝수)\n",
    "\n",
    "N개 줄에 M개씩 그림에 대한 정보가 주어진다.\n",
    "\n",
    "물감은 26가지가 있고, 각각 알파벳 대문자 하나로 나타낸다.\n",
    "\n",
    "그림에서 색칠한 곳은 물감에 해당하는 알파벳으로 빈 곳은 '.'으로 표현한다. 그림의 가로 길이는 짝수이고, 그림을 접었을 때 두 물감이 겹치는 경우는 없다.\n",
    "\n",
    "출력\n",
    "데칼코마니 한 그림을 N개의 줄에 걸쳐 출력한다.\n",
    "\n",
    "예제 입력 1 \n",
    "3 6\n",
    "G..R..\n",
    "..B...\n",
    "Y.....\n",
    "예제 출력 1 \n",
    "G.RR.G\n",
    "..BB..\n",
    "Y....Y\n",
    "```"
   ]
  },
  {
   "cell_type": "code",
   "execution_count": 21,
   "metadata": {},
   "outputs": [
    {
     "name": "stdout",
     "output_type": "stream",
     "text": [
      "G.RR.G\n",
      "..BB..\n",
      "Y....Y\n"
     ]
    }
   ],
   "source": [
    "N, M = list(map(int, input().split()))\n",
    "\n",
    "lst = []\n",
    "for _ in range(N):\n",
    "    lst.append(list(input()))\n",
    "\n",
    "for i in range(N):\n",
    "    for j in range(M):\n",
    "        if lst[i][j] != '.':\n",
    "            lst[i][M-j-1] = lst[i][j]\n",
    "\n",
    "for i in range(N):\n",
    "    print(''.join(lst[i]))\n",
    "            \n",
    "\n"
   ]
  }
 ],
 "metadata": {
  "interpreter": {
   "hash": "7812ea015bdcee6f23a998adcdd2ef97c151c0c241b7b7070987d9313e41299d"
  },
  "kernelspec": {
   "display_name": "Python 3.9.5 64-bit",
   "language": "python",
   "name": "python3"
  },
  "language_info": {
   "codemirror_mode": {
    "name": "ipython",
    "version": 3
   },
   "file_extension": ".py",
   "mimetype": "text/x-python",
   "name": "python",
   "nbconvert_exporter": "python",
   "pygments_lexer": "ipython3",
   "version": "3.9.5"
  },
  "orig_nbformat": 4
 },
 "nbformat": 4,
 "nbformat_minor": 2
}
