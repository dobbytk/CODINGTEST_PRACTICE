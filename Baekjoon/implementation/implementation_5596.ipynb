{
 "cells": [
  {
   "cell_type": "markdown",
   "metadata": {},
   "source": [
    "```\n",
    "문제\n",
    "대한고등학교에 재학 중인 민국이와 만세는 4과목(정보, 수학, 과학, 영어)에 대한 시험을 봤다. 민국이와 만세가 본 4과목의 점수를 입력하면, 민국이의 총점 S와 만세의 총점 T 중에서 큰 점수를 출력하는 프로그램을 작성하시오. 단, 서로 동점일 때는 민국이의 총점 S를 출력한다.\n",
    "\n",
    "입력\n",
    "입력은 2줄로 이루어져 있다.\n",
    "\n",
    "1번째 줄에는 순서대로 민국이의 정보, 수학, 과학, 영어 점수(정수형)가 있으며, 공백으로 구분되어 있다.\n",
    "\n",
    "2번째 줄에는 1번째 줄과 마찬가지로 순서대로 만세의 정보, 수학, 과학, 영어 점수(정수형)가 있고, 공백으로 구분되어 있다.\n",
    "\n",
    "출력\n",
    "문제에서 요구하는 정답을 출력한다.\n",
    "\n",
    "예제 입력 1 \n",
    "100 80 70 60\n",
    "80 70 80 90\n",
    "예제 출력 1 \n",
    "320\n",
    "예제 입력 2 \n",
    "100 80 70 60\n",
    "80 70 60 100\n",
    "예제 출력 2 \n",
    "310\n",
    "\n",
    "```"
   ]
  },
  {
   "cell_type": "code",
   "execution_count": null,
   "metadata": {},
   "outputs": [],
   "source": [
    "a = list(map(int, input().split()))\n",
    "b = list(map(int, input().split()))\n",
    "\n",
    "total_a = sum(a)\n",
    "total_b = sum(b)\n",
    "\n",
    "if total_a > total_b:\n",
    "    print(total_a)\n",
    "elif total_a < total_b:\n",
    "    print(total_b)\n",
    "else:\n",
    "    print(total_a)"
   ]
  }
 ],
 "metadata": {
  "language_info": {
   "name": "python"
  },
  "orig_nbformat": 4
 },
 "nbformat": 4,
 "nbformat_minor": 2
}
