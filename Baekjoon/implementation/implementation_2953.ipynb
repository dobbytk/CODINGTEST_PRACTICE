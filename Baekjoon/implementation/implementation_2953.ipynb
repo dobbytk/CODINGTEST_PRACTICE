{
 "cells": [
  {
   "cell_type": "markdown",
   "metadata": {},
   "source": [
    "```\n",
    "문제\n",
    "\"나는 요리사다\"는 다섯 참가자들이 서로의 요리 실력을 뽐내는 티비 프로이다. 각 참가자는 자신있는 음식을 하나씩 만들어오고, 서로 다른 사람의 음식을 점수로 평가해준다. 점수는 1점부터 5점까지 있다.\n",
    "\n",
    "각 참가자가 얻은 점수는 다른 사람이 평가해 준 점수의 합이다. 이 쇼의 우승자는 가장 많은 점수를 얻은 사람이 된다.\n",
    "\n",
    "각 참가자가 얻은 평가 점수가 주어졌을 때, 우승자와 그의 점수를 구하는 프로그램을 작성하시오.\n",
    "\n",
    "입력\n",
    "총 다섯 개 줄에 각 참가자가 얻은 네 개의 평가 점수가 공백으로 구분되어 주어진다. 첫 번째 참가자부터 다섯 번째 참가자까지 순서대로 주어진다. 항상 우승자가 유일한 경우만 입력으로 주어진다.\n",
    "\n",
    "출력\n",
    "첫째 줄에 우승자의 번호와 그가 얻은 점수를 출력한다.\n",
    "\n",
    "예제 입력 1 \n",
    "5 4 4 5\n",
    "5 4 4 4\n",
    "5 5 4 4\n",
    "5 5 5 4\n",
    "4 4 4 5\n",
    "예제 출력 1 \n",
    "4 19\n",
    "예제 입력 2 \n",
    "4 4 3 3\n",
    "5 4 3 5\n",
    "5 5 2 4\n",
    "5 5 5 1\n",
    "4 4 4 4\n",
    "예제 출력 2 \n",
    "2 17\n",
    "```"
   ]
  },
  {
   "cell_type": "code",
   "execution_count": 2,
   "metadata": {},
   "outputs": [
    {
     "name": "stdout",
     "output_type": "stream",
     "text": [
      "4\n",
      "19\n"
     ]
    }
   ],
   "source": [
    "arr = []\n",
    "\n",
    "for _ in range(5):\n",
    "    s = sum(list(map(int, input().split())))\n",
    "    arr.append(s)\n",
    "\n",
    "print(arr.index(max(arr)) + 1)\n",
    "print(max(arr))"
   ]
  }
 ],
 "metadata": {
  "interpreter": {
   "hash": "7812ea015bdcee6f23a998adcdd2ef97c151c0c241b7b7070987d9313e41299d"
  },
  "kernelspec": {
   "display_name": "Python 3.9.5 64-bit",
   "language": "python",
   "name": "python3"
  },
  "language_info": {
   "codemirror_mode": {
    "name": "ipython",
    "version": 3
   },
   "file_extension": ".py",
   "mimetype": "text/x-python",
   "name": "python",
   "nbconvert_exporter": "python",
   "pygments_lexer": "ipython3",
   "version": "3.9.5"
  },
  "orig_nbformat": 4
 },
 "nbformat": 4,
 "nbformat_minor": 2
}
