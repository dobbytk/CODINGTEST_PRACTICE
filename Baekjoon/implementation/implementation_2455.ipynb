{
 "cells": [
  {
   "cell_type": "markdown",
   "metadata": {},
   "source": [
    "```\n",
    "문제\n",
    "최근에 개발된 지능형 기차가 1번역(출발역)부터 4번역(종착역)까지 4개의 정차역이 있는 노선에서 운행되고 있다. 이 기차에는 타거나 내리는 사람 수를 자동으로 인식할 수 있는 장치가 있다. 이 장치를 이용하여 출발역에서 종착역까지 가는 도중 기차 안에 사람이 가장 많을 때의 사람 수를 계산하려고 한다. 단, 이 기차를 이용하는 사람들은 질서 의식이 투철하여, 역에서 기차에 탈 때, 내릴 사람이 모두 내린 후에 기차에 탄다고 가정한다.\n",
    "\n",
    "\n",
    "\n",
    " \t        내린 사람 수\t탄 사람 수\n",
    "1번역(출발역)\t  0\t         32\n",
    "2번역\t         3\t         13\n",
    "3번역\t         28\t         25\n",
    "4번역(종착역)\t  39\t       0 \n",
    "예를 들어, 위와 같은 경우를 살펴보자. 이 경우, 기차 안에 사람이 가장 많은 때는 2번역에서 3명의 사람이 기차에서 내리고, 13명의 사람이 기차에 탔을 때로, 총 42명의 사람이 기차 안에 있다.\n",
    "\n",
    "이 기차는 다음 조건을 만족하면서 운행된다고 가정한다.\n",
    "\n",
    "기차는 역 번호 순서대로 운행한다.\n",
    "출발역에서 내린 사람 수와 종착역에서 탄 사람 수는 0이다.\n",
    "각 역에서 현재 기차에 있는 사람보다 더 많은 사람이 내리는 경우는 없다.\n",
    "기차의 정원은 최대 10,000명이고, 정원을 초과하여 타는 경우는 없다.\n",
    "4개의 역에 대해 기차에서 내린 사람 수와 탄 사람 수가 주어졌을 때, 기차에 사람이 가장 많을 때의 사람 수를 계산하는 프로그램을 작성하시오.\n",
    "\n",
    "입력\n",
    "각 역에서 내린 사람 수와 탄 사람 수가 빈칸을 사이에 두고 첫째 줄부터 넷째 줄까지 역 순서대로 한 줄에 하나씩 주어진다. \n",
    "\n",
    "출력\n",
    "첫째 줄에 최대 사람 수를 출력한다.  \n",
    "\n",
    "예제 입력 1 \n",
    "0 32\n",
    "3 13\n",
    "28 25\n",
    "39 0\n",
    "예제 출력 1 \n",
    "42\n",
    "```"
   ]
  },
  {
   "cell_type": "code",
   "execution_count": 2,
   "metadata": {},
   "outputs": [],
   "source": [
    "ppl = 0\n",
    "arr = []\n",
    "\n",
    "for _ in range(4):\n",
    "    a, b = map(int, input().split())\n",
    "    ppl = ppl - a + b\n",
    "    arr.append(ppl)\n",
    "\n",
    "print(max(arr))"
   ]
  }
 ],
 "metadata": {
  "interpreter": {
   "hash": "7812ea015bdcee6f23a998adcdd2ef97c151c0c241b7b7070987d9313e41299d"
  },
  "kernelspec": {
   "display_name": "Python 3.9.5 64-bit",
   "language": "python",
   "name": "python3"
  },
  "language_info": {
   "codemirror_mode": {
    "name": "ipython",
    "version": 3
   },
   "file_extension": ".py",
   "mimetype": "text/x-python",
   "name": "python",
   "nbconvert_exporter": "python",
   "pygments_lexer": "ipython3",
   "version": "3.9.5"
  },
  "orig_nbformat": 4
 },
 "nbformat": 4,
 "nbformat_minor": 2
}
