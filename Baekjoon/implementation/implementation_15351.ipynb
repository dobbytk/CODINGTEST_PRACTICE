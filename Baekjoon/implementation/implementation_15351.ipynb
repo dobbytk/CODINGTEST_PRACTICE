{
 "cells": [
  {
   "cell_type": "markdown",
   "metadata": {},
   "source": [
    "```\n",
    "문제\n",
    "어떤 사람이 무엇을 즐기느냐에 따라 그 사람의 인생 점수를 측정할 수 있다. A를 1점, B를 2점, ... , Z를 26점으로 해, 즐기는 것의 이름의 알파벳 점수를 모두 더하면 된다. 예를 들어, \"OTAKU LIFE\" 는 O = 15, T = 20, A = 1, K = 11, U = 21, L = 12, I = 9, F = 6, E = 5 로 모두 더하면 100점이 된다(띄어쓰기는 무시). 하지만 \"GAMING LIFE\"는 총 83점으로 부족한 삶이고, \"PROGRAMMING\"은 131점으로 너무 힘든 삶을 살고 있다. 여러분이 할 것은 여러 개의 즐기는 것 리스트를 입력받아, 그것이 각 몇 점짜리 인생인지를 계산하는 것이다.\n",
    "\n",
    "입력\n",
    "첫 번째 줄에 즐기는 것의 개수 N이 주어진다. 뒤의 N개 줄에는 즐기는 것의 이름이 모두 영어 대문자와 띄어쓰기로 적혀 있다. 이는 30자를 넘지 않는다.\n",
    "\n",
    "출력\n",
    "각 줄에 인생 점수를 입력받은 대로 출력한다. 만약 100점이라면 100 대신 \"PERFECT LIFE\" 를 출력한다.\n",
    "\n",
    "예제 입력 1 \n",
    "4\n",
    "OTAKU LIFE\n",
    "PRODUCER\n",
    "GAMING LIFE\n",
    "PROGRAMMING\n",
    "예제 출력 1 \n",
    "PERFECT LIFE\n",
    "PERFECT LIFE\n",
    "83\n",
    "131\n",
    "```"
   ]
  },
  {
   "cell_type": "code",
   "execution_count": 9,
   "metadata": {},
   "outputs": [
    {
     "name": "stdout",
     "output_type": "stream",
     "text": [
      "PERFECT LIFE\n",
      "PERFECT LIFE\n",
      "83\n",
      "131\n"
     ]
    }
   ],
   "source": [
    "n = int(input())\n",
    "\n",
    "for _ in range(n):\n",
    "    result = 0\n",
    "    s = input()\n",
    "    for c in s:\n",
    "        if c == ' ':\n",
    "            pass\n",
    "        else:\n",
    "            result += ord(c) - 64\n",
    "    \n",
    "    if result == 100:\n",
    "        print('PERFECT LIFE')\n",
    "    else:\n",
    "        print(result)"
   ]
  }
 ],
 "metadata": {
  "interpreter": {
   "hash": "7812ea015bdcee6f23a998adcdd2ef97c151c0c241b7b7070987d9313e41299d"
  },
  "kernelspec": {
   "display_name": "Python 3.9.5 64-bit",
   "language": "python",
   "name": "python3"
  },
  "language_info": {
   "codemirror_mode": {
    "name": "ipython",
    "version": 3
   },
   "file_extension": ".py",
   "mimetype": "text/x-python",
   "name": "python",
   "nbconvert_exporter": "python",
   "pygments_lexer": "ipython3",
   "version": "3.9.5"
  },
  "orig_nbformat": 4
 },
 "nbformat": 4,
 "nbformat_minor": 2
}
