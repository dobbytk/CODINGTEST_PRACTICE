{
 "cells": [
  {
   "cell_type": "markdown",
   "metadata": {},
   "source": [
    "```\n",
    "문제\n",
    "Given a sentence in English, output the counts of consonants and vowels.\n",
    "\n",
    "Vowels are letters in [’A’,’E’,’I’,’O’,’U’,’a’,’e’,’i’,’o’,’u’].\n",
    "\n",
    "입력\n",
    "The test file starts with an integer S(1 ≤ S ≤ 100), the number of sentences.\n",
    "\n",
    "Then follow S lines, each containing a sentence - words of length 1 to 20 separated by spaces. Every sentence will contain at least one word and be comprised only of characters [a-z][A-Z] and spaces. No sentence will be longer than 1000 characters.\n",
    "\n",
    "출력\n",
    "For each sentence, output the number of consonants and vowels on a line, separated by space.\n",
    "\n",
    "예제 입력 1 \n",
    "3\n",
    "You can win this thing\n",
    "May be too optimistic\n",
    "Just try to have fun\n",
    "예제 출력 1 \n",
    "12 6\n",
    "10 8\n",
    "11 5\n",
    "```"
   ]
  },
  {
   "cell_type": "code",
   "execution_count": 8,
   "metadata": {},
   "outputs": [
    {
     "name": "stdout",
     "output_type": "stream",
     "text": [
      "12 6\n",
      "10 8\n",
      "11 5\n"
     ]
    }
   ],
   "source": [
    "n = int(input())\n",
    "vowel = ['a', 'e', 'i', 'o', 'u']\n",
    "\n",
    "for _ in range(n):\n",
    "    s = input().lower()\n",
    "    v_cnt = 0\n",
    "    c_cnt = 0\n",
    "    for c in s:\n",
    "        if c == ' ':\n",
    "            pass\n",
    "        elif c.isalpha() and c in vowel:\n",
    "            v_cnt += 1\n",
    "        else:\n",
    "            c_cnt += 1\n",
    "\n",
    "    print(c_cnt, end=' ')\n",
    "    print(v_cnt)"
   ]
  },
  {
   "cell_type": "code",
   "execution_count": null,
   "metadata": {},
   "outputs": [],
   "source": []
  }
 ],
 "metadata": {
  "interpreter": {
   "hash": "7812ea015bdcee6f23a998adcdd2ef97c151c0c241b7b7070987d9313e41299d"
  },
  "kernelspec": {
   "display_name": "Python 3.9.5 64-bit",
   "language": "python",
   "name": "python3"
  },
  "language_info": {
   "codemirror_mode": {
    "name": "ipython",
    "version": 3
   },
   "file_extension": ".py",
   "mimetype": "text/x-python",
   "name": "python",
   "nbconvert_exporter": "python",
   "pygments_lexer": "ipython3",
   "version": "3.9.5"
  },
  "orig_nbformat": 4
 },
 "nbformat": 4,
 "nbformat_minor": 2
}
