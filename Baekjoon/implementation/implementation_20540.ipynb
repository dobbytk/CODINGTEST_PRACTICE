{
 "cells": [
  {
   "cell_type": "markdown",
   "metadata": {},
   "source": [
    "```\n",
    "문제\n",
    "졸업을 앞둔 연길이는 크리스마스가 다가올수록 외로움을 느낀다.\n",
    "\n",
    "그런 연길이를 위해 동우는 소개팅을 시켜주지는 않고 연길이의 이상향을 찾는 것을 도와주고자 한다.\n",
    "\n",
    "MBTI 신봉자인 연길이는 자신과 정반대인 사람에게 매력을 느낀다. 즉, MBTI의 네가지 지표가 모두 자신과 반대인 사람이 연길이의 이상형이다.\n",
    "\n",
    "MBTI는 다음과 같은 네 가지 척도로 성격을 표시한다. 각각의 척도는 두 가지 극이 되는 성격으로 이루어져 있다.\n",
    "\n",
    "지표\t설명\n",
    "외향(Extroversion)\t내향(Introversion)\t선호하는 세계:세상과 타인 / 내면 세계\n",
    "감각(Sensation)\t직관(iNtuition)\t인식형태: 실제적인 인식/ 실제 너머로 인식\n",
    "사고(Thinking)\t감정(Feeling)\t판단기준: 사실과 진실 위주 / 관계와 사람 위주\n",
    "판단(Judging)\t인식(Perceiving)\t생활양식: 계획적인 생활 / 즉흥적인 생활\n",
    "네 가지 척도마다 두 가지 경우가 존재하므로, 총 16가지의 유형이 만들어진다. 유형은 각 경우를 나타내는 알파벳 한 글자씩을 따서 네 글자로 표시한다. 다음은 MBTI의 유형들이다.\n",
    "\n",
    "구분\t감각/사고\t감각/감정\t직관/감정\t직관/사고\n",
    "내향/판단\tISTJ\tISFJ\tINFJ\tINTJ\n",
    "내향/인식\tISTP\tISFP\tINFP\tINTP\n",
    "외향/인식\tESTP\tESFP\tENFP\tENTP\n",
    "외향/판단\tESTJ\tESFJ\tENFJ\tENTJ\n",
    "연길이가 자신의 이상향을 무사히 찾을 수 있도록 도와주자!\n",
    "\n",
    "입력\n",
    "연길이의 MBTI 4글자가 대문자로 주어진다.\n",
    "\n",
    "출력\n",
    "연길이의 이상형에 해당하는 MBTI 4글자를  대문자로 출력한다.\n",
    "\n",
    "예제 입력 1 \n",
    "ESTJ\n",
    "예제 출력 1 \n",
    "INFP\n",
    "예제 입력 2 \n",
    "INFP\n",
    "예제 출력 2 \n",
    "ESTJ\n",
    "```"
   ]
  },
  {
   "cell_type": "code",
   "execution_count": 2,
   "metadata": {},
   "outputs": [
    {
     "name": "stdout",
     "output_type": "stream",
     "text": [
      "INFP\n"
     ]
    }
   ],
   "source": [
    "mbti = {'E' : 'I',\n",
    "        'I' : 'E',\n",
    "        'S' : 'N',\n",
    "        'N' : 'S',\n",
    "        'F' : 'T',\n",
    "        'T' : 'F',\n",
    "        'J' : 'P',\n",
    "        'P' : 'J'\n",
    "        }\n",
    "\n",
    "s = input()\n",
    "result = ''\n",
    "\n",
    "for c in s:\n",
    "    result += mbti[c]\n",
    "print(result)    \n"
   ]
  },
  {
   "cell_type": "code",
   "execution_count": null,
   "metadata": {},
   "outputs": [],
   "source": []
  }
 ],
 "metadata": {
  "kernelspec": {
   "display_name": "Python 3.9.5 64-bit",
   "language": "python",
   "name": "python3"
  },
  "language_info": {
   "codemirror_mode": {
    "name": "ipython",
    "version": 3
   },
   "file_extension": ".py",
   "mimetype": "text/x-python",
   "name": "python",
   "nbconvert_exporter": "python",
   "pygments_lexer": "ipython3",
   "version": "3.9.5"
  },
  "orig_nbformat": 4,
  "vscode": {
   "interpreter": {
    "hash": "7812ea015bdcee6f23a998adcdd2ef97c151c0c241b7b7070987d9313e41299d"
   }
  }
 },
 "nbformat": 4,
 "nbformat_minor": 2
}
