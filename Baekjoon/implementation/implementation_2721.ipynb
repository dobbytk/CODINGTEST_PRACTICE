{
 "cells": [
  {
   "cell_type": "markdown",
   "metadata": {},
   "source": [
    "```\n",
    "문제\n",
    "n번째 삼각수, T(n)은 1부터 n까지의 합이다. T(n) = 1 + ... + n. 이것은 삼각형 모양으로 표현할 수 있다. 아래 그림은 T(4)를 나타낸 것이다.\n",
    "\n",
    "다음과 같은 식을 통해 가중치를 부여한 삼각수의 합을 구할 수 있다.\n",
    "\n",
    "W(n) = Sum[k=1..n; k*T(k+1)]\n",
    "\n",
    "n이 주어졌을 때, W(n)을 구하는 프로그램을 작성하시오.\n",
    "\n",
    "입력\n",
    "첫째 줄에 테스트 케이스의 개수 T가 주어진다. 각 테스트 케이스는 정수 n 하나로 이루어져 있다. (1<=n<=300)\n",
    "\n",
    "출력\n",
    "각 테스트 케이스에 대해 W(n)을 한 줄에 하나씩 출력한다.\n",
    "\n",
    "예제 입력 1 \n",
    "4\n",
    "3\n",
    "4\n",
    "5\n",
    "10\n",
    "예제 출력 1 \n",
    "45\n",
    "105\n",
    "210\n",
    "2145\n",
    "```"
   ]
  },
  {
   "cell_type": "code",
   "execution_count": 6,
   "metadata": {},
   "outputs": [
    {
     "name": "stdout",
     "output_type": "stream",
     "text": [
      "45\n",
      "105\n",
      "210\n",
      "2145\n"
     ]
    }
   ],
   "source": [
    "n = int(input())\n",
    "\n",
    "def T(n):\n",
    "    k = 0\n",
    "    for i in range(1, n + 1):\n",
    "        k += i\n",
    "    return k\n",
    "\n",
    "for _ in range(n):\n",
    "    answer = 0\n",
    "    k = int(input())\n",
    "    for j in range(1, k + 1):\n",
    "        answer += j * T(j + 1)\n",
    "    print(answer)\n"
   ]
  },
  {
   "cell_type": "code",
   "execution_count": null,
   "metadata": {},
   "outputs": [],
   "source": []
  }
 ],
 "metadata": {
  "interpreter": {
   "hash": "7812ea015bdcee6f23a998adcdd2ef97c151c0c241b7b7070987d9313e41299d"
  },
  "kernelspec": {
   "display_name": "Python 3.9.5 64-bit",
   "language": "python",
   "name": "python3"
  },
  "language_info": {
   "codemirror_mode": {
    "name": "ipython",
    "version": 3
   },
   "file_extension": ".py",
   "mimetype": "text/x-python",
   "name": "python",
   "nbconvert_exporter": "python",
   "pygments_lexer": "ipython3",
   "version": "3.9.5"
  },
  "orig_nbformat": 4
 },
 "nbformat": 4,
 "nbformat_minor": 2
}
