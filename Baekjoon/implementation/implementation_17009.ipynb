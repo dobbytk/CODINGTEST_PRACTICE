{
 "cells": [
  {
   "cell_type": "markdown",
   "metadata": {},
   "source": [
    "```\n",
    "문제\n",
    "You record all of the scoring activity at a basketball game. Points are scored by a 3-point shot, a 2-point field goal, or a 1-point free throw.\n",
    "\n",
    "You know the number of each of these types of scoring for the two teams: the Apples and the Bananas. Your job is to determine which team won, or if the game ended in a tie.\n",
    "\n",
    "입력\n",
    "The first three lines of input describe the scoring of the Apples, and the next three lines of input describe the scoring of the Bananas. For each team, the first line contains the number of successful 3-point shots, the second line contains the number of successful 2-point field goals, and the third line contains the number of successful 1-point free throws. Each number will be an integer between 0 and 100, inclusive.\n",
    "\n",
    "출력\n",
    "The output will be a single character. If the Apples scored more points than the Bananas, output 'A'. If the Bananas scored more points than the Apples, output 'B'. Otherwise, output 'T', to indicate a tie.\n",
    "\n",
    "예제 입력 1 \n",
    "10\n",
    "3\n",
    "7\n",
    "8\n",
    "9\n",
    "6\n",
    "예제 출력 1 \n",
    "B\n",
    "The Apples scored 10⋅3+3⋅2+7⋅1 = 43 points and the Bananas scored 8⋅3+9⋅2+6⋅1 = 48 points, and thus the Bananas won.\n",
    "\n",
    "예제 입력 2 \n",
    "7\n",
    "3\n",
    "0\n",
    "6\n",
    "4\n",
    "1\n",
    "예제 출력 2 \n",
    "T\n",
    "The Apples scored 7⋅3+3⋅2+0⋅1 = 27 points and the Bananas scored 6⋅3+4⋅2+1⋅1 = 27 points, and thus it was a tie game.\n",
    "```"
   ]
  },
  {
   "cell_type": "code",
   "execution_count": 2,
   "metadata": {},
   "outputs": [
    {
     "name": "stdout",
     "output_type": "stream",
     "text": [
      "B\n"
     ]
    }
   ],
   "source": [
    "Apples = 0\n",
    "Bananas = 0\n",
    "Apples_score = 3\n",
    "Bananas_score = 3\n",
    "\n",
    "for _ in range(3):\n",
    "    k = int(input())\n",
    "    Apples += Apples_score * k\n",
    "    Apples_score -= 1\n",
    "\n",
    "for _ in range(3):\n",
    "    k = int(input())\n",
    "    Bananas += Bananas_score * k\n",
    "    Bananas_score -= 1\n",
    "\n",
    "if Bananas == Apples:\n",
    "    print('T')\n",
    "elif Bananas > Apples:\n",
    "    print('B')\n",
    "else:\n",
    "    print('A')\n",
    "    \n",
    "\n"
   ]
  },
  {
   "cell_type": "code",
   "execution_count": null,
   "metadata": {},
   "outputs": [],
   "source": []
  }
 ],
 "metadata": {
  "interpreter": {
   "hash": "7812ea015bdcee6f23a998adcdd2ef97c151c0c241b7b7070987d9313e41299d"
  },
  "kernelspec": {
   "display_name": "Python 3.9.5 64-bit",
   "language": "python",
   "name": "python3"
  },
  "language_info": {
   "codemirror_mode": {
    "name": "ipython",
    "version": 3
   },
   "file_extension": ".py",
   "mimetype": "text/x-python",
   "name": "python",
   "nbconvert_exporter": "python",
   "pygments_lexer": "ipython3",
   "version": "3.9.5"
  },
  "orig_nbformat": 4
 },
 "nbformat": 4,
 "nbformat_minor": 2
}
