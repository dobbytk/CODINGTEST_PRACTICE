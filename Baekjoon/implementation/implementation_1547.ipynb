{
 "cells": [
  {
   "cell_type": "markdown",
   "metadata": {},
   "source": [
    "```\n",
    "문제\n",
    "세준이는 컵 3개를 탁자 위에 일렬로 엎어놓았다. 컵의 번호는 맨 왼쪽 컵부터 순서대로 1번, 2번 3번이고, 세준이는 이 컵을 이용해서 게임을 하려고 한다.\n",
    "\n",
    "먼저 1번 컵의 아래에 공을 하나 넣는다. 세준이는 두 컵을 고른 다음, 그 위치를 맞바꾸려고 한다. 예를 들어, 고른 컵이 1번과 2번이라면, 1번 컵이 있던 위치에 2번 컵을 이동시키고, 동시에 2번 컵이 있던 위치에 1번 컵을 이동시켜야 한다. 이때 공은 움직이지 않기 때문에, 공의 위치는 맨 처음 1번 컵이 있던 위치와 같다.\n",
    "\n",
    "세준이는 컵의 위치를 총 M번 바꿀 것이며, 컵의 위치를 바꾼 방법이 입력으로 주어진다. 위치를 M번 바꾼 이후에 공이 들어있는 컵의 번호를 구하는 프로그램을 작성하시오.\n",
    "\n",
    "입력\n",
    "첫째 줄에 컵의 위치를 바꾼 횟수 M이 주어지며, M은 50보다 작거나 같은 자연수이다. 둘째 줄부터 M개의 줄에는 컵의 위치를 바꾼 방법 X와 Y가 주어지며, X번 컵과 Y번 컵의 위치를 서로 바꾸는 것을 의미한다. X와 Y의 값은 3보다 작거나 같고, X와 Y가 같을 수도 있다.\n",
    "\n",
    "컵을 이동시킨 후에 공이 컵 바깥에 있는 경우는 없다.\n",
    "\n",
    "출력\n",
    "첫째 줄에 공이 들어있는 컵의 번호를 출력한다. 공이 사라져서 컵 밑에 없는 경우에는 -1을 출력한다.\n",
    "\n",
    "예제 입력 1 \n",
    "4\n",
    "3 1\n",
    "2 3\n",
    "3 1\n",
    "3 2\n",
    "예제 출력 1 \n",
    "3\n",
    "예제 입력 2 \n",
    "2\n",
    "1 2\n",
    "3 1\n",
    "예제 출력 2 \n",
    "2\n",
    "예제 입력 3 \n",
    "5\n",
    "2 3\n",
    "1 3\n",
    "2 3\n",
    "2 1\n",
    "3 1\n",
    "예제 출력 3 \n",
    "3\n",
    "예제 입력 4 \n",
    "9\n",
    "1 2\n",
    "3 2\n",
    "1 2\n",
    "2 1\n",
    "2 1\n",
    "3 2\n",
    "1 3\n",
    "3 1\n",
    "1 2\n",
    "예제 출력 4 \n",
    "1\n",
    "```"
   ]
  },
  {
   "cell_type": "code",
   "execution_count": 1,
   "metadata": {},
   "outputs": [
    {
     "name": "stdout",
     "output_type": "stream",
     "text": [
      "2\n"
     ]
    }
   ],
   "source": [
    "n = int(input())\n",
    "\n",
    "cup = [1, 2, 3]\n",
    "\n",
    "for _ in range(n):\n",
    "    x, y = map(int, input().split())\n",
    "\n",
    "    xi = cup.index(x)\n",
    "    yi = cup.index(y)\n",
    "\n",
    "    cup[xi], cup[yi] = cup[yi], cup[xi]\n",
    "\n",
    "print(cup[0])\n"
   ]
  },
  {
   "cell_type": "code",
   "execution_count": null,
   "metadata": {},
   "outputs": [],
   "source": []
  }
 ],
 "metadata": {
  "interpreter": {
   "hash": "7812ea015bdcee6f23a998adcdd2ef97c151c0c241b7b7070987d9313e41299d"
  },
  "kernelspec": {
   "display_name": "Python 3.9.5 64-bit",
   "language": "python",
   "name": "python3"
  },
  "language_info": {
   "codemirror_mode": {
    "name": "ipython",
    "version": 3
   },
   "file_extension": ".py",
   "mimetype": "text/x-python",
   "name": "python",
   "nbconvert_exporter": "python",
   "pygments_lexer": "ipython3",
   "version": "3.9.5"
  },
  "orig_nbformat": 4
 },
 "nbformat": 4,
 "nbformat_minor": 2
}
