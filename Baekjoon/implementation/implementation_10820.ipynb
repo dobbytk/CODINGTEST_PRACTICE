{
 "cells": [
  {
   "cell_type": "markdown",
   "metadata": {},
   "source": [
    "```\n",
    "문제\n",
    "문자열 N개가 주어진다. 이때, 문자열에 포함되어 있는 소문자, 대문자, 숫자, 공백의 개수를 구하는 프로그램을 작성하시오.\n",
    "\n",
    "각 문자열은 알파벳 소문자, 대문자, 숫자, 공백으로만 이루어져 있다.\n",
    "\n",
    "입력\n",
    "첫째 줄부터 N번째 줄까지 문자열이 주어진다. (1 ≤ N ≤ 100) 문자열의 길이는 100을 넘지 않는다.\n",
    "\n",
    "출력\n",
    "첫째 줄부터 N번째 줄까지 각각의 문자열에 대해서 소문자, 대문자, 숫자, 공백의 개수를 공백으로 구분해 출력한다.\n",
    "\n",
    "예제 입력 1 \n",
    "This is String\n",
    "SPACE    1    SPACE\n",
    " S a M p L e I n P u T     \n",
    "0L1A2S3T4L5I6N7E8\n",
    "예제 출력 1 \n",
    "10 2 0 2\n",
    "0 10 1 8\n",
    "5 6 0 16\n",
    "0 8 9 0\n",
    "```"
   ]
  },
  {
   "cell_type": "code",
   "execution_count": null,
   "metadata": {},
   "outputs": [],
   "source": [
    "def solution(string):\n",
    "    result = []\n",
    "    upper = 0\n",
    "    lower = 0\n",
    "    space = 0\n",
    "    num = 0\n",
    "\n",
    "    for c in string:\n",
    "        if c.isdigit():\n",
    "            num += 1\n",
    "        elif c.isupper():\n",
    "            upper += 1\n",
    "        elif c.islower():\n",
    "            lower += 1\n",
    "        else:\n",
    "            space += 1\n",
    "\n",
    "    result.append(str(lower))\n",
    "    result.append(str(upper))\n",
    "    result.append(str(num))\n",
    "    result.append(str(space))\n",
    "\n",
    "    return ' '.join(result)\n",
    "\n",
    "while True:\n",
    "    try:\n",
    "        s = input()\n",
    "        answer = solution(s)\n",
    "\n",
    "        if answer == -1:\n",
    "            break\n",
    "        else:\n",
    "            print(answer)\n",
    "    except EOFError:\n",
    "        break"
   ]
  }
 ],
 "metadata": {
  "interpreter": {
   "hash": "7812ea015bdcee6f23a998adcdd2ef97c151c0c241b7b7070987d9313e41299d"
  },
  "kernelspec": {
   "display_name": "Python 3.9.5 64-bit",
   "language": "python",
   "name": "python3"
  },
  "language_info": {
   "codemirror_mode": {
    "name": "ipython",
    "version": 3
   },
   "file_extension": ".py",
   "mimetype": "text/x-python",
   "name": "python",
   "nbconvert_exporter": "python",
   "pygments_lexer": "ipython3",
   "version": "3.9.5"
  },
  "orig_nbformat": 4
 },
 "nbformat": 4,
 "nbformat_minor": 2
}
