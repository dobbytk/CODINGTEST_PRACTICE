{
 "cells": [
  {
   "cell_type": "markdown",
   "metadata": {},
   "source": [
    "```\n",
    "문제\n",
    "JOI 상사는 직원의 근무시간을 타임 카드로 관리하고있다. 직원들은 전용 장비를 사용하여 타임 카드에 출근 시간을 기록한다. 근무를 마치고 퇴근할 때도 타임 카드에 퇴근 시간을 기록한다. 타임카드에서 사용하는 시간단위는 24 시간제를 사용한다.\n",
    "\n",
    "보안상의 이유로 직원들의 출근 시간은 7시 이후이다. 또한, 모든 직원은 23시 이전에 퇴근한다. 직원의 퇴근 시간은 항상 출근 시간보다 늦다.\n",
    "\n",
    "입력으로 JOI 상사의 3 명의 직원 A 씨, B 씨, C 씨의 출근 시간과 퇴근 시간이 주어 졌을 때 각 직원의 근무시간을 계산하는 프로그램을 작성하라.\n",
    "\n",
    "입력\n",
    "입력은 3 행으로 구성된다.\n",
    "\n",
    "첫 번째 줄에는 A 씨의 출근 시간과 퇴근 시간,\n",
    "\n",
    "두 번째 줄에는 B 씨의 출근 시간과 퇴근 시간,\n",
    "\n",
    "세 번째 줄에는 C 씨의 출근 시간과 퇴근 시간이 각각 공백으로 구분되어 있다.\n",
    "\n",
    "시간은 각각 공백으로 구분된 3 개의 정수로 쓰여져있다.\n",
    "\n",
    "3 개의 정수 h(7 ≦ h ≦ 22), m(0 ≦ m ≦ 59), s(0 ≦ s ≦ 59)는 h시 m 분 s 초를 나타낸다.\n",
    "\n",
    "출력\n",
    "첫 번째 줄에 A 씨의 근무 시간,\n",
    "\n",
    "두 번째 줄에 B 씨의 근무 시간,\n",
    "\n",
    "세 번째 줄에 C 씨의 근무 시간을 출력하라.\n",
    "\n",
    "근무 시간이 h 시간 m 분 s 초이면 h, m, s의 순으로 공백으로 분리하여 출력하라.\n",
    "\n",
    "예제 입력 1 \n",
    "9 0 0 18 0 0\n",
    "9 0 1 18 0 0\n",
    "12 14 52 12 15 30\n",
    "예제 출력 1 \n",
    "9 0 0\n",
    "8 59 59\n",
    "0 0 38\n",
    "```"
   ]
  },
  {
   "cell_type": "code",
   "execution_count": 6,
   "metadata": {},
   "outputs": [
    {
     "name": "stdout",
     "output_type": "stream",
     "text": [
      "9 0 0\n",
      "8 59 59\n",
      "0 0 38\n"
     ]
    }
   ],
   "source": [
    "for _ in range(3):\n",
    "    hp, mp, sp, hn, mn, sn = map(int, input().split())\n",
    "    hr = 0\n",
    "    mr = 0\n",
    "    sr = 0\n",
    "    if sn - sp < 0:\n",
    "        sr = 60 - abs(sn - sp)\n",
    "        mn -= 1\n",
    "    else:\n",
    "        sr = sn - sp\n",
    "    \n",
    "    if mn - mp < 0:\n",
    "        mr = 60 - abs(mn - mp)\n",
    "        hn -= 1\n",
    "    else:\n",
    "        mr = mn - mp\n",
    "\n",
    "    hr = hn - hp\n",
    "\n",
    "    print(hr, end = ' ')\n",
    "    print(mr, end = ' ')    \n",
    "    print(sr)\n",
    "\n",
    "\n",
    "        \n"
   ]
  },
  {
   "cell_type": "code",
   "execution_count": null,
   "metadata": {},
   "outputs": [],
   "source": []
  }
 ],
 "metadata": {
  "interpreter": {
   "hash": "7812ea015bdcee6f23a998adcdd2ef97c151c0c241b7b7070987d9313e41299d"
  },
  "kernelspec": {
   "display_name": "Python 3.9.5 64-bit",
   "language": "python",
   "name": "python3"
  },
  "language_info": {
   "codemirror_mode": {
    "name": "ipython",
    "version": 3
   },
   "file_extension": ".py",
   "mimetype": "text/x-python",
   "name": "python",
   "nbconvert_exporter": "python",
   "pygments_lexer": "ipython3",
   "version": "3.9.5"
  },
  "orig_nbformat": 4
 },
 "nbformat": 4,
 "nbformat_minor": 2
}
