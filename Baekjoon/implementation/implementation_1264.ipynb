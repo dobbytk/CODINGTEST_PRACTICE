{
 "cells": [
  {
   "cell_type": "markdown",
   "metadata": {},
   "source": [
    "```\n",
    "문제\n",
    "영문 문장을 입력받아 모음의 개수를 세는 프로그램을 작성하시오. 모음은 'a', 'e', 'i', 'o', 'u'이며 대문자 또는 소문자이다.\n",
    "\n",
    "입력\n",
    "입력은 여러 개의 테스트 케이스로 이루어져 있으며, 각 줄마다 영어 대소문자, ',', '.', '!', '?', 공백으로 이루어진 문장이 주어진다. 각 줄은 최대 255글자로 이루어져 있다.\n",
    "\n",
    "입력의 끝에는 한 줄에 '#' 한 글자만이 주어진다.\n",
    "\n",
    "출력\n",
    "각 줄마다 모음의 개수를 세서 출력한다.\n",
    "\n",
    "예제 입력 1 \n",
    "How are you today?\n",
    "Quite well, thank you, how about yourself?\n",
    "I live at number twenty four.\n",
    "#\n",
    "예제 출력 1 \n",
    "7\n",
    "14\n",
    "9\n",
    "\n",
    "```"
   ]
  },
  {
   "cell_type": "code",
   "execution_count": 2,
   "metadata": {},
   "outputs": [
    {
     "name": "stdout",
     "output_type": "stream",
     "text": [
      "7\n",
      "14\n",
      "9\n"
     ]
    }
   ],
   "source": [
    "s = ['a', 'e', 'i', 'o', 'u', 'A', 'E', 'I', 'O', 'U']\n",
    "\n",
    "while True:\n",
    "    sen = input()\n",
    "    cnt = 0\n",
    "    if sen == '#':\n",
    "        break\n",
    "    else:\n",
    "        for chr in s:\n",
    "            k = sen.count(chr)\n",
    "            cnt += k\n",
    "        print(cnt)\n",
    "    "
   ]
  },
  {
   "cell_type": "code",
   "execution_count": null,
   "metadata": {},
   "outputs": [],
   "source": []
  }
 ],
 "metadata": {
  "interpreter": {
   "hash": "7812ea015bdcee6f23a998adcdd2ef97c151c0c241b7b7070987d9313e41299d"
  },
  "kernelspec": {
   "display_name": "Python 3.9.5 64-bit",
   "language": "python",
   "name": "python3"
  },
  "language_info": {
   "codemirror_mode": {
    "name": "ipython",
    "version": 3
   },
   "file_extension": ".py",
   "mimetype": "text/x-python",
   "name": "python",
   "nbconvert_exporter": "python",
   "pygments_lexer": "ipython3",
   "version": "3.9.5"
  },
  "orig_nbformat": 4
 },
 "nbformat": 4,
 "nbformat_minor": 2
}
