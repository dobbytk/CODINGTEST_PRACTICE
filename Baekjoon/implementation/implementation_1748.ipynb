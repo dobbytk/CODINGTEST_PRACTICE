{
 "cells": [
  {
   "cell_type": "markdown",
   "metadata": {},
   "source": [
    "```\n",
    "문제\n",
    "1부터 N까지의 수를 이어서 쓰면 다음과 같이 새로운 하나의 수를 얻을 수 있다.\n",
    "\n",
    "1234567891011121314151617181920212223...\n",
    "\n",
    "이렇게 만들어진 새로운 수는 몇 자리 수일까? 이 수의 자릿수를 구하는 프로그램을 작성하시오.\n",
    "\n",
    "입력\n",
    "첫째 줄에 N(1 ≤ N ≤ 100,000,000)이 주어진다.\n",
    "\n",
    "출력\n",
    "첫째 줄에 새로운 수의 자릿수를 출력한다.\n",
    "\n",
    "예제 입력 1 \n",
    "5\n",
    "예제 출력 1 \n",
    "5\n",
    "예제 입력 2 \n",
    "15\n",
    "예제 출력 2 \n",
    "21\n",
    "예제 입력 3 \n",
    "120\n",
    "예제 출력 3 \n",
    "252\n",
    "```"
   ]
  },
  {
   "cell_type": "code",
   "execution_count": 5,
   "metadata": {},
   "outputs": [
    {
     "name": "stdout",
     "output_type": "stream",
     "text": [
      "252\n"
     ]
    }
   ],
   "source": [
    "n = input()\n",
    "length = len(n)\n",
    "\n",
    "cnt = 0\n",
    "\n",
    "if length > 1:\n",
    "    i = 0\n",
    "    for i in range(1, length):\n",
    "        cnt += 9 * (10 ** (i - 1)) * i\n",
    "\n",
    "    n = int(n) - (10 ** i)\n",
    "    n += 1\n",
    "    cnt += n * (i + 1)\n",
    "\n",
    "else:\n",
    "    cnt = n\n",
    "\n",
    "print(cnt)"
   ]
  },
  {
   "cell_type": "code",
   "execution_count": null,
   "metadata": {},
   "outputs": [],
   "source": []
  }
 ],
 "metadata": {
  "interpreter": {
   "hash": "7812ea015bdcee6f23a998adcdd2ef97c151c0c241b7b7070987d9313e41299d"
  },
  "kernelspec": {
   "display_name": "Python 3.9.5 64-bit",
   "language": "python",
   "name": "python3"
  },
  "language_info": {
   "codemirror_mode": {
    "name": "ipython",
    "version": 3
   },
   "file_extension": ".py",
   "mimetype": "text/x-python",
   "name": "python",
   "nbconvert_exporter": "python",
   "pygments_lexer": "ipython3",
   "version": "3.9.5"
  },
  "orig_nbformat": 4
 },
 "nbformat": 4,
 "nbformat_minor": 2
}
