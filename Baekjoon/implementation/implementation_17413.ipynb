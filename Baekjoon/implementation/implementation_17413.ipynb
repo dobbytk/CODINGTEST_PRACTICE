{
 "cells": [
  {
   "cell_type": "markdown",
   "metadata": {},
   "source": [
    "```\n",
    "문제\n",
    "문자열 S가 주어졌을 때, 이 문자열에서 단어만 뒤집으려고 한다.\n",
    "\n",
    "먼저, 문자열 S는 아래와과 같은 규칙을 지킨다.\n",
    "\n",
    "알파벳 소문자('a'-'z'), 숫자('0'-'9'), 공백(' '), 특수 문자('<', '>')로만 이루어져 있다.\n",
    "문자열의 시작과 끝은 공백이 아니다.\n",
    "'<'와 '>'가 문자열에 있는 경우 번갈아가면서 등장하며, '<'이 먼저 등장한다. 또, 두 문자의 개수는 같다.\n",
    "태그는 '<'로 시작해서 '>'로 끝나는 길이가 3 이상인 부분 문자열이고, '<'와 '>' 사이에는 알파벳 소문자와 공백만 있다. 단어는 알파벳 소문자와 숫자로 이루어진 부분 문자열이고, 연속하는 두 단어는 공백 하나로 구분한다. 태그는 단어가 아니며, 태그와 단어 사이에는 공백이 없다.\n",
    "\n",
    "입력\n",
    "첫째 줄에 문자열 S가 주어진다. S의 길이는 100,000 이하이다.\n",
    "\n",
    "출력\n",
    "첫째 줄에 문자열 S의 단어를 뒤집어서 출력한다.\n",
    "\n",
    "예제 입력 1 \n",
    "baekjoon online judge\n",
    "예제 출력 1 \n",
    "noojkeab enilno egduj\n",
    "예제 입력 2 \n",
    "<open>tag<close>\n",
    "예제 출력 2 \n",
    "<open>gat<close>\n",
    "예제 입력 3 \n",
    "<ab cd>ef gh<ij kl>\n",
    "예제 출력 3 \n",
    "<ab cd>fe hg<ij kl>\n",
    "예제 입력 4 \n",
    "one1 two2 three3 4fourr 5five 6six\n",
    "예제 출력 4 \n",
    "1eno 2owt 3eerht rruof4 evif5 xis6\n",
    "예제 입력 5 \n",
    "<int><max>2147483647<long long><max>9223372036854775807\n",
    "예제 출력 5 \n",
    "<int><max>7463847412<long long><max>7085774586302733229\n",
    "예제 입력 6 \n",
    "<problem>17413<is hardest>problem ever<end>\n",
    "예제 출력 6 \n",
    "<problem>31471<is hardest>melborp reve<end>\n",
    "예제 입력 7 \n",
    "<   space   >space space space<    spa   c e>\n",
    "예제 출력 7 \n",
    "<   space   >ecaps ecaps ecaps<    spa   c e>\n",
    "```"
   ]
  },
  {
   "cell_type": "code",
   "execution_count": 6,
   "metadata": {},
   "outputs": [
    {
     "name": "stdout",
     "output_type": "stream",
     "text": [
      "<int><max>7463847412<long long><max>7085774586302733229\n"
     ]
    }
   ],
   "source": [
    "answer = \"\"\n",
    "flag = False\n",
    "stack = \"\"\n",
    "\n",
    "for i in input():\n",
    "    if i == \"<\":\n",
    "        flag = True\n",
    "        answer += stack[::-1]\n",
    "        stack = \"\"\n",
    "        answer += i\n",
    "        continue\n",
    "    elif i == \">\":\n",
    "        flag = False\n",
    "        answer += i\n",
    "        continue\n",
    "    elif i == \" \":\n",
    "        answer += stack[::-1] + \" \"\n",
    "        stack = \"\"\n",
    "        continue\n",
    "\n",
    "    if flag:\n",
    "        answer += i\n",
    "    else:\n",
    "        stack += i\n",
    "\n",
    "print(answer + stack[::-1])\n",
    "\n",
    "# < > 안에 있는 문자열은 그대로 출력하고, 그 밖의 문자들은 stack에 담는다"
   ]
  },
  {
   "cell_type": "code",
   "execution_count": null,
   "metadata": {},
   "outputs": [],
   "source": []
  }
 ],
 "metadata": {
  "interpreter": {
   "hash": "7812ea015bdcee6f23a998adcdd2ef97c151c0c241b7b7070987d9313e41299d"
  },
  "kernelspec": {
   "display_name": "Python 3.9.5 64-bit",
   "language": "python",
   "name": "python3"
  },
  "language_info": {
   "codemirror_mode": {
    "name": "ipython",
    "version": 3
   },
   "file_extension": ".py",
   "mimetype": "text/x-python",
   "name": "python",
   "nbconvert_exporter": "python",
   "pygments_lexer": "ipython3",
   "version": "3.9.5"
  },
  "orig_nbformat": 4
 },
 "nbformat": 4,
 "nbformat_minor": 2
}
