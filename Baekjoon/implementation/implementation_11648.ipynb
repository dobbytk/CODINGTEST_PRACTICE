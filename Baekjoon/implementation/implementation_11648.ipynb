{
 "cells": [
  {
   "cell_type": "markdown",
   "metadata": {},
   "source": [
    "```\n",
    "문제\n",
    "키파는 곱하기를 좋아한다. 그래서 키파는 수를 보면 각 자리 숫자를 모두 곱해서 하나의 수를 만든다. 키파는 기쁘다. 키파는 이 작업을 계속해서 반복한다. 그런데 수가 한 자리가 되었다. 키파는 슬퍼졌다.\n",
    "\n",
    "키파의 기쁨이 지속될 수 있는 것이 몇 단계인지를 출력하는 프로그램을 작성하시오. 예를 들어 679라면:\n",
    "\n",
    "679 → 6*7*9 = 378 (1단계)\n",
    "378 → 3*7*8 = 168 (2단계)\n",
    "168 → 1*6*8 = 48 (3단계)\n",
    "48 → 4*8 = 32 (4단계)\n",
    "32 → 3*2 = 6 (5단계: 키파는 슬퍼졌다.)\n",
    "키파는 5단계만에 슬퍼지므로 5를 출력하면 된다.\n",
    "\n",
    "입력\n",
    "각각의 입력은 하나의 테스트 케이스로 이루어진다. 입력은 첫 번째 줄에 선행하는 0이 없는 9자리 이하의 수가 하나 주어진다.\n",
    "\n",
    "출력\n",
    "각각의 입력에 대해 키파의 기쁨이 지속될 수 있는 단계의 수를 출력하라. \n",
    "\n",
    "예제 입력 1 \n",
    "5\n",
    "예제 출력 1 \n",
    "0\n",
    "예제 입력 2 \n",
    "10\n",
    "예제 출력 2 \n",
    "1\n",
    "예제 입력 3 \n",
    "679\n",
    "예제 출력 3 \n",
    "5\n",
    "```"
   ]
  },
  {
   "cell_type": "code",
   "execution_count": 15,
   "metadata": {},
   "outputs": [
    {
     "name": "stdout",
     "output_type": "stream",
     "text": [
      "5\n"
     ]
    }
   ],
   "source": [
    "s = input()\n",
    "cnt = 1\n",
    "\n",
    "if len(s) == 1:\n",
    "    print(0)\n",
    "\n",
    "else:\n",
    "    while True:\n",
    "        result = 1\n",
    "        for c in s:\n",
    "            result *= int(c)\n",
    "        \n",
    "        if len(str(result)) == 1:\n",
    "            print(cnt)\n",
    "            break\n",
    "\n",
    "        cnt += 1\n",
    "        s = str(result)\n"
   ]
  },
  {
   "cell_type": "code",
   "execution_count": null,
   "metadata": {},
   "outputs": [],
   "source": []
  }
 ],
 "metadata": {
  "kernelspec": {
   "display_name": "Python 3.9.5 64-bit",
   "language": "python",
   "name": "python3"
  },
  "language_info": {
   "codemirror_mode": {
    "name": "ipython",
    "version": 3
   },
   "file_extension": ".py",
   "mimetype": "text/x-python",
   "name": "python",
   "nbconvert_exporter": "python",
   "pygments_lexer": "ipython3",
   "version": "3.9.5"
  },
  "orig_nbformat": 4,
  "vscode": {
   "interpreter": {
    "hash": "7812ea015bdcee6f23a998adcdd2ef97c151c0c241b7b7070987d9313e41299d"
   }
  }
 },
 "nbformat": 4,
 "nbformat_minor": 2
}
