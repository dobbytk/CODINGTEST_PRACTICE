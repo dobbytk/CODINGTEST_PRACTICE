{
 "cells": [
  {
   "cell_type": "markdown",
   "metadata": {},
   "source": [
    "```\n",
    "문제\n",
    "동혁이는 박사 학위 논문을 쓰던 중 두 수를 더하는 방법을 까먹었다. 동혁이는 덧셈 문제와 컴퓨터 과학 문제로 이루어진 문제지를 풀어야 군면제를 받을 수 있다.\n",
    "\n",
    "문제지의 덧셈 문제는 \"a+b\"와 같은 형식이고, 컴퓨터 과학 문제는 \"P=NP\" 하나이다. 동혁이의 문제지가 주어졌을 때, 답을 모두 구하는 프로그램을 작성하시오. \n",
    "\n",
    "입력\n",
    "첫째 줄에 문제의 개수 N이 주어진다. (1 ≤ N ≤ 1000) 다음 N개 줄에는 \"a+b\"형식의 덧셈 문제나 \"P=NP\"가 주어진다. a,b ∈ [0,1000]이며 a와 b는 정수이다.\n",
    "\n",
    "출력\n",
    "P=NP가 문제인 경우에는 skipped를, 덧셈 문제인 경우에는 덧셈한 결과를 출력한다.\n",
    "\n",
    "예제 입력 1 \n",
    "4\n",
    "2+2\n",
    "1+2\n",
    "P=NP\n",
    "0+0\n",
    "예제 출력 1 \n",
    "4\n",
    "3\n",
    "skipped\n",
    "0\n",
    "```"
   ]
  },
  {
   "cell_type": "code",
   "execution_count": null,
   "metadata": {},
   "outputs": [],
   "source": [
    "n = int(input())\n",
    "\n",
    "for _ in range(n):\n",
    "    try:\n",
    "        print(eval(input()))\n",
    "    except:\n",
    "        print('skipped')"
   ]
  }
 ],
 "metadata": {
  "language_info": {
   "name": "python"
  },
  "orig_nbformat": 4
 },
 "nbformat": 4,
 "nbformat_minor": 2
}
