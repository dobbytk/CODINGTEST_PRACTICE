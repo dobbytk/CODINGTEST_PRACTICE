{
 "cells": [
  {
   "cell_type": "markdown",
   "metadata": {},
   "source": [
    "```\n",
    "문제\n",
    "팬그램은 알파벳의 모든 글자들을 사용해서 만든 문장이다. \"the quick brown fox jumps over a lazy dog\"과 \"jackdaws loves my big sphinx of quartz\"은 팬그램이다. 문장이 주어졌을 때, 팬그램인지 아닌지를 알아내는 프로그램을 작성하시오.\n",
    "\n",
    "입력\n",
    "입력은 여러 테스트 케이스로 이루어져 있다. 각 테스트 케이스는 많아야 200글자로 이루어져 있는 문장이다. 단어는 공백 하나로 구분되어 있다. 또, 단어는 알파벳 소문자로만 이루어져 있다. 입력의 마지막 줄에는 별표(*)가 하나 주어진다.\n",
    "\n",
    "출력\n",
    "각 테스트 케이스에 대해서, 입력으로 주어진 문장이 팬그램이라면 'Y', 아니라면 'N'를 출력한다.\n",
    "\n",
    "예제 입력 1 \n",
    "jackdawf loves my big quartz sphinx\n",
    "abcdefghijklmnopqrstuvwxyz\n",
    "hello world\n",
    "*\n",
    "예제 출력 1 \n",
    "Y\n",
    "Y\n",
    "N\n",
    "```"
   ]
  },
  {
   "cell_type": "code",
   "execution_count": 1,
   "metadata": {},
   "outputs": [
    {
     "name": "stdout",
     "output_type": "stream",
     "text": [
      "Y\n",
      "Y\n",
      "N\n"
     ]
    }
   ],
   "source": [
    "arr = [chr(x) for x in range(97, 123)]\n",
    "arr_s = set(arr)\n",
    "\n",
    "while True:\n",
    "    s = set(input().replace(' ', ''))\n",
    "    if s == {'*'}:\n",
    "        break\n",
    "    else:\n",
    "        if arr_s - s:\n",
    "            print('N')\n",
    "        else:\n",
    "            print('Y')"
   ]
  },
  {
   "cell_type": "code",
   "execution_count": null,
   "metadata": {},
   "outputs": [],
   "source": []
  }
 ],
 "metadata": {
  "kernelspec": {
   "display_name": "Python 3.9.5 64-bit",
   "language": "python",
   "name": "python3"
  },
  "language_info": {
   "codemirror_mode": {
    "name": "ipython",
    "version": 3
   },
   "file_extension": ".py",
   "mimetype": "text/x-python",
   "name": "python",
   "nbconvert_exporter": "python",
   "pygments_lexer": "ipython3",
   "version": "3.9.5"
  },
  "orig_nbformat": 4,
  "vscode": {
   "interpreter": {
    "hash": "7812ea015bdcee6f23a998adcdd2ef97c151c0c241b7b7070987d9313e41299d"
   }
  }
 },
 "nbformat": 4,
 "nbformat_minor": 2
}
