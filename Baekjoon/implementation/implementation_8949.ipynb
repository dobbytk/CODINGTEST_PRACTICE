{
 "cells": [
  {
   "cell_type": "markdown",
   "metadata": {},
   "source": [
    "```\n",
    "문제\n",
    "강민이는 동생 희주를 위해 수학 문제를 만들고 있다. 희주는 매일 연습하고 열심히 공부했지만, 아직도 더하기를 끝내지 못했다.\n",
    "\n",
    "숫자를 더할 때, 오른쪽부터 왼쪽으로 가면서 숫자를 하나씩 더한다. 그런데 희주는 귀찮아서 \"받아 올림\"을 하지 않고 그냥 두 숫자의 합을 적어버린다.\n",
    "\n",
    "예를 들면, 희주는 숫자 123과 2495를 아래와 같이 더한다.\n",
    "\n",
    "       1  2  3 \n",
    " +  2  4  9  5 \n",
    "----------------\n",
    "    2  5 11  8\n",
    "그래서 답을 적을 때 25118을 적는 것이었다.\n",
    "\n",
    "만약 모든 숫자를 다 이렇게 더한다면 결과가 어떻게 나오는 지 프로그램으로 작성하시오.\n",
    "\n",
    "입력\n",
    "두 정수 A, B가 공백을 두고 주어진다. A와 B는 1과 1,000,000 사이의 정수이다.\n",
    "\n",
    "출력\n",
    "희주 방식대로 더한 결과를 출력한다.\n",
    "\n",
    "예제 입력 1 \n",
    "512 444\n",
    "예제 출력 1 \n",
    "956\n",
    "예제 입력 2 \n",
    "123 2495\n",
    "예제 출력 2 \n",
    "25118\n",
    "예제 입력 3 \n",
    "99999 99999\n",
    "예제 출력 3 \n",
    "1818181818\n",
    "```"
   ]
  },
  {
   "cell_type": "code",
   "execution_count": 4,
   "metadata": {},
   "outputs": [
    {
     "name": "stdout",
     "output_type": "stream",
     "text": [
      "956\n"
     ]
    }
   ],
   "source": [
    "a, b = map(int, input().split())\n",
    "\n",
    "nums = []\n",
    "\n",
    "while a or b:\n",
    "    nums.append(str(a % 10 + b % 10))\n",
    "    a = a // 10\n",
    "    b = b // 10\n",
    "\n",
    "print(''.join(nums[::-1]))"
   ]
  },
  {
   "cell_type": "code",
   "execution_count": null,
   "metadata": {},
   "outputs": [],
   "source": []
  }
 ],
 "metadata": {
  "interpreter": {
   "hash": "7812ea015bdcee6f23a998adcdd2ef97c151c0c241b7b7070987d9313e41299d"
  },
  "kernelspec": {
   "display_name": "Python 3.9.5 64-bit",
   "language": "python",
   "name": "python3"
  },
  "language_info": {
   "codemirror_mode": {
    "name": "ipython",
    "version": 3
   },
   "file_extension": ".py",
   "mimetype": "text/x-python",
   "name": "python",
   "nbconvert_exporter": "python",
   "pygments_lexer": "ipython3",
   "version": "3.9.5"
  },
  "orig_nbformat": 4
 },
 "nbformat": 4,
 "nbformat_minor": 2
}
