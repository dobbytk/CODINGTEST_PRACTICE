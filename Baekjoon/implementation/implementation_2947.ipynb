{
 "cells": [
  {
   "cell_type": "markdown",
   "metadata": {},
   "source": [
    "```\n",
    "문제\n",
    "동혁이는 나무 조각을 5개 가지고 있다. 나무 조각에는 1부터 5까지 숫자 중 하나가 쓰여져 있다. 또, 모든 숫자는 다섯 조각 중 하나에만 쓰여 있다.\n",
    "\n",
    "동혁이는 나무 조각을 다음과 같은 과정을 거쳐서 1, 2, 3, 4, 5 순서로 만들려고 한다.\n",
    "\n",
    "첫 번째 조각의 수가 두 번째 수보다 크다면, 둘의 위치를 서로 바꾼다.\n",
    "두 번째 조각의 수가 세 번째 수보다 크다면, 둘의 위치를 서로 바꾼다.\n",
    "세 번째 조각의 수가 네 번째 수보다 크다면, 둘의 위치를 서로 바꾼다.\n",
    "네 번째 조각의 수가 다섯 번째 수보다 크다면, 둘의 위치를 서로 바꾼다.\n",
    "만약 순서가 1, 2, 3, 4, 5 순서가 아니라면 1 단계로 다시 간다.\n",
    "처음 조각의 순서가 주어졌을 때, 위치를 바꿀 때 마다 조각의 순서를 출력하는 프로그램을 작성하시오.\n",
    "\n",
    "입력\n",
    "첫째 줄에 조각에 쓰여 있는 수가 순서대로 주어진다. 숫자는 1보다 크거나 같고, 5보다 작거나 같으며, 중복되지 않는다. 처음 순서는 1, 2, 3, 4, 5가 아니다.\n",
    "\n",
    "출력\n",
    "두 조각의 순서가 바뀔때 마다 조각의 순서를 출력한다.\n",
    "\n",
    "예제 입력 1 \n",
    "2 1 5 3 4\n",
    "예제 출력 1 \n",
    "1 2 5 3 4\n",
    "1 2 3 5 4\n",
    "1 2 3 4 5\n",
    "예제 입력 2 \n",
    "2 3 4 5 1\n",
    "예제 출력 2 \n",
    "2 3 4 1 5\n",
    "2 3 1 4 5\n",
    "2 1 3 4 5\n",
    "1 2 3 4 5\n",
    "```"
   ]
  },
  {
   "cell_type": "code",
   "execution_count": 12,
   "metadata": {},
   "outputs": [
    {
     "name": "stdout",
     "output_type": "stream",
     "text": [
      "1 2 5 3 4\n",
      "1 2 3 5 4\n",
      "1 2 3 4 5\n"
     ]
    }
   ],
   "source": [
    "tree = list(map(int, input().split()))\n",
    "answer = [1, 2, 3, 4, 5]\n",
    "\n",
    "while True:\n",
    "    for i in range(len(tree)-1):\n",
    "        if tree[i] > tree[i+1]:\n",
    "            tree[i], tree[i+1] = tree[i+1], tree[i]\n",
    "            print(\" \".join(map(str, tree)))\n",
    "\n",
    "    if tree == answer:\n",
    "        break"
   ]
  },
  {
   "cell_type": "code",
   "execution_count": null,
   "metadata": {},
   "outputs": [],
   "source": []
  }
 ],
 "metadata": {
  "interpreter": {
   "hash": "7812ea015bdcee6f23a998adcdd2ef97c151c0c241b7b7070987d9313e41299d"
  },
  "kernelspec": {
   "display_name": "Python 3.9.5 64-bit",
   "language": "python",
   "name": "python3"
  },
  "language_info": {
   "codemirror_mode": {
    "name": "ipython",
    "version": 3
   },
   "file_extension": ".py",
   "mimetype": "text/x-python",
   "name": "python",
   "nbconvert_exporter": "python",
   "pygments_lexer": "ipython3",
   "version": "3.9.5"
  },
  "orig_nbformat": 4
 },
 "nbformat": 4,
 "nbformat_minor": 2
}
