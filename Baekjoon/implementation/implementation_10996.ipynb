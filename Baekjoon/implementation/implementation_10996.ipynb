{
 "cells": [
  {
   "cell_type": "markdown",
   "metadata": {},
   "source": [
    "```\n",
    "문제\n",
    "예제를 보고 규칙을 유추한 뒤에 별을 찍어 보세요.\n",
    "\n",
    "입력\n",
    "첫째 줄에 N(1 ≤ N ≤ 100)이 주어진다.\n",
    "\n",
    "출력\n",
    "첫째 줄부터 차례대로 별을 출력한다.\n",
    "\n",
    "예제 입력 1 \n",
    "1\n",
    "예제 출력 1 \n",
    "*\n",
    "예제 입력 2 \n",
    "2\n",
    "예제 출력 2 \n",
    "*\n",
    " *\n",
    "*\n",
    " *\n",
    "예제 입력 3 \n",
    "3\n",
    "예제 출력 3 \n",
    "* *\n",
    " *\n",
    "* *\n",
    " *\n",
    "* *\n",
    " *\n",
    "예제 입력 4 \n",
    "4\n",
    "예제 출력 4 \n",
    "* *\n",
    " * *\n",
    "* *\n",
    " * *\n",
    "* *\n",
    " * *\n",
    "* *\n",
    " * *\n",
    "```"
   ]
  },
  {
   "cell_type": "code",
   "execution_count": 2,
   "metadata": {},
   "outputs": [
    {
     "name": "stdout",
     "output_type": "stream",
     "text": [
      "* * \n",
      " * *\n",
      "* * \n",
      " * *\n",
      "* * \n",
      " * *\n",
      "* * \n",
      " * *\n"
     ]
    }
   ],
   "source": [
    "n = int(input())\n",
    "\n",
    "for _ in range(n):\n",
    "    print('* ' * (n - n // 2))\n",
    "    print(' *' * (n // 2))"
   ]
  }
 ],
 "metadata": {
  "interpreter": {
   "hash": "7812ea015bdcee6f23a998adcdd2ef97c151c0c241b7b7070987d9313e41299d"
  },
  "kernelspec": {
   "display_name": "Python 3.9.5 64-bit",
   "language": "python",
   "name": "python3"
  },
  "language_info": {
   "codemirror_mode": {
    "name": "ipython",
    "version": 3
   },
   "file_extension": ".py",
   "mimetype": "text/x-python",
   "name": "python",
   "nbconvert_exporter": "python",
   "pygments_lexer": "ipython3",
   "version": "3.9.5"
  },
  "orig_nbformat": 4
 },
 "nbformat": 4,
 "nbformat_minor": 2
}
