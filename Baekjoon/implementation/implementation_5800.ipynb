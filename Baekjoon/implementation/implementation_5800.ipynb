{
 "cells": [
  {
   "cell_type": "code",
   "execution_count": null,
   "source": [
    "\"\"\"\n",
    "문제\n",
    "한상덕은 이번에 중덕 고등학교에 새로 부임한 교장 선생님이다. 교장 선생님으로서 첫 번째 일은 각 반의 수학 시험 성적의 통계를 내는 일이다.\n",
    "\n",
    "중덕 고등학교 각 반의 학생들의 수학 시험 성적이 주어졌을 때, 최대 점수, 최소 점수, 점수 차이를 구하는 프로그램을 작성하시오.\n",
    "\n",
    "입력\n",
    "첫째 줄에 중덕 고등학교에 있는 반의 수 K (1 ≤ K ≤ 100)가 주어진다. 다음 K개 줄에는 각 반의 학생수 N (2 ≤ N ≤ 50)과 각 학생의 수학 성적이 주어진다. 시험 성적은 0보다 크거나 같고, 100보다 작거나 같은 정수이고, 공백으로 나누어져 있다. \n",
    "\n",
    "출력\n",
    "각 반에 대한 출력은 다음과 같이 두 줄로 이루어져 있다.\n",
    "\n",
    "첫째 줄에는 \"Class X\"를 출력한다. X는 반의 번호이며 입력으로 주어진 순서대로 1부터 증가한다.\n",
    "둘째 줄에는 가장 높은 점수, 낮은 점수, 성적을 내림차순으로 정렬했을 때 가장 큰 인접한 점수 차이를 예제 출력과 같은 형식으로 출력한다.\n",
    "예제 입력 1 \n",
    "2\n",
    "5 30 25 76 23 78\n",
    "6 25 50 70 99 70 90\n",
    "예제 출력 1 \n",
    "Class 1\n",
    "Max 78, Min 23, Largest gap 46\n",
    "Class 2\n",
    "Max 99, Min 25, Largest gap 25\n",
    "\"\"\""
   ],
   "outputs": [],
   "metadata": {}
  },
  {
   "cell_type": "code",
   "execution_count": 7,
   "source": [
    "n = int(input())\n",
    "k = 1\n",
    "\n",
    "for i in range(n):\n",
    "    gap_arr = []\n",
    "    arr = list(map(int, input().split()))[1:]\n",
    "    arr.sort()\n",
    "    for j in range(1, len(arr)):\n",
    "        gap = abs(arr[j-1] - arr[j])\n",
    "        gap_arr.append(gap)\n",
    "    print(\"Class {}\".format(k))\n",
    "    print(\"Max {}, Min {}, Largest gap {}\".format(max(arr), min(arr), max(gap_arr)))\n",
    "    k += 1"
   ],
   "outputs": [
    {
     "output_type": "stream",
     "name": "stdout",
     "text": [
      "Class 1\n",
      "Max 78, Min 23, Largest gap 46\n",
      "Class 2\n",
      "Max 99, Min 25, Largest gap 25\n"
     ]
    }
   ],
   "metadata": {}
  },
  {
   "cell_type": "code",
   "execution_count": null,
   "source": [],
   "outputs": [],
   "metadata": {}
  }
 ],
 "metadata": {
  "orig_nbformat": 4,
  "language_info": {
   "name": "python",
   "version": "3.9.5",
   "mimetype": "text/x-python",
   "codemirror_mode": {
    "name": "ipython",
    "version": 3
   },
   "pygments_lexer": "ipython3",
   "nbconvert_exporter": "python",
   "file_extension": ".py"
  },
  "kernelspec": {
   "name": "python3",
   "display_name": "Python 3.9.5 64-bit"
  },
  "interpreter": {
   "hash": "7812ea015bdcee6f23a998adcdd2ef97c151c0c241b7b7070987d9313e41299d"
  }
 },
 "nbformat": 4,
 "nbformat_minor": 2
}