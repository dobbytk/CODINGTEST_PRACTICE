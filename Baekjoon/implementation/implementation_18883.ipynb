{
 "cells": [
  {
   "cell_type": "markdown",
   "metadata": {},
   "source": [
    "```\n",
    "문제\n",
    "자연수 N, M이 주어졌을 때, 1부터 N×M까지 출력 형식대로 출력해보자.\n",
    "\n",
    "입력\n",
    "첫째 줄에 공백 한 칸으로 구분한 N, M이 주어진다. 두 수는 1,000보다 작거나 같은 자연수이다.\n",
    "\n",
    "출력\n",
    "총 N개의 줄을 출력해야 한다. 각 줄에는 M개의 정수를 공백 한 칸으로 구분해 출력해야 한다. 1번 줄에는 1부터 M까지, 2번 줄에는 M+1부터 2×M까지, ..., N번 줄에는 (N-1)×M+1부터 N×M까지 출력해야 한다.\n",
    "\n",
    "모든 줄의 시작과 끝에 공백이 있으면 안되고, 모든 줄은 줄바꿈(\\n)으로 끝나야 한다.\n",
    "\n",
    "예제 입력 1 \n",
    "3 4\n",
    "예제 출력 1 \n",
    "1 2 3 4\n",
    "5 6 7 8\n",
    "9 10 11 12\n",
    "```"
   ]
  },
  {
   "cell_type": "code",
   "execution_count": 3,
   "metadata": {},
   "outputs": [
    {
     "name": "stdout",
     "output_type": "stream",
     "text": [
      "1 2 3 4\n",
      "5 6 7 8\n",
      "9 10 11 12\n"
     ]
    }
   ],
   "source": [
    "a, b = map(int, input().split())\n",
    "k = 1\n",
    "for _ in range(a):\n",
    "    for _ in range(b):\n",
    "        if k % b == 0:\n",
    "            print(k, end = '')\n",
    "        else:\n",
    "            print(k, end = ' ')\n",
    "        k += 1\n",
    "    print()\n",
    "        \n"
   ]
  },
  {
   "cell_type": "code",
   "execution_count": null,
   "metadata": {},
   "outputs": [],
   "source": []
  }
 ],
 "metadata": {
  "kernelspec": {
   "display_name": "Python 3.9.5 64-bit",
   "language": "python",
   "name": "python3"
  },
  "language_info": {
   "codemirror_mode": {
    "name": "ipython",
    "version": 3
   },
   "file_extension": ".py",
   "mimetype": "text/x-python",
   "name": "python",
   "nbconvert_exporter": "python",
   "pygments_lexer": "ipython3",
   "version": "3.9.5"
  },
  "orig_nbformat": 4,
  "vscode": {
   "interpreter": {
    "hash": "7812ea015bdcee6f23a998adcdd2ef97c151c0c241b7b7070987d9313e41299d"
   }
  }
 },
 "nbformat": 4,
 "nbformat_minor": 2
}
