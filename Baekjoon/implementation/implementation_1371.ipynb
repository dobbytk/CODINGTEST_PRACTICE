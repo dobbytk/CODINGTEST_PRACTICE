{
 "cells": [
  {
   "cell_type": "markdown",
   "metadata": {},
   "source": [
    "```\n",
    "문제\n",
    "영어에서는 어떤 글자가 다른 글자보다 많이 쓰인다. 예를 들어, 긴 글에서 약 12.31% 글자는 e이다.\n",
    "\n",
    "어떤 글이 주어졌을 때, 가장 많이 나온 글자를 출력하는 프로그램을 작성하시오.\n",
    "\n",
    "입력\n",
    "첫째 줄부터 글의 문장이 주어진다. 글은 최대 50개의 줄로 이루어져 있고, 각 줄은 최대 50개의 글자로 이루어져 있다. 각 줄에는 공백과 알파벳 소문자만 있다. 문장에 알파벳은 적어도 하나 이상 있다.\n",
    "\n",
    "출력\n",
    "첫째 줄에 가장 많이 나온 문자를 출력한다. 여러 개일 경우에는 알파벳 순으로 앞서는 것부터 모두 공백없이 출력한다.\n",
    "\n",
    "예제 입력 1 \n",
    "english is a west germanic\n",
    "language originating in england\n",
    "and is the first language for\n",
    "most people in the united\n",
    "kingdom the united states\n",
    "canada australia new zealand\n",
    "ireland and the anglophone\n",
    "caribbean it is used\n",
    "extensively as a second\n",
    "language and as an official\n",
    "language throughout the world\n",
    "especially in common wealth\n",
    "countries and in many\n",
    "international organizations\n",
    "예제 출력 1 \n",
    "a\n",
    "예제 입력 2 \n",
    "baekjoon online judge\n",
    "예제 출력 2 \n",
    "eno\n",
    "예제 입력 3 \n",
    "abc a\n",
    "예제 출력 3 \n",
    "a\n",
    "예제 입력 4 \n",
    "abc\n",
    "ab\n",
    "예제 출력 4 \n",
    "ab\n",
    "예제 입력 5 \n",
    "amanda forsaken bloomer meditated gauging knolls\n",
    "betas neurons integrative expender commonalities\n",
    "latins antidotes crutched bandwidths begetting\n",
    "prompting dog association athenians christian ires\n",
    "pompousness percolating figured bagatelles bursted\n",
    "ninth boyfriends longingly muddlers prudence puns\n",
    "groove deliberators charter collectively yorks\n",
    "daringly antithesis inaptness aerosol carolinas\n",
    "payoffs chumps chirps gentler inexpressive morales\n",
    "예제 출력 5 \n",
    "e\n",
    "```"
   ]
  },
  {
   "cell_type": "code",
   "execution_count": null,
   "metadata": {},
   "outputs": [],
   "source": [
    "import sys\n",
    "\n",
    "alphabet = 'abcdefghijklmnopqrstuvwxyz'\n",
    "result = []\n",
    "sentence = sys.stdin.read()\n",
    "\n",
    "for c in alphabet:\n",
    "    result.append(sentence.count(c))\n",
    "\n",
    "m = max(result)\n",
    "\n",
    "for i in range(len(result)):\n",
    "    if m == result[i]:\n",
    "        print(chr(i + 97), end = '')\n",
    "\n",
    "        \n"
   ]
  }
 ],
 "metadata": {
  "interpreter": {
   "hash": "7812ea015bdcee6f23a998adcdd2ef97c151c0c241b7b7070987d9313e41299d"
  },
  "kernelspec": {
   "display_name": "Python 3.9.5 64-bit",
   "language": "python",
   "name": "python3"
  },
  "language_info": {
   "codemirror_mode": {
    "name": "ipython",
    "version": 3
   },
   "file_extension": ".py",
   "mimetype": "text/x-python",
   "name": "python",
   "nbconvert_exporter": "python",
   "pygments_lexer": "ipython3",
   "version": "3.9.5"
  },
  "orig_nbformat": 4
 },
 "nbformat": 4,
 "nbformat_minor": 2
}
