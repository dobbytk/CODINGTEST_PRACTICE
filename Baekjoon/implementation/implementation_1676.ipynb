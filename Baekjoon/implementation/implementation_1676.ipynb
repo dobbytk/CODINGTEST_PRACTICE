{
 "cells": [
  {
   "cell_type": "code",
   "execution_count": null,
   "source": [
    "\"\"\"\n",
    "문제\n",
    "N!에서 뒤에서부터 처음 0이 아닌 숫자가 나올 때까지 0의 개수를 구하는 프로그램을 작성하시오.\n",
    "\n",
    "입력\n",
    "첫째 줄에 N이 주어진다. (0 ≤ N ≤ 500)\n",
    "\n",
    "출력\n",
    "첫째 줄에 구한 0의 개수를 출력한다.\n",
    "\n",
    "예제 입력 1 \n",
    "10\n",
    "예제 출력 1 \n",
    "2\n",
    "예제 입력 2 \n",
    "3\n",
    "예제 출력 2 \n",
    "0\n",
    "\"\"\""
   ],
   "outputs": [],
   "metadata": {}
  },
  {
   "cell_type": "code",
   "execution_count": 19,
   "source": [
    "import math\n",
    "\n",
    "n = int(input())\n",
    "cnt = 0\n",
    "\n",
    "result = list(map(int, str(math.factorial(n))))\n",
    "result = result[::-1]\n",
    "\n",
    "while True:\n",
    "    for i in result:\n",
    "        if i == 0:\n",
    "            cnt += 1\n",
    "        else:\n",
    "            break\n",
    "    break\n",
    "\n",
    "print(cnt)\n",
    "    \n",
    "\n"
   ],
   "outputs": [
    {
     "output_type": "stream",
     "name": "stdout",
     "text": [
      "2\n"
     ]
    }
   ],
   "metadata": {}
  },
  {
   "cell_type": "code",
   "execution_count": null,
   "source": [],
   "outputs": [],
   "metadata": {}
  }
 ],
 "metadata": {
  "orig_nbformat": 4,
  "language_info": {
   "name": "python",
   "version": "3.9.5",
   "mimetype": "text/x-python",
   "codemirror_mode": {
    "name": "ipython",
    "version": 3
   },
   "pygments_lexer": "ipython3",
   "nbconvert_exporter": "python",
   "file_extension": ".py"
  },
  "kernelspec": {
   "name": "python3",
   "display_name": "Python 3.9.5 64-bit"
  },
  "interpreter": {
   "hash": "7812ea015bdcee6f23a998adcdd2ef97c151c0c241b7b7070987d9313e41299d"
  }
 },
 "nbformat": 4,
 "nbformat_minor": 2
}