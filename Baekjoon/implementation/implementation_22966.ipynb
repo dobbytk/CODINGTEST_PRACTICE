{
 "cells": [
  {
   "cell_type": "markdown",
   "metadata": {},
   "source": [
    "문제 <br>\n",
    "예선 문제를 성실하게 복습한 학생들이라면 예선에 출제된 5문제가 난이도 순서대로 정렬되어 있다는 것을 알아차렸을 것이다.\n",
    "\n",
    "하지만 본선은 문제 제목에 대해 사전순으로 정렬했기 때문에 난이도 순서대로 정렬되어 있지 않을 수 있다.\n",
    "\n",
    "문제 제목과 문제의 난이도가 주어지면 가장 쉬운 문제의 제목을 출력하는 프로그램을 작성하자.\n",
    "\n",
    "문제의 난이도는 자연수로 표현되며, 수가 클수록 어려운 문제다.\n",
    "\n",
    "입력 <br>\n",
    "첫째 줄에 문제의 개수 $N$이 주어진다. <br>\n",
    "\n",
    "둘째 줄부터 $N$개의 줄에 문제 제목과 문제 난이도가 공백으로 구분되어 주어진다. <br>\n",
    "\n",
    "출력 <br>\n",
    "가장 쉬운 문제의 제목을 출력한다. <br>\n",
    "\n",
    "제한 <br>\n",
    " $1 \\leq N \\leq 4$  <br>\n",
    "문제 제목은 알파벳 대문자로만 구성되어 있다. <br>\n",
    "문제 제목은 최대 10글자이며, 모든 문제의 제목은 서로 다르다. <br>\n",
    "문제의 난이도는 1부터 4까지의 자연수로 표현되며, 모든 문제의 난이도는 서로 다르다. <br>\n",
    "문제는 문제 제목에 대해 사전순으로 주어진다. <br><br>\n",
    "예제 입력 1  <br>\n",
    "3 <br>\n",
    "ABCDE 4 <br>\n",
    "BCDEF 2 <br>\n",
    "CDEFG 3 <br>\n",
    "예제 출력 1 <br>\n",
    "BCDEF "
   ]
  },
  {
   "cell_type": "code",
   "execution_count": 3,
   "metadata": {},
   "outputs": [
    {
     "name": "stdout",
     "output_type": "stream",
     "text": [
      "BCDEF\n"
     ]
    }
   ],
   "source": [
    "n = int(input())\n",
    "arr = []\n",
    "\n",
    "for _ in range(n):\n",
    "    a, b = input().split()\n",
    "    arr.append((int(b), a))\n",
    "\n",
    "arr.sort()\n",
    "print(arr[0][1])\n"
   ]
  }
 ],
 "metadata": {
  "interpreter": {
   "hash": "7812ea015bdcee6f23a998adcdd2ef97c151c0c241b7b7070987d9313e41299d"
  },
  "kernelspec": {
   "display_name": "Python 3.9.5 64-bit",
   "language": "python",
   "name": "python3"
  },
  "language_info": {
   "codemirror_mode": {
    "name": "ipython",
    "version": 3
   },
   "file_extension": ".py",
   "mimetype": "text/x-python",
   "name": "python",
   "nbconvert_exporter": "python",
   "pygments_lexer": "ipython3",
   "version": "3.9.5"
  },
  "orig_nbformat": 4
 },
 "nbformat": 4,
 "nbformat_minor": 2
}
