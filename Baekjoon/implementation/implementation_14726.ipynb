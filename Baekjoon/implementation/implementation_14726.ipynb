{
 "cells": [
  {
   "cell_type": "markdown",
   "metadata": {},
   "source": [
    "```\n",
    "문제\n",
    "신용카드는 총 16자리의 숫자로 구성되어 있다. 언뜻 보기에는 무작위로 된 숫자로 구성되어 있는 것 같이 보이지만 그 속에는 하나의 수학적 비밀이 숨겨져 있다. 그중 하나가 카드 번호가 유효 한지 유효하지 않은 지 검사하는 Luhn 공식이다. 그 공식은 다음과 같다.\n",
    "\n",
    "신용카드의 16자리 숫자에서 맨 우측 수부터 세어 홀수 번째 수는 그대로 두고, 짝수 번째 수를 2배로 만든다.\n",
    "2배로 만든 짝수 번째 수가 10 이상인 경우, 각 자리의 숫자를 더하고 그 수로 대체한다.\n",
    "이와 같이 얻은 모든 자리의 수를 더한다.\n",
    "그 합이 10으로 나뉘면 “정당한 번호”(유효)이고 그렇지 않으면 “부당한 번호”(유효하지 않음)로 판정된다.\n",
    "다음 공식을 이용해 주어진 신용카드의 번호가 유효한지, 유효하지 않은 지 판단해라.\n",
    "\n",
    "입력\n",
    "첫째 줄에 테스트 케이스의 수 T(1 ≤ T ≤ 1000)이 주어진다.\n",
    "\n",
    "그 다음 줄부터 테스트 케이스에 해당하는 신용카드 번호가 주어진다.\n",
    "\n",
    "출력\n",
    "신용카드의 번호가 유효하면 “T”, 유효하지 않으면 “F”를 한 줄 씩 출력한다.\n",
    "\n",
    "예제 입력 1 \n",
    "3\n",
    "2720992711828767\n",
    "3444063910462763\n",
    "6011733895106094\n",
    "예제 출력 1 \n",
    "T\n",
    "F\n",
    "T\n",
    "```"
   ]
  },
  {
   "cell_type": "code",
   "execution_count": 43,
   "metadata": {},
   "outputs": [
    {
     "name": "stdout",
     "output_type": "stream",
     "text": [
      "T\n",
      "F\n",
      "T\n"
     ]
    }
   ],
   "source": [
    "n = int(input())\n",
    "\n",
    "for _ in range(n):\n",
    "    s = list(map(str, input()))\n",
    "    for i in range(0, len(s), 2):\n",
    "        tmp = int(s[i]) * 2\n",
    "        if len(str(tmp)) == 2:\n",
    "            s[i] = str(int(str(tmp)[0]) + int(str(tmp)[1]))\n",
    "        else:\n",
    "            s[i] = str(tmp) \n",
    "    result = sum(map(int, s))\n",
    "\n",
    "\n",
    "    if result % 10 == 0:\n",
    "        print('T')\n",
    "    else:\n",
    "        print('F')\n"
   ]
  },
  {
   "cell_type": "code",
   "execution_count": null,
   "metadata": {},
   "outputs": [],
   "source": []
  }
 ],
 "metadata": {
  "interpreter": {
   "hash": "7812ea015bdcee6f23a998adcdd2ef97c151c0c241b7b7070987d9313e41299d"
  },
  "kernelspec": {
   "display_name": "Python 3.9.5 64-bit",
   "language": "python",
   "name": "python3"
  },
  "language_info": {
   "codemirror_mode": {
    "name": "ipython",
    "version": 3
   },
   "file_extension": ".py",
   "mimetype": "text/x-python",
   "name": "python",
   "nbconvert_exporter": "python",
   "pygments_lexer": "ipython3",
   "version": "3.9.5"
  },
  "orig_nbformat": 4
 },
 "nbformat": 4,
 "nbformat_minor": 2
}
