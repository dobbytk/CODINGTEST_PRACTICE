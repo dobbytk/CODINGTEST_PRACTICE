{
 "cells": [
  {
   "cell_type": "markdown",
   "metadata": {},
   "source": [
    "```\n",
    "문제\n",
    "7개의 자연수가 주어질 때, 이들 중 홀수인 자연수들을 모두 골라 그 합을 구하고, 고른 홀수들 중 최솟값을 찾는 프로그램을 작성하시오.\n",
    "\n",
    "예를 들어, 7개의 자연수 12, 77, 38, 41, 53, 92, 85가 주어지면 이들 중 홀수는 77, 41, 53, 85이므로 그 합은\n",
    "\n",
    "77 + 41 + 53 + 85 = 256\n",
    "\n",
    "이 되고,\n",
    "\n",
    "41 < 53 < 77 < 85\n",
    "\n",
    "이므로 홀수들 중 최솟값은 41이 된다.\n",
    "\n",
    "입력\n",
    "입력의 첫째 줄부터 일곱 번째 줄까지 한 줄에 하나의 자연수가 주어진다. 주어지는 자연수는 100보다 작다.\n",
    "\n",
    "출력\n",
    "홀수가 존재하지 않는 경우에는 첫째 줄에 -1을 출력한다. 홀수가 존재하는 경우 첫째 줄에 홀수들의 합을 출력하고, 둘째 줄에 홀수들 중 최솟값을 출력한다.\n",
    "\n",
    "예제 입력 1 \n",
    "12\n",
    "77\n",
    "38\n",
    "41\n",
    "53\n",
    "92\n",
    "85\n",
    "예제 출력 1 \n",
    "256\n",
    "41\n",
    "예제 입력 2 \n",
    "2\n",
    "4\n",
    "20\n",
    "32\n",
    "6\n",
    "10\n",
    "8\n",
    "예제 출력 2 \n",
    "-1\n",
    "\n",
    "```"
   ]
  },
  {
   "cell_type": "code",
   "execution_count": 4,
   "metadata": {},
   "outputs": [
    {
     "name": "stdout",
     "output_type": "stream",
     "text": [
      "-1\n"
     ]
    }
   ],
   "source": [
    "import sys\n",
    "\n",
    "arr = []\n",
    "\n",
    "for _ in range(7):\n",
    "    n = int(sys.stdin.readline())\n",
    "    if n % 2 != 0:\n",
    "        arr.append(n)\n",
    "\n",
    "if len(arr) == 0:\n",
    "    print(-1)\n",
    "else:\n",
    "    print(sum(arr))\n",
    "    print(min(arr))"
   ]
  }
 ],
 "metadata": {
  "interpreter": {
   "hash": "7812ea015bdcee6f23a998adcdd2ef97c151c0c241b7b7070987d9313e41299d"
  },
  "kernelspec": {
   "display_name": "Python 3.9.5 64-bit",
   "language": "python",
   "name": "python3"
  },
  "language_info": {
   "codemirror_mode": {
    "name": "ipython",
    "version": 3
   },
   "file_extension": ".py",
   "mimetype": "text/x-python",
   "name": "python",
   "nbconvert_exporter": "python",
   "pygments_lexer": "ipython3",
   "version": "3.9.5"
  },
  "orig_nbformat": 4
 },
 "nbformat": 4,
 "nbformat_minor": 2
}
