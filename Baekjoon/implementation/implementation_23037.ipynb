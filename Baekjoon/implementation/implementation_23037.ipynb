{
 "cells": [
  {
   "cell_type": "markdown",
   "metadata": {},
   "source": [
    "```\n",
    "문제\n",
    "키파는 문득 3과 4의 견고한 벽에 가로막혀 스포트라이트를 받지 못하는 5를 떠올렸다. '세상에 얼마나 많은 것들이 5와 관련이 있는데!'\n",
    "\n",
    "키파는 5가 쓰이는 곳을 떠올리기 시작했다. 사람의 손가락도 5개, 정다면체의 개수도 5개, 알려진 불가촉 홀수는 5뿐이고, 별은 보통 오각별, 그리고 무엇보다 \"별이 다섯 개!\"\n",
    "\n",
    "그러자 문득 키파는 자신의 마음 속에서 다섯제곱을 하고 싶은 욕망이 올라오는 것을 느꼈다. 키파를 위해, 다섯 자리 수를 입력받아, 각 자릿수의 다섯제곱의 합을 출력하는 프로그램을 작성해 주자.\n",
    "\n",
    "입력\n",
    "첫째 줄에 다섯 자리인 양의 정수 $n$이 주어진다. 주어지는 $n$은 $10^{4} \\leq n < 10^{\\mathbf{5}}$을 만족한다.\n",
    "\n",
    "출력\n",
    "첫째 줄에 각 자릿수의 다섯제곱의 합을 출력하라.\n",
    "\n",
    "예제 입력 1 \n",
    "12345\n",
    "예제 출력 1 \n",
    "4425\n",
    "예제 입력 2 \n",
    "54748\n",
    "예제 출력 2 \n",
    "54748\n",
    "예제 입력 3 \n",
    "92727\n",
    "예제 출력 3 \n",
    "92727\n",
    "예제 입력 4 \n",
    "93084\n",
    "예제 출력 4 \n",
    "93084\n",
    "```"
   ]
  },
  {
   "cell_type": "code",
   "execution_count": 3,
   "metadata": {},
   "outputs": [
    {
     "name": "stdout",
     "output_type": "stream",
     "text": [
      "4425\n"
     ]
    }
   ],
   "source": [
    "s = input()\n",
    "result = 0\n",
    "\n",
    "for i in s:\n",
    "    result += (int(i) ** 5)\n",
    "\n",
    "print(result)  "
   ]
  },
  {
   "cell_type": "code",
   "execution_count": null,
   "metadata": {},
   "outputs": [],
   "source": []
  }
 ],
 "metadata": {
  "kernelspec": {
   "display_name": "Python 3.9.5 64-bit",
   "language": "python",
   "name": "python3"
  },
  "language_info": {
   "codemirror_mode": {
    "name": "ipython",
    "version": 3
   },
   "file_extension": ".py",
   "mimetype": "text/x-python",
   "name": "python",
   "nbconvert_exporter": "python",
   "pygments_lexer": "ipython3",
   "version": "3.9.5"
  },
  "orig_nbformat": 4,
  "vscode": {
   "interpreter": {
    "hash": "7812ea015bdcee6f23a998adcdd2ef97c151c0c241b7b7070987d9313e41299d"
   }
  }
 },
 "nbformat": 4,
 "nbformat_minor": 2
}
