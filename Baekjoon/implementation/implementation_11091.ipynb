{
 "cells": [
  {
   "cell_type": "markdown",
   "metadata": {},
   "source": [
    "```\n",
    "문제\n",
    "팬그램은 26개의 알파벳, a~z를 최소 한번씩 모두 사용한 문장을 말한다. 아마 가장 유명한 문장은 이것일 것이다. \"The quick brown fox jumps over the lazy dog.\"\n",
    "\n",
    "꿍은 다른 문장들중에 팬그램인 것은 없는지 궁금해졌다. 그래서 여러분이 할 일은 꿍을 위해 어떠한 문장이 팬그램인지 아닌지를 판별해주는 프로그램을 짜는 것이다.\n",
    "\n",
    "팬그램에서는 알파벳의 대소문자를 구분하지 않는다고 하자.\n",
    "\n",
    "입력\n",
    "입력의 첫 번째 줄은 1 ≤ N ≤ 50의 N이 주어진다.\n",
    "\n",
    "다음 N개의 줄은 각각 한 문장이 주어지는데, 알파벳의 대소문자, 공백, 숫자, 그리고 분장부호들(. , ? ! ' \")이 포함될 수 있다.\n",
    "\n",
    "각 문장은 최소 한개의 문자를 포함하며 100개를 넘지는 않는다.\n",
    "\n",
    "출력\n",
    "각 입력에 대해, 팬그램에 해당하면 \"pangram\"을 출력한다.\n",
    "\n",
    "만약 팬그램이 아닐 경우, \"missing\"을 출력한 후 한칸 띄고 문장에 나타나지 않은 문자들을 모두 출력한다. 이때, 나타나지 않은 문자들은 모두 소문자로 출력하며 알파벳 순서대로 정렬된상태로 출력해야 한다.\n",
    "\n",
    "예제 입력 1 \n",
    "3\n",
    "The quick brown fox jumps over the lazy dog.\n",
    "ZYXW, vu TSR Ponm lkj ihgfd CBA.\n",
    ".,?!'\" 92384 abcde FGHIJ\n",
    "예제 출력 1 \n",
    "pangram\n",
    "missing eq\n",
    "missing klmnopqrstuvwxyz\n",
    "```"
   ]
  },
  {
   "cell_type": "code",
   "execution_count": null,
   "metadata": {},
   "outputs": [],
   "source": [
    "n = int(input())\n",
    "\n",
    "for _ in range(n):\n",
    "    sentence = input().lower()\n",
    "    m_alphabet = ''\n",
    "\n",
    "    for c in range(ord('a'), ord('z') + 1):\n",
    "        if sentence.find(chr(c)) == -1:\n",
    "            m_alphabet += chr(c)\n",
    "    \n",
    "    if m_alphabet == '':\n",
    "        print('pangram')\n",
    "    else:\n",
    "        print('missing {}'.format(m_alphabet))\n",
    "\n"
   ]
  }
 ],
 "metadata": {
  "interpreter": {
   "hash": "7812ea015bdcee6f23a998adcdd2ef97c151c0c241b7b7070987d9313e41299d"
  },
  "kernelspec": {
   "display_name": "Python 3.9.5 64-bit",
   "language": "python",
   "name": "python3"
  },
  "language_info": {
   "codemirror_mode": {
    "name": "ipython",
    "version": 3
   },
   "file_extension": ".py",
   "mimetype": "text/x-python",
   "name": "python",
   "nbconvert_exporter": "python",
   "pygments_lexer": "ipython3",
   "version": "3.9.5"
  },
  "orig_nbformat": 4
 },
 "nbformat": 4,
 "nbformat_minor": 2
}
