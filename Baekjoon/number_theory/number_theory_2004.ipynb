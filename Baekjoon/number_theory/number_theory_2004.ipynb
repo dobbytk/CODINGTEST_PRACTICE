{
 "cells": [
  {
   "cell_type": "markdown",
   "metadata": {},
   "source": [
    "문제: 조합 0의 개수 </br></br>\n",
    " \n",
    "$n \\choose m$의 끝자리 $0$의 개수를 출력하는 프로그램을 작성하시오.\n",
    "\n",
    "입력\n",
    "첫째 줄에 정수 $n$, $m$ ($0 \\le m \\le n \\le 2,000,000,000$, $n \\ne 0$)이 들어온다.\n",
    "\n",
    "출력\n",
    "첫째 줄에 \n",
    "$n \\choose m$의 끝자리 $0$의 개수를 출력한다.\n",
    "\n",
    "예제 입력 1 </br>\n",
    "25 12 </br>\n",
    "예제 출력 1 </br>\n",
    "2\n"
   ]
  },
  {
   "cell_type": "code",
   "execution_count": 3,
   "metadata": {},
   "outputs": [],
   "source": [
    "import math\n",
    "\n",
    "cnt = 0\n",
    "n, m = map(int, input().split())\n",
    "\n",
    "result = (math.factorial(n)) / (math.factorial(n - m) * math.factorial(m))\n",
    "\n",
    "for i in list(str(int(result)))[::-1]:\n",
    "    if i != '0':\n",
    "        break\n",
    "    else:\n",
    "        cnt += 1"
   ]
  }
 ],
 "metadata": {
  "interpreter": {
   "hash": "7812ea015bdcee6f23a998adcdd2ef97c151c0c241b7b7070987d9313e41299d"
  },
  "kernelspec": {
   "display_name": "Python 3.9.5 64-bit",
   "name": "python3"
  },
  "language_info": {
   "codemirror_mode": {
    "name": "ipython",
    "version": 3
   },
   "file_extension": ".py",
   "mimetype": "text/x-python",
   "name": "python",
   "nbconvert_exporter": "python",
   "pygments_lexer": "ipython3",
   "version": "3.9.5"
  },
  "orig_nbformat": 4
 },
 "nbformat": 4,
 "nbformat_minor": 2
}
