{
 "cells": [
  {
   "cell_type": "markdown",
   "metadata": {},
   "source": [
    "```\n",
    "문제\n",
    "자연수 N과 M이 주어졌을 때, 아래 조건을 만족하는 길이가 M인 수열을 모두 구하는 프로그램을 작성하시오.\n",
    "\n",
    "1부터 N까지 자연수 중에서 중복 없이 M개를 고른 수열\n",
    "입력\n",
    "첫째 줄에 자연수 N과 M이 주어진다. (1 ≤ M ≤ N ≤ 8)\n",
    "\n",
    "출력\n",
    "한 줄에 하나씩 문제의 조건을 만족하는 수열을 출력한다. 중복되는 수열을 여러 번 출력하면 안되며, 각 수열은 공백으로 구분해서 출력해야 한다.\n",
    "\n",
    "수열은 사전 순으로 증가하는 순서로 출력해야 한다.\n",
    "\n",
    "예제 입력 1 \n",
    "3 1\n",
    "예제 출력 1 \n",
    "1\n",
    "2\n",
    "3\n",
    "예제 입력 2 \n",
    "4 2\n",
    "예제 출력 2 \n",
    "1 2\n",
    "1 3\n",
    "1 4\n",
    "2 1\n",
    "2 3\n",
    "2 4\n",
    "3 1\n",
    "3 2\n",
    "3 4\n",
    "4 1\n",
    "4 2\n",
    "4 3\n",
    "예제 입력 3 \n",
    "4 4\n",
    "예제 출력 3 \n",
    "1 2 3 4\n",
    "1 2 4 3\n",
    "1 3 2 4\n",
    "1 3 4 2\n",
    "1 4 2 3\n",
    "1 4 3 2\n",
    "2 1 3 4\n",
    "2 1 4 3\n",
    "2 3 1 4\n",
    "2 3 4 1\n",
    "2 4 1 3\n",
    "2 4 3 1\n",
    "3 1 2 4\n",
    "3 1 4 2\n",
    "3 2 1 4\n",
    "3 2 4 1\n",
    "3 4 1 2\n",
    "3 4 2 1\n",
    "4 1 2 3\n",
    "4 1 3 2\n",
    "4 2 1 3\n",
    "4 2 3 1\n",
    "4 3 1 2\n",
    "4 3 2 1\n",
    "```"
   ]
  },
  {
   "cell_type": "code",
   "execution_count": 31,
   "metadata": {},
   "outputs": [
    {
     "name": "stdout",
     "output_type": "stream",
     "text": [
      "1 2 \n",
      "1 3 \n",
      "1 4 \n",
      "2 1 \n",
      "2 3 \n",
      "2 4 \n",
      "3 1 \n",
      "3 2 \n",
      "3 4 \n",
      "4 1 \n",
      "4 2 \n",
      "4 3 \n"
     ]
    }
   ],
   "source": [
    "from itertools import permutations\n",
    "\n",
    "a, b = map(int, input().split())\n",
    "arr = [_ for _ in range(1, a + 1)]\n",
    "\n",
    "permutation = list(permutations(arr, b))\n",
    "\n",
    "for lst in permutation:\n",
    "    for i in range(len(list(lst))):\n",
    "        print(lst[i], end=' ')\n",
    "    print()\n",
    "\n"
   ]
  },
  {
   "cell_type": "code",
   "execution_count": null,
   "metadata": {},
   "outputs": [],
   "source": []
  }
 ],
 "metadata": {
  "interpreter": {
   "hash": "7812ea015bdcee6f23a998adcdd2ef97c151c0c241b7b7070987d9313e41299d"
  },
  "kernelspec": {
   "display_name": "Python 3.9.5 64-bit",
   "language": "python",
   "name": "python3"
  },
  "language_info": {
   "codemirror_mode": {
    "name": "ipython",
    "version": 3
   },
   "file_extension": ".py",
   "mimetype": "text/x-python",
   "name": "python",
   "nbconvert_exporter": "python",
   "pygments_lexer": "ipython3",
   "version": "3.9.5"
  },
  "orig_nbformat": 4
 },
 "nbformat": 4,
 "nbformat_minor": 2
}
