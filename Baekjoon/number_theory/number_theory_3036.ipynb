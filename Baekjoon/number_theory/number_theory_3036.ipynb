{
 "cells": [
  {
   "cell_type": "markdown",
   "metadata": {},
   "source": [
    "```\n",
    "문제\n",
    "상근이는 창고에서 링 N개를 발견했다. 상근이는 각각의 링이 앞에 있는 링과 뒤에 있는 링과 접하도록 바닥에 내려놓았다. \n",
    "\n",
    "\n",
    "\n",
    "상근이는 첫 번째 링을 돌리기 시작했고, 나머지 링도 같이 돌아간다는 사실을 발견했다. 나머지 링은 첫 번째 링 보다 빠르게 돌아가기도 했고, 느리게 돌아가기도 했다. 이렇게 링을 돌리다 보니 첫 번째 링을 한 바퀴 돌리면, 나머지 링은 몇 바퀴 도는지 궁금해졌다.\n",
    "\n",
    "링의 반지름이 주어진다. 이때, 첫 번째 링을 한 바퀴 돌리면, 나머지 링은 몇 바퀴 돌아가는지 구하는 프로그램을 작성하시오.\n",
    "\n",
    "입력\n",
    "첫째 줄에 링의 개수 N이 주어진다. (3 ≤ N ≤ 100)\n",
    "\n",
    "다음 줄에는 링의 반지름이 상근이가 바닥에 놓은 순서대로 주어진다. 반지름은 1과 1000를 포함하는 사이의 자연수이다.\n",
    "\n",
    "출력\n",
    "출력은 총 N-1줄을 해야 한다. 첫 번째 링을 제외한 각각의 링에 대해서, 첫 번째 링을 한 바퀴 돌리면 그 링은 몇 바퀴 도는지 기약 분수 형태 A/B로 출력한다.\n",
    "\n",
    "예제 입력 1 \n",
    "3\n",
    "8 4 2\n",
    "예제 출력 1 \n",
    "2/1\n",
    "4/1\n",
    "예제 입력 2 \n",
    "4\n",
    "12 3 8 4\n",
    "예제 출력 2 \n",
    "4/1\n",
    "3/2\n",
    "3/1\n",
    "예제 입력 3 \n",
    "4\n",
    "300 1 1 300\n",
    "예제 출력 3 \n",
    "300/1\n",
    "300/1\n",
    "1/1\n",
    "```"
   ]
  },
  {
   "cell_type": "code",
   "execution_count": 5,
   "metadata": {},
   "outputs": [
    {
     "name": "stdout",
     "output_type": "stream",
     "text": [
      "300/1\n",
      "300/1\n",
      "1/1\n"
     ]
    }
   ],
   "source": [
    "import math\n",
    "\n",
    "n = int(input())\n",
    "arr = list(map(int, input().split()))\n",
    "\n",
    "for i in range(1, len(arr)):\n",
    "    s = arr[0]\n",
    "    k = math.gcd(s, arr[i])\n",
    "    print(\"{}/{}\".format(s // k, arr[i] // k))\n",
    "\n"
   ]
  },
  {
   "cell_type": "code",
   "execution_count": null,
   "metadata": {},
   "outputs": [],
   "source": []
  }
 ],
 "metadata": {
  "interpreter": {
   "hash": "7812ea015bdcee6f23a998adcdd2ef97c151c0c241b7b7070987d9313e41299d"
  },
  "kernelspec": {
   "display_name": "Python 3.9.5 64-bit",
   "language": "python",
   "name": "python3"
  },
  "language_info": {
   "codemirror_mode": {
    "name": "ipython",
    "version": 3
   },
   "file_extension": ".py",
   "mimetype": "text/x-python",
   "name": "python",
   "nbconvert_exporter": "python",
   "pygments_lexer": "ipython3",
   "version": "3.9.5"
  },
  "orig_nbformat": 4
 },
 "nbformat": 4,
 "nbformat_minor": 2
}
