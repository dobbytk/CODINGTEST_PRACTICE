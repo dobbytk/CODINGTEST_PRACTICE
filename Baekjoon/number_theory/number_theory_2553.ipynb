{
 "cells": [
  {
   "cell_type": "code",
   "execution_count": null,
   "source": [
    "\"\"\"\n",
    "문제\n",
    "N!의 값을 계산한 후에, 0이 아닌 가장 낮은 자리 수를 구하시오.\n",
    "\n",
    "예를 들어, 4! = 24 이기 때문에, 0이 아닌 가장 낮은 자리 수는 4이다. 또, 5! = 120이기 때문에, 0이 아닌 가장 낮은 자리 수는 2 이다.\n",
    "\n",
    "입력\n",
    "첫째 줄에 N이 주어진다. N은 20,000보다 작거나 같은 자연수 이다.\n",
    "\n",
    "출력\n",
    "첫째 줄에 N!의 0이 아닌 마지막 자리수를 출력한다.\n",
    "\n",
    "예제 입력 1 \n",
    "5\n",
    "예제 출력 1 \n",
    "2\n",
    "\"\"\""
   ],
   "outputs": [],
   "metadata": {}
  },
  {
   "cell_type": "code",
   "execution_count": null,
   "source": [
    "import math\n",
    "\n",
    "n = int(input())\n",
    "l = list(str(math.factorial(n)))\n",
    "for s in l[::-1]:\n",
    "    if s == '0':\n",
    "        pass\n",
    "    else:\n",
    "        print(int(s))\n",
    "        break\n"
   ],
   "outputs": [],
   "metadata": {}
  }
 ],
 "metadata": {
  "orig_nbformat": 4,
  "language_info": {
   "name": "python"
  }
 },
 "nbformat": 4,
 "nbformat_minor": 2
}