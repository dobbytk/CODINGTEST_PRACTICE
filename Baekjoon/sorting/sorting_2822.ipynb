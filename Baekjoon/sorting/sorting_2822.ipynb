{
 "cells": [
  {
   "cell_type": "code",
   "execution_count": null,
   "source": [
    "\"\"\"\n",
    "문제\n",
    "상근이는 퀴즈쇼의 PD이다. 이 퀴즈쇼의 참가자는 총 8개 문제를 푼다. 참가자는 각 문제를 풀고, 그 문제를 풀었을 때 얻는 점수는 문제를 풀기 시작한 시간부터 경과한 시간과 난이도로 결정한다. 문제를 풀지 못한 경우에는 0점을 받는다. 참가자의 총 점수는 가장 높은 점수 5개의 합이다. \n",
    "\n",
    "상근이는 잠시 여자친구와 전화 통화를 하느라 참가자의 점수를 계산하지 않고 있었다. 참가자의 8개 문제 점수가 주어졌을 때, 총 점수를 구하는 프로그램을 작성하시오.\n",
    "\n",
    "입력\n",
    "8개 줄에 걸쳐서 각 문제에 대한 참가자의 점수가 주어진다. 점수는 0보다 크거나 같고, 150보다 작거나 같다. 모든 문제에 대한 점수는 서로 다르다. 입력으로 주어지는 순서대로 1번 문제, 2번 문제, ... 8번 문제이다.\n",
    "\n",
    "출력\n",
    "첫째 줄에 참가자의 총점을 출력한다. 둘째 줄에는 어떤 문제가 최종 점수에 포함되는지를 공백으로 구분하여 출력한다. 출력은 문제 번호가 증가하는 순서이어야 한다.\n",
    "\n",
    "예제 입력 1      예제 출력 1          \n",
    "20             261\n",
    "30             3 4 5 6 8\n",
    "50\n",
    "48\n",
    "33\n",
    "66\n",
    "0\n",
    "64\n",
    "\n",
    "예제 입력 2     예제 출력 2\n",
    "20            373\n",
    "0             3 4 5 6 7\n",
    "50\n",
    "80\n",
    "77\n",
    "110\n",
    "56\n",
    "48\n",
    "\n",
    "예제 입력 3    예제 출력 3\n",
    "20           355\n",
    "30           2 3 4 5 8\n",
    "50\n",
    "80\n",
    "110\n",
    "11\n",
    "0\n",
    "85\n",
    "\"\"\""
   ],
   "outputs": [],
   "metadata": {}
  },
  {
   "cell_type": "code",
   "execution_count": 5,
   "source": [
    "arr = []\n",
    "arr_idx = []\n",
    "for i in range(8):\n",
    "    n = int(input())\n",
    "    arr.append(n)\n",
    "\n",
    "sorted_arr = sorted(arr, reverse=True)\n",
    "best_score = sorted_arr[:5]\n",
    "\n",
    "for score in best_score:\n",
    "    arr_idx.append(arr.index(score))\n",
    "\n",
    "print(sum(best_score))\n",
    "\n",
    "for idx in sorted(arr_idx):\n",
    "    print(idx+1, end=' ')"
   ],
   "outputs": [
    {
     "output_type": "stream",
     "name": "stdout",
     "text": [
      "261\n",
      "3 4 5 6 8 "
     ]
    }
   ],
   "metadata": {}
  }
 ],
 "metadata": {
  "orig_nbformat": 4,
  "language_info": {
   "name": "python",
   "version": "3.9.5",
   "mimetype": "text/x-python",
   "codemirror_mode": {
    "name": "ipython",
    "version": 3
   },
   "pygments_lexer": "ipython3",
   "nbconvert_exporter": "python",
   "file_extension": ".py"
  },
  "kernelspec": {
   "name": "python3",
   "display_name": "Python 3.9.5 64-bit"
  },
  "interpreter": {
   "hash": "7812ea015bdcee6f23a998adcdd2ef97c151c0c241b7b7070987d9313e41299d"
  }
 },
 "nbformat": 4,
 "nbformat_minor": 2
}