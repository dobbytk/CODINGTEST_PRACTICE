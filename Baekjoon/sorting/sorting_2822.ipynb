{
 "cells": [
  {
   "cell_type": "code",
   "execution_count": 5,
   "source": [
    "arr = []\n",
    "arr_idx = []\n",
    "for i in range(8):\n",
    "    n = int(input())\n",
    "    arr.append(n)\n",
    "\n",
    "sorted_arr = sorted(arr, reverse=True)\n",
    "best_score = sorted_arr[:5]\n",
    "\n",
    "for score in best_score:\n",
    "    arr_idx.append(arr.index(score))\n",
    "\n",
    "print(sum(best_score))\n",
    "\n",
    "for idx in sorted(arr_idx):\n",
    "    print(idx+1, end=' ')"
   ],
   "outputs": [
    {
     "output_type": "stream",
     "name": "stdout",
     "text": [
      "261\n",
      "3 4 5 6 8 "
     ]
    }
   ],
   "metadata": {}
  },
  {
   "cell_type": "code",
   "execution_count": null,
   "source": [],
   "outputs": [],
   "metadata": {}
  }
 ],
 "metadata": {
  "orig_nbformat": 4,
  "language_info": {
   "name": "python",
   "version": "3.9.5",
   "mimetype": "text/x-python",
   "codemirror_mode": {
    "name": "ipython",
    "version": 3
   },
   "pygments_lexer": "ipython3",
   "nbconvert_exporter": "python",
   "file_extension": ".py"
  },
  "kernelspec": {
   "name": "python3",
   "display_name": "Python 3.9.5 64-bit"
  },
  "interpreter": {
   "hash": "7812ea015bdcee6f23a998adcdd2ef97c151c0c241b7b7070987d9313e41299d"
  }
 },
 "nbformat": 4,
 "nbformat_minor": 2
}