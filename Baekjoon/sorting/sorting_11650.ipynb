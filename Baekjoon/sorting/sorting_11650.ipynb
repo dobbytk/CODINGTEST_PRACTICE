{
 "cells": [
  {
   "cell_type": "code",
   "execution_count": null,
   "source": [
    "\"\"\"\n",
    "문제\n",
    "2차원 평면 위의 점 N개가 주어진다. 좌표를 x좌표가 증가하는 순으로, x좌표가 같으면 y좌표가 증가하는 순서로 정렬한 다음 출력하는 프로그램을 작성하시오.\n",
    "\n",
    "입력\n",
    "첫째 줄에 점의 개수 N (1 ≤ N ≤ 100,000)이 주어진다. 둘째 줄부터 N개의 줄에는 i번점의 위치 xi와 yi가 주어진다. (-100,000 ≤ xi, yi ≤ 100,000) 좌표는 항상 정수이고, 위치가 같은 두 점은 없다.\n",
    "\n",
    "출력\n",
    "첫째 줄부터 N개의 줄에 점을 정렬한 결과를 출력한다.\n",
    "\n",
    "예제 입력 1 \n",
    "5\n",
    "3 4\n",
    "1 1\n",
    "1 -1\n",
    "2 2\n",
    "3 3\n",
    "예제 출력 1 \n",
    "1 -1\n",
    "1 1\n",
    "2 2\n",
    "3 3\n",
    "3 4\n",
    "\"\"\""
   ],
   "outputs": [],
   "metadata": {}
  },
  {
   "cell_type": "code",
   "execution_count": 3,
   "source": [
    "n = int(input())\n",
    "arr = []\n",
    "\n",
    "for i in range(n):\n",
    "    a, b = map(int, input().split())\n",
    "    arr.append([a, b])\n",
    "\n",
    "arr.sort()\n",
    "\n",
    "for i in range(len(arr)):\n",
    "    print(arr[i][0], arr[i][1])"
   ],
   "outputs": [
    {
     "output_type": "stream",
     "name": "stdout",
     "text": [
      "1 -1\n",
      "1 1\n",
      "2 2\n",
      "3 3\n",
      "3 4\n"
     ]
    }
   ],
   "metadata": {}
  },
  {
   "cell_type": "code",
   "execution_count": null,
   "source": [],
   "outputs": [],
   "metadata": {}
  }
 ],
 "metadata": {
  "orig_nbformat": 4,
  "language_info": {
   "name": "python",
   "version": "3.9.5",
   "mimetype": "text/x-python",
   "codemirror_mode": {
    "name": "ipython",
    "version": 3
   },
   "pygments_lexer": "ipython3",
   "nbconvert_exporter": "python",
   "file_extension": ".py"
  },
  "kernelspec": {
   "name": "python3",
   "display_name": "Python 3.9.5 64-bit"
  },
  "interpreter": {
   "hash": "7812ea015bdcee6f23a998adcdd2ef97c151c0c241b7b7070987d9313e41299d"
  }
 },
 "nbformat": 4,
 "nbformat_minor": 2
}