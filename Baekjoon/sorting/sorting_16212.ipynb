{
 "cells": [
  {
   "cell_type": "markdown",
   "metadata": {},
   "source": [
    "```\n",
    "문제\n",
    "형준이는 수열을 하나 가지고 있다. 형준이는 수열을 정열적으로 정렬해보려 한다. 과연, 정렬할 수 있을까?\n",
    "\n",
    "입력\n",
    "첫째 줄에는 수열의 길이 N (1 ≤ N ≤ 500,000)이 주어진다.\n",
    "\n",
    "둘째 줄에는 수열의 각 원소 ai가 공백을 사이에 두고 차례대로 주어진다. ai의 절댓값은 200만 이하이다.\n",
    "\n",
    "출력\n",
    "수열 a를 오름차순으로 정렬해서, 공백을 사이에 두고 하나씩 차곡차곡 출력하자.\n",
    "\n",
    "서브태스크 1 (10점)\n",
    "정렬하려 하는 배열의 길이 N이 N≤1,000을 만족한다.\n",
    "\n",
    "서브태스크 2 (15점)\n",
    "문제에 제시된 조건 이외의 다른 제약은 없다.\n",
    "\n",
    "예제 입력 1 \n",
    "6\n",
    "14 5 8 7 1 10\n",
    "예제 출력 1 \n",
    "1 5 7 8 10 14\n",
    "```"
   ]
  },
  {
   "cell_type": "code",
   "execution_count": 2,
   "metadata": {},
   "outputs": [
    {
     "name": "stdout",
     "output_type": "stream",
     "text": [
      "1 5 7 8 10 14 "
     ]
    }
   ],
   "source": [
    "n = int(input())\n",
    "\n",
    "lst = sorted(map(int, input().split()))\n",
    "\n",
    "for i in lst:\n",
    "    print(i, end=' ')\n"
   ]
  },
  {
   "cell_type": "code",
   "execution_count": null,
   "metadata": {},
   "outputs": [],
   "source": []
  }
 ],
 "metadata": {
  "interpreter": {
   "hash": "7812ea015bdcee6f23a998adcdd2ef97c151c0c241b7b7070987d9313e41299d"
  },
  "kernelspec": {
   "display_name": "Python 3.9.5 64-bit",
   "language": "python",
   "name": "python3"
  },
  "language_info": {
   "codemirror_mode": {
    "name": "ipython",
    "version": 3
   },
   "file_extension": ".py",
   "mimetype": "text/x-python",
   "name": "python",
   "nbconvert_exporter": "python",
   "pygments_lexer": "ipython3",
   "version": "3.9.5"
  },
  "orig_nbformat": 4
 },
 "nbformat": 4,
 "nbformat_minor": 2
}
