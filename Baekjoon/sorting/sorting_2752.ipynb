{
 "cells": [
  {
   "cell_type": "code",
   "execution_count": 2,
   "source": [
    "\"\"\"\n",
    "문제\n",
    "동규는 세수를 하다가 정렬이 하고싶어졌다.\n",
    "\n",
    "숫자 세 개를 생각한 뒤에, 이를 오름차순으로 정렬하고 싶어 졌다.\n",
    "\n",
    "숫자 세 개가 주어졌을 때, 가장 작은 수, 그 다음 수, 가장 큰 수를 출력하는 프로그램을 작성하시오.\n",
    "\n",
    "입력\n",
    "숫자 세 개가 주어진다. 이 숫자는 1보다 크거나 같고, 1,000,000보다 작거나 같다. 이 숫자는 모두 다르다.\n",
    "\n",
    "출력\n",
    "제일 작은 수, 그 다음 수, 제일 큰 수를 차례대로 출력한다.\n",
    "\n",
    "예제 입력 1 \n",
    "3 1 2\n",
    "예제 출력 1 \n",
    "1 2 3\n",
    "\"\"\""
   ],
   "outputs": [],
   "metadata": {}
  },
  {
   "cell_type": "code",
   "execution_count": 6,
   "source": [
    "arr = list(map(int, input().split()))\n",
    "arr.sort()\n",
    "for i in range(len(arr)):\n",
    "    print(arr[i], end=' ')"
   ],
   "outputs": [
    {
     "output_type": "stream",
     "name": "stdout",
     "text": [
      "1 2 3 "
     ]
    }
   ],
   "metadata": {}
  }
 ],
 "metadata": {
  "orig_nbformat": 4,
  "language_info": {
   "name": "python",
   "version": "3.9.5",
   "mimetype": "text/x-python",
   "codemirror_mode": {
    "name": "ipython",
    "version": 3
   },
   "pygments_lexer": "ipython3",
   "nbconvert_exporter": "python",
   "file_extension": ".py"
  },
  "kernelspec": {
   "name": "python3",
   "display_name": "Python 3.9.5 64-bit"
  },
  "interpreter": {
   "hash": "7812ea015bdcee6f23a998adcdd2ef97c151c0c241b7b7070987d9313e41299d"
  }
 },
 "nbformat": 4,
 "nbformat_minor": 2
}