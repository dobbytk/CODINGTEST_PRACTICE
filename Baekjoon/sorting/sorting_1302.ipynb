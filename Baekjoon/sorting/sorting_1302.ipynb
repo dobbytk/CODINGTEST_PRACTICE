{
 "cells": [
  {
   "cell_type": "markdown",
   "metadata": {},
   "source": [
    "```\n",
    "문제\n",
    "김형택은 탑문고의 직원이다. 김형택은 계산대에서 계산을 하는 직원이다. 김형택은 그날 근무가 끝난 후에, 오늘 판매한 책의 제목을 보면서 가장 많이 팔린 책의 제목을 칠판에 써놓는 일도 같이 하고 있다.\n",
    "\n",
    "오늘 하루 동안 팔린 책의 제목이 입력으로 들어왔을 때, 가장 많이 팔린 책의 제목을 출력하는 프로그램을 작성하시오.\n",
    "\n",
    "입력\n",
    "첫째 줄에 오늘 하루 동안 팔린 책의 개수 N이 주어진다. 이 값은 1,000보다 작거나 같은 자연수이다. 둘째부터 N개의 줄에 책의 제목이 입력으로 들어온다. 책의 제목의 길이는 50보다 작거나 같고, 알파벳 소문자로만 이루어져 있다.\n",
    "\n",
    "출력\n",
    "첫째 줄에 가장 많이 팔린 책의 제목을 출력한다. 만약 가장 많이 팔린 책이 여러 개일 경우에는 사전 순으로 가장 앞서는 제목을 출력한다.\n",
    "\n",
    "예제 입력 1 \n",
    "5\n",
    "top\n",
    "top\n",
    "top\n",
    "top\n",
    "kimtop\n",
    "예제 출력 1 \n",
    "top\n",
    "예제 입력 2 \n",
    "9\n",
    "table\n",
    "chair\n",
    "table\n",
    "table\n",
    "lamp\n",
    "door\n",
    "lamp\n",
    "table\n",
    "chair\n",
    "예제 출력 2 \n",
    "table\n",
    "예제 입력 3 \n",
    "6\n",
    "a\n",
    "a\n",
    "a\n",
    "b\n",
    "b\n",
    "b\n",
    "예제 출력 3 \n",
    "a\n",
    "예제 입력 4 \n",
    "8\n",
    "icecream\n",
    "peanuts\n",
    "peanuts\n",
    "chocolate\n",
    "candy\n",
    "chocolate\n",
    "icecream\n",
    "apple\n",
    "예제 출력 4 \n",
    "chocolate\n",
    "```"
   ]
  },
  {
   "cell_type": "code",
   "execution_count": 28,
   "metadata": {},
   "outputs": [
    {
     "name": "stdout",
     "output_type": "stream",
     "text": [
      "chocolate\n"
     ]
    }
   ],
   "source": [
    "from collections import Counter\n",
    "\n",
    "n = int(input())\n",
    "dic = Counter()\n",
    "x = []\n",
    "\n",
    "for _ in range(n):\n",
    "    s = input()\n",
    "    dic[s] += 1\n",
    "\n",
    "sdic = sorted(dic.items(), key = lambda x : (-x[1], x[0]))\n",
    "print(sdic[0][0])"
   ]
  }
 ],
 "metadata": {
  "interpreter": {
   "hash": "7812ea015bdcee6f23a998adcdd2ef97c151c0c241b7b7070987d9313e41299d"
  },
  "kernelspec": {
   "display_name": "Python 3.9.5 64-bit",
   "language": "python",
   "name": "python3"
  },
  "language_info": {
   "codemirror_mode": {
    "name": "ipython",
    "version": 3
   },
   "file_extension": ".py",
   "mimetype": "text/x-python",
   "name": "python",
   "nbconvert_exporter": "python",
   "pygments_lexer": "ipython3",
   "version": "3.9.5"
  },
  "orig_nbformat": 4
 },
 "nbformat": 4,
 "nbformat_minor": 2
}
