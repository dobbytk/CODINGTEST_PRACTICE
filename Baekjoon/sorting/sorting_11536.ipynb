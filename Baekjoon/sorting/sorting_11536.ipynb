{
 "cells": [
  {
   "cell_type": "markdown",
   "metadata": {},
   "source": [
    "```\n",
    "문제\n",
    "악독한 코치 주혁은 선수들을 이름 순으로 세우는 것을 좋아한다. 더 악독한 것은 어떤 순서로 서야할지도 알려주지 않았다! 선수들의 이름이 주어질 때 어떤 순서로 이루어져있는지 확인해보자.\n",
    "\n",
    "입력\n",
    "첫째 줄에 N개의 이름이 주어진다. (2 ≤ N ≤ 20)\n",
    "\n",
    "다음 N개의 줄에는 각 선수들의 이름이 주어진다. 이름은 2 이상 12 이하의 대문자로만 이루어져있다. 선수의 이름은 중복되지 않는다.\n",
    "\n",
    "출력\n",
    "이름이 증가하는 순으로 나타나면 INCREASING, 감소하는 순이면 DECREASING을 한 줄에 출력한다. 만약 위의 두 경우가 아니라면 NEITHER를 출력한다.\n",
    "\n",
    "예제 입력 1 \n",
    "5\n",
    "JOE\n",
    "BOB\n",
    "ANDY\n",
    "AL\n",
    "ADAM\n",
    "예제 출력 1 \n",
    "DECREASING\n",
    "예제 입력 2 \n",
    "11\n",
    "HOPE\n",
    "ALI\n",
    "BECKY\n",
    "JULIE\n",
    "MEGHAN\n",
    "LAUREN\n",
    "MORGAN\n",
    "CARLI\n",
    "MEGAN\n",
    "ALEX\n",
    "TOBIN\n",
    "예제 출력 2 \n",
    "NEITHER\n",
    "예제 입력 3 \n",
    "4\n",
    "GEORGE\n",
    "JOHN\n",
    "PAUL\n",
    "RINGO\n",
    "예제 출력 3 \n",
    "INCREASING\n",
    "```"
   ]
  },
  {
   "cell_type": "code",
   "execution_count": 2,
   "metadata": {},
   "outputs": [
    {
     "name": "stdout",
     "output_type": "stream",
     "text": [
      "DECREASING\n"
     ]
    }
   ],
   "source": [
    "n = int(input())\n",
    "arr = []\n",
    "\n",
    "for _ in range(n):\n",
    "    arr.append(input())\n",
    "\n",
    "sort_arr = sorted(arr)\n",
    "\n",
    "if sort_arr == arr:\n",
    "    print(\"INCREASING\")\n",
    "elif sort_arr[::-1] == arr:\n",
    "    print(\"DECREASING\")\n",
    "else:\n",
    "    print(\"NEITHER\")"
   ]
  }
 ],
 "metadata": {
  "interpreter": {
   "hash": "7812ea015bdcee6f23a998adcdd2ef97c151c0c241b7b7070987d9313e41299d"
  },
  "kernelspec": {
   "display_name": "Python 3.9.5 64-bit",
   "language": "python",
   "name": "python3"
  },
  "language_info": {
   "codemirror_mode": {
    "name": "ipython",
    "version": 3
   },
   "file_extension": ".py",
   "mimetype": "text/x-python",
   "name": "python",
   "nbconvert_exporter": "python",
   "pygments_lexer": "ipython3",
   "version": "3.9.5"
  },
  "orig_nbformat": 4
 },
 "nbformat": 4,
 "nbformat_minor": 2
}
