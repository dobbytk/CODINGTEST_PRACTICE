{
 "cells": [
  {
   "cell_type": "markdown",
   "metadata": {},
   "source": [
    "```\n",
    "문제\n",
    "최근 아시아 지역의 학생들만 참여하는 정보 올림피아드 대회가 만들어졌다. 이 대회는 온라인으로 치러지기 때문에 각 나라에서 이 대회에 참여하는 학생 수의 제한은 없다. \n",
    "\n",
    "참여한 학생들의 성적순서대로 세 명에게만 금, 은, 동메달을 수여한다. 단, 동점자는 없다고 가정한다. 그리고 나라별 메달 수는 최대 두 개다.\n",
    "\n",
    "예를 들어, 대회 결과가 다음의 표와 같이 주어졌다고 하자.\n",
    "\n",
    "참가국\t학생번호\t점수\n",
    "1\t1\t230\n",
    "1\t2\t210\n",
    "1\t3\t205\n",
    "2\t1\t100\n",
    "2\t2\t150\n",
    "3\t1\t175\n",
    "3\t2\t190\n",
    "3\t3\t180\n",
    "3\t4\t195\n",
    "이 경우, 금메달 수상자는 1번 국가의 1번 학생이고, 은메달 수상자는 1번 국가의 2번 학생이며, 동메달 수상자는 3번 국가의 4번 학생이다. (1번 국가의 3번 학생의 성적이 동메달 수여자보다 높지만, 나라 별 메달 수가 두 개 이하 이므로 1번 국가 3번 학생은 동메달을 받을 수 없다.)\n",
    "\n",
    "대회 결과가 입력으로 주어질 때, 메달 수상자를 결정하여 출력하는 프로그램을 작성하시오.\n",
    "\n",
    "입력\n",
    "첫 번째 줄에는 대회참가 학생 수를 나타내는 N이 주어진다. 단, 3 ≤ N ≤ 100이다. 두 번째 줄부터 N개의 줄에는 각 줄마다 한 학생의 소속 국가 번호, 학생 번호, 그리고 성적이 하나의 빈칸을 사이에 두고 주어진다. 단, 국가 번호는 1부터 순서대로 하나의 정수로 주어지며, 각 학생번호는 각 나라별로 1부터 순서대로 하나의 정수로 주어진다, 점수는 0 이상 1000 이하의 정수이고, 동점자는 없다고 가정한다. 입력으로 제공되는 국가는 적어도 두 나라 이상이다.\n",
    "\n",
    "출력\n",
    "메달을 받는 학생들을 금, 은, 동메달 순서대로 한 줄에 한 명씩 출력한다. 즉, 첫 번째 줄에는 금메달 수상자를, 두 번째 줄에는 은메달 수상자를, 세 번째 줄에는 동메달 수상자를 출력한다. 하나의 줄에는 소속국가 번호와 학생 번호를 하나의 빈칸을 사이에 두고 출력한다. \n",
    "\n",
    "예제 입력 1 \n",
    "9\n",
    "1 1 230\n",
    "1 2 210\n",
    "1 3 205\n",
    "2 1 100\n",
    "2 2 150\n",
    "3 1 175\n",
    "3 2 190\n",
    "3 3 180\n",
    "3 4 195\n",
    "예제 출력 1 \n",
    "1 1\n",
    "1 2\n",
    "3 4\n",
    "```"
   ]
  },
  {
   "cell_type": "code",
   "execution_count": null,
   "metadata": {},
   "outputs": [],
   "source": [
    "n = int(input())\n",
    "\n",
    "arr = [list(map(int, input().split())) for _ in range(n)]\n",
    "country_num = arr[-1][0] \n",
    "arr = sorted(arr, key = lambda x : x[2], reverse = True)\n",
    "answer = [0] * (country_num + 1)\n",
    "cnt = 0\n",
    "\n",
    "for i in arr:\n",
    "    if cnt >= 3:\n",
    "        break\n",
    "    if answer[i[0]] < 2:\n",
    "        print(i[0], i[1])\n",
    "        answer[i[0]] += 1\n",
    "        cnt += 1\n",
    "    else:\n",
    "        continue"
   ]
  }
 ],
 "metadata": {
  "interpreter": {
   "hash": "7812ea015bdcee6f23a998adcdd2ef97c151c0c241b7b7070987d9313e41299d"
  },
  "kernelspec": {
   "display_name": "Python 3.9.5 64-bit",
   "language": "python",
   "name": "python3"
  },
  "language_info": {
   "codemirror_mode": {
    "name": "ipython",
    "version": 3
   },
   "file_extension": ".py",
   "mimetype": "text/x-python",
   "name": "python",
   "nbconvert_exporter": "python",
   "pygments_lexer": "ipython3",
   "version": "3.9.5"
  },
  "orig_nbformat": 4
 },
 "nbformat": 4,
 "nbformat_minor": 2
}
