{
 "cells": [
  {
   "cell_type": "code",
   "execution_count": 1,
   "source": [
    "\"\"\"\n",
    "문제\n",
    "N×N의 표에 수 N2개 채워져 있다. 채워진 수에는 한 가지 특징이 있는데, 모든 수는 자신의 한 칸 위에 있는 수보다 크다는 것이다. N=5일 때의 예를 보자.\n",
    "\n",
    "12\t7\t9\t15\t5\n",
    "13\t8\t11\t19\t6\n",
    "21\t10\t26\t31\t16\n",
    "48\t14\t28\t35\t25\n",
    "52\t20\t32\t41\t49\n",
    "이러한 표가 주어졌을 때, N번째 큰 수를 찾는 프로그램을 작성하시오. 표에 채워진 수는 모두 다르다.\n",
    "\n",
    "입력\n",
    "첫째 줄에 N(1 ≤ N ≤ 1,500)이 주어진다. 다음 N개의 줄에는 각 줄마다 N개의 수가 주어진다. 표에 적힌 수는 -10억보다 크거나 같고, 10억보다 작거나 같은 정수이다.\n",
    "\n",
    "출력\n",
    "첫째 줄에 N번째 큰 수를 출력한다.\n",
    "\n",
    "예제 입력 1 \n",
    "5\n",
    "12 7 9 15 5\n",
    "13 8 11 19 6\n",
    "21 10 26 31 16\n",
    "48 14 28 35 25\n",
    "52 20 32 41 49\n",
    "예제 출력 1 \n",
    "35\n",
    "\"\"\""
   ],
   "outputs": [
    {
     "output_type": "stream",
     "name": "stdout",
     "text": [
      "Hello\n"
     ]
    }
   ],
   "metadata": {}
  },
  {
   "cell_type": "code",
   "execution_count": 32,
   "source": [
    "import numpy as np\n",
    "\n",
    "n = int(input())\n",
    "matrix = np.zeros((n, n))"
   ],
   "outputs": [],
   "metadata": {}
  },
  {
   "cell_type": "code",
   "execution_count": 35,
   "source": [
    "for i in range(n):\n",
    "    a = list(map(int, input().split()))\n",
    "    matrix[i] += np.array(a)\n"
   ],
   "outputs": [],
   "metadata": {}
  },
  {
   "cell_type": "code",
   "execution_count": 36,
   "source": [
    "matrix"
   ],
   "outputs": [
    {
     "output_type": "execute_result",
     "data": {
      "text/plain": [
       "array([[12.,  7.,  9., 15.,  5.],\n",
       "       [13.,  8., 11., 19.,  6.],\n",
       "       [21., 10., 26., 31., 16.],\n",
       "       [48., 14., 28., 35., 25.],\n",
       "       [52., 20., 32., 41., 49.]])"
      ]
     },
     "metadata": {},
     "execution_count": 36
    }
   ],
   "metadata": {}
  },
  {
   "cell_type": "code",
   "execution_count": 37,
   "source": [
    "matrix = matrix.flatten()"
   ],
   "outputs": [
    {
     "output_type": "execute_result",
     "data": {
      "text/plain": [
       "array([12.,  7.,  9., 15.,  5., 13.,  8., 11., 19.,  6., 21., 10., 26.,\n",
       "       31., 16., 48., 14., 28., 35., 25., 52., 20., 32., 41., 49.])"
      ]
     },
     "metadata": {},
     "execution_count": 37
    }
   ],
   "metadata": {}
  },
  {
   "cell_type": "code",
   "execution_count": 42,
   "source": [
    "print(int(np.sort(matrix)[::-1][n-1]))"
   ],
   "outputs": [
    {
     "output_type": "stream",
     "name": "stdout",
     "text": [
      "35\n"
     ]
    }
   ],
   "metadata": {}
  },
  {
   "cell_type": "code",
   "execution_count": 43,
   "source": [
    "import numpy as np\n",
    "\n",
    "n = int(input())\n",
    "matrix = np.zeros((n, n))\n",
    "\n",
    "for i in range(n):\n",
    "    a = list(map(int, input().split()))\n",
    "    matrix[i] += np.array(a)\n",
    "\n",
    "matrix = matrix.flatten()\n",
    "print(int(np.sort(matrix)[::-1][n-1]))\n"
   ],
   "outputs": [
    {
     "output_type": "stream",
     "name": "stdout",
     "text": [
      "35\n"
     ]
    }
   ],
   "metadata": {}
  },
  {
   "cell_type": "code",
   "execution_count": null,
   "source": [],
   "outputs": [],
   "metadata": {}
  }
 ],
 "metadata": {
  "orig_nbformat": 4,
  "language_info": {
   "name": "python",
   "version": "3.9.5",
   "mimetype": "text/x-python",
   "codemirror_mode": {
    "name": "ipython",
    "version": 3
   },
   "pygments_lexer": "ipython3",
   "nbconvert_exporter": "python",
   "file_extension": ".py"
  },
  "kernelspec": {
   "name": "python3",
   "display_name": "Python 3.9.5 64-bit"
  },
  "interpreter": {
   "hash": "7812ea015bdcee6f23a998adcdd2ef97c151c0c241b7b7070987d9313e41299d"
  }
 },
 "nbformat": 4,
 "nbformat_minor": 2
}