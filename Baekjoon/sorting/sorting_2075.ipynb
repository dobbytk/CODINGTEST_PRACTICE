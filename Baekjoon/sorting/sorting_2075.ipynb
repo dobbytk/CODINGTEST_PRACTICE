{
 "cells": [
  {
   "cell_type": "code",
   "execution_count": null,
   "metadata": {},
   "outputs": [],
   "source": [
    "\"\"\"\n",
    "문제\n",
    "N×N의 표에 수 N2개 채워져 있다. 채워진 수에는 한 가지 특징이 있는데, 모든 수는 자신의 한 칸 위에 있는 수보다 크다는 것이다. N=5일 때의 예를 보자.\n",
    "\n",
    "12\t7\t9\t15\t5\n",
    "13\t8\t11\t19\t6\n",
    "21\t10\t26\t31\t16\n",
    "48\t14\t28\t35\t25\n",
    "52\t20\t32\t41\t49\n",
    "이러한 표가 주어졌을 때, N번째 큰 수를 찾는 프로그램을 작성하시오. 표에 채워진 수는 모두 다르다.\n",
    "\n",
    "입력\n",
    "첫째 줄에 N(1 ≤ N ≤ 1,500)이 주어진다. 다음 N개의 줄에는 각 줄마다 N개의 수가 주어진다. 표에 적힌 수는 -10억보다 크거나 같고, 10억보다 작거나 같은 정수이다.\n",
    "\n",
    "출력\n",
    "첫째 줄에 N번째 큰 수를 출력한다.\n",
    "\n",
    "예제 입력 1 \n",
    "5\n",
    "12 7 9 15 5\n",
    "13 8 11 19 6\n",
    "21 10 26 31 16\n",
    "48 14 28 35 25\n",
    "52 20 32 41 49\n",
    "예제 출력 1 \n",
    "35\n",
    "\"\"\""
   ]
  },
  {
   "cell_type": "code",
   "execution_count": null,
   "metadata": {},
   "outputs": [],
   "source": [
    "import heapq as hq\n",
    "\n",
    "h = []\n",
    "n = int(input())\n",
    "\n",
    "for _ in range(n):\n",
    "    nums = list(map(int, input().split()))\n",
    "\n",
    "    if not h: # heap == True\n",
    "        for num in nums:\n",
    "            hq.heappush(h, num)\n",
    "        \n",
    "    else:\n",
    "        for num in nums:\n",
    "            if h[0] < num:\n",
    "                hq.heappush(h, num)\n",
    "                hq.heappop(h)\n",
    "\n",
    "print(h[0])"
   ]
  }
 ],
 "metadata": {
  "interpreter": {
   "hash": "7812ea015bdcee6f23a998adcdd2ef97c151c0c241b7b7070987d9313e41299d"
  },
  "kernelspec": {
   "display_name": "Python 3.9.5 64-bit",
   "name": "python3"
  },
  "language_info": {
   "codemirror_mode": {
    "name": "ipython",
    "version": 3
   },
   "file_extension": ".py",
   "mimetype": "text/x-python",
   "name": "python",
   "nbconvert_exporter": "python",
   "pygments_lexer": "ipython3",
   "version": "3.9.5"
  },
  "orig_nbformat": 4
 },
 "nbformat": 4,
 "nbformat_minor": 2
}
