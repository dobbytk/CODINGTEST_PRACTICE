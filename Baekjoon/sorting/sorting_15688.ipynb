{
 "cells": [
  {
   "cell_type": "markdown",
   "metadata": {},
   "source": [
    "```\n",
    "문제\n",
    "N개의 수가 주어졌을 때, 이를 비내림차순으로 정렬하는 프로그램을 작성하시오.\n",
    "\n",
    "길이가 K인 수열 A가 A1 ≤ A2 ≤ ... ≤ AK-1 ≤ AK를 만족하면, 비내림차순이라고 한다.\n",
    "\n",
    "입력\n",
    "첫째 줄에 수의 개수 N(1 ≤ N ≤ 1,000,000)이 주어진다. 둘째 줄부터 N개의 줄에는 숫자가 주어진다. 이 수는 절댓값이 1,000,000보다 작거나 같은 정수이며, 같은 수가 여러 번 중복될 수도 있다.\n",
    "\n",
    "출력\n",
    "첫째 줄부터 N개의 줄에 비내림차순으로 정렬한 결과를 한 줄에 하나씩 출력한다.\n",
    "\n",
    "예제 입력 1 \n",
    "5\n",
    "5\n",
    "4\n",
    "3\n",
    "2\n",
    "1\n",
    "예제 출력 1 \n",
    "1\n",
    "2\n",
    "3\n",
    "4\n",
    "5\n",
    "예제 입력 2 \n",
    "5\n",
    "1\n",
    "2\n",
    "1\n",
    "2\n",
    "1\n",
    "예제 출력 2 \n",
    "1\n",
    "1\n",
    "1\n",
    "2\n",
    "2\n",
    "예제 입력 3 \n",
    "5\n",
    "1\n",
    "2\n",
    "3\n",
    "4\n",
    "5\n",
    "예제 출력 3 \n",
    "1\n",
    "2\n",
    "3\n",
    "4\n",
    "5\n",
    "예제 입력 4 \n",
    "6\n",
    "0\n",
    "0\n",
    "0\n",
    "0\n",
    "0\n",
    "0\n",
    "예제 출력 4 \n",
    "0\n",
    "0\n",
    "0\n",
    "0\n",
    "0\n",
    "0\n",
    "```"
   ]
  },
  {
   "cell_type": "code",
   "execution_count": 3,
   "metadata": {},
   "outputs": [
    {
     "name": "stdout",
     "output_type": "stream",
     "text": [
      "5\n",
      "4\n",
      "3\n",
      "2\n",
      "1\n"
     ]
    }
   ],
   "source": [
    "import sys\n",
    "\n",
    "arr = []\n",
    "n = int(sys.stdin.readline())\n",
    "\n",
    "for _ in range(n):\n",
    "    arr.append(int(sys.stdin.readline()))\n",
    "\n",
    "for i in sorted(arr):\n",
    "    print(i)"
   ]
  },
  {
   "cell_type": "code",
   "execution_count": null,
   "metadata": {},
   "outputs": [],
   "source": []
  }
 ],
 "metadata": {
  "interpreter": {
   "hash": "7812ea015bdcee6f23a998adcdd2ef97c151c0c241b7b7070987d9313e41299d"
  },
  "kernelspec": {
   "display_name": "Python 3.9.5 64-bit",
   "language": "python",
   "name": "python3"
  },
  "language_info": {
   "codemirror_mode": {
    "name": "ipython",
    "version": 3
   },
   "file_extension": ".py",
   "mimetype": "text/x-python",
   "name": "python",
   "nbconvert_exporter": "python",
   "pygments_lexer": "ipython3",
   "version": "3.9.5"
  },
  "orig_nbformat": 4
 },
 "nbformat": 4,
 "nbformat_minor": 2
}
