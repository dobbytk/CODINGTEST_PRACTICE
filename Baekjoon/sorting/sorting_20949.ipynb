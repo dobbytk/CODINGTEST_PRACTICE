{
 "cells": [
  {
   "cell_type": "markdown",
   "metadata": {},
   "source": [
    "```\n",
    "문제\n",
    "효정은 새해를 맞이하여 새 모니터를 구매하고자 한다. 효정은 돈이 많기 때문에 77인치 모니터를 구매할 것이다. 모니터를 구경하던 효정은 놀라 자빠질 수밖에 없었다. 모니터가 너무 많아 고를 수가 없었기 때문이다. 이왕이면 고해상도가 좋은 법, 효정은 PPI가 가장 높은 모니터를 구매할 것이다. 우선 효정은 PPI가 높은 순으로 모니터들을 정렬하기로 결심하였다.\n",
    "\n",
    "PPI는 Pixels Per Inch의 약자로 인치당 몇 개의 픽셀이 존재하는지를 수치로 표현한 것이다. PPI는 다음과 같이 계산할 수 있다.\n",
    "```\n",
    "\n",
    " \n",
    " \n",
    "$$PPI=\\frac{\\sqrt{W^2+H^2}}{D}$$ \n",
    "\n",
    "```\n",
    "여기서 W는 가로 픽셀 수, H는 세로 픽셀 수, D는 대각선의 길이(인치)이다. 예를 들어, Full HD 해상도는 가로 픽셀 수가 1920, 세로 픽셀 수가 1080이다. 따라서 24인치 Full HD 모니터의 PPI는 다음과 같다.\n",
    "```\n",
    " \n",
    " \n",
    "$$PPI=\\frac{\\sqrt{1920^2+1080^2}}{24}$$ \n",
    "```\n",
    "N개의 모니터가 주어졌을 때, PPI가 높은 순으로 모니터들을 정렬하는 프로그램을 작성하시오. 모든 모니터의 크기는 77인치로 동일하다.\n",
    "\n",
    "입력\n",
    "첫 번째 줄에 모니터의 개수 N이 주어진다.\n",
    "\n",
    "이후 N개의 줄 중 i(1 ≤ i ≤ N)번째 줄에는 i번 모니터의 가로 픽셀 수 Wi와 세로 픽셀 수 Hi가 주어진다.\n",
    "\n",
    "모든 입력은 정수이며 공백으로 구분되어 주어진다.\n",
    "\n",
    "출력\n",
    "N개의 줄에 걸쳐 모니터의 번호를 PPI가 높은 순으로 한 줄에 하나씩 출력한다.\n",
    "\n",
    "PPI가 동일한 경우 번호가 더 작은 모니터를 먼저 출력한다.\n",
    "\n",
    "제한\n",
    "1 ≤ N ≤ 1,000\n",
    "1 ≤ Wi, Hi ≤ 30,000\n",
    "예제 입력 1 \n",
    "2\n",
    "10 10\n",
    "20 20\n",
    "예제 출력 1 \n",
    "2\n",
    "1\n",
    "```"
   ]
  },
  {
   "cell_type": "code",
   "execution_count": 11,
   "metadata": {},
   "outputs": [
    {
     "name": "stdout",
     "output_type": "stream",
     "text": [
      "2\n",
      "1\n"
     ]
    }
   ],
   "source": [
    "import math\n",
    "\n",
    "arr = []\n",
    "\n",
    "n = int(input())\n",
    "\n",
    "for i in range(1, n + 1):\n",
    "    w, h = map(int, input().split())\n",
    "    r = w ** 2 + h ** 2\n",
    "    r = math.sqrt(r)\n",
    "    r = r / 77\n",
    "    arr.append((r, i))\n",
    "\n",
    "sort_lst = sorted(arr, key = lambda x : (x[0], -x[1]), reverse = True)\n",
    "\n",
    "for tup in sort_lst:\n",
    "    print(tup[1])"
   ]
  },
  {
   "cell_type": "code",
   "execution_count": null,
   "metadata": {},
   "outputs": [],
   "source": []
  }
 ],
 "metadata": {
  "interpreter": {
   "hash": "7812ea015bdcee6f23a998adcdd2ef97c151c0c241b7b7070987d9313e41299d"
  },
  "kernelspec": {
   "display_name": "Python 3.9.5 64-bit",
   "language": "python",
   "name": "python3"
  },
  "language_info": {
   "codemirror_mode": {
    "name": "ipython",
    "version": 3
   },
   "file_extension": ".py",
   "mimetype": "text/x-python",
   "name": "python",
   "nbconvert_exporter": "python",
   "pygments_lexer": "ipython3",
   "version": "3.9.5"
  },
  "orig_nbformat": 4
 },
 "nbformat": 4,
 "nbformat_minor": 2
}
