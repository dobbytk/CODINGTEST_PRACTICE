{
 "cells": [
  {
   "cell_type": "code",
   "execution_count": null,
   "source": [
    "\"\"\"\n",
    "문제\n",
    "79를 영어로 읽되 숫자 단위로 하나씩 읽는다면 \"seven nine\"이 된다. 80은 마찬가지로 \"eight zero\"라고 읽는다. 79는 80보다 작지만, 영어로 숫자 하나씩 읽는다면 \"eight zero\"가 \"seven nine\"보다 사전순으로 먼저 온다.\n",
    "\n",
    "문제는 정수 M, N(1 ≤ M, N ≤ 99)이 주어지면 M 이상 N 이하의 정수를 숫자 하나씩 읽었을 때를 기준으로 사전순으로 정렬하여 출력하는 것이다.\n",
    "\n",
    "입력\n",
    "첫째 줄에 M과 N이 주어진다.\n",
    "\n",
    "출력\n",
    "M 이상 N 이하의 정수를 문제 조건에 맞게 정렬하여 한 줄에 10개씩 출력한다.\n",
    "\n",
    "예제 입력 1 \n",
    "8 28\n",
    "예제 출력 1 \n",
    "8 9 18 15 14 19 11 17 16 13\n",
    "12 10 28 25 24 21 27 26 23 22\n",
    "20\n",
    "\"\"\""
   ],
   "outputs": [],
   "metadata": {}
  },
  {
   "cell_type": "code",
   "execution_count": 74,
   "source": [
    "dic = {'0' : 'zero', '1' : 'one', '2' : 'two', '3' : 'three', '4' : 'four',\n",
    "'5' : 'five', '6' : 'six', '7' : 'seven' , '8' : 'eight', '9' : 'nine'}"
   ],
   "outputs": [],
   "metadata": {}
  },
  {
   "cell_type": "code",
   "execution_count": 80,
   "source": [
    "a, b = map(int, input().split())\n",
    "b += 1"
   ],
   "outputs": [],
   "metadata": {}
  },
  {
   "cell_type": "code",
   "execution_count": 92,
   "source": [
    "result = []\n",
    "temp = ''\n",
    "\n",
    "for i in range(a, b):\n",
    "    k = list(str(i))\n",
    "    for idx, j in enumerate(k):\n",
    "        temp += dic[j]\n",
    "    result.append([temp, i])\n",
    "    temp = ''\n"
   ],
   "outputs": [],
   "metadata": {}
  },
  {
   "cell_type": "code",
   "execution_count": 93,
   "source": [
    "print(result)"
   ],
   "outputs": [
    {
     "output_type": "stream",
     "name": "stdout",
     "text": [
      "[['eight', 8], ['nine', 9], ['onezero', 10], ['oneone', 11], ['onetwo', 12], ['onethree', 13], ['onefour', 14], ['onefive', 15], ['onesix', 16], ['oneseven', 17], ['oneeight', 18], ['onenine', 19], ['twozero', 20], ['twoone', 21], ['twotwo', 22], ['twothree', 23], ['twofour', 24], ['twofive', 25], ['twosix', 26], ['twoseven', 27], ['twoeight', 28]]\n"
     ]
    }
   ],
   "metadata": {}
  },
  {
   "cell_type": "code",
   "execution_count": 94,
   "source": [
    "sorted_result = sorted(result)"
   ],
   "outputs": [],
   "metadata": {}
  },
  {
   "cell_type": "code",
   "execution_count": 95,
   "source": [
    "sorted_result"
   ],
   "outputs": [
    {
     "output_type": "execute_result",
     "data": {
      "text/plain": [
       "[['eight', 8],\n",
       " ['nine', 9],\n",
       " ['oneeight', 18],\n",
       " ['onefive', 15],\n",
       " ['onefour', 14],\n",
       " ['onenine', 19],\n",
       " ['oneone', 11],\n",
       " ['oneseven', 17],\n",
       " ['onesix', 16],\n",
       " ['onethree', 13],\n",
       " ['onetwo', 12],\n",
       " ['onezero', 10],\n",
       " ['twoeight', 28],\n",
       " ['twofive', 25],\n",
       " ['twofour', 24],\n",
       " ['twoone', 21],\n",
       " ['twoseven', 27],\n",
       " ['twosix', 26],\n",
       " ['twothree', 23],\n",
       " ['twotwo', 22],\n",
       " ['twozero', 20]]"
      ]
     },
     "metadata": {},
     "execution_count": 95
    }
   ],
   "metadata": {}
  },
  {
   "cell_type": "code",
   "execution_count": 102,
   "source": [
    "for i in range(1, len(sorted_result)+1):\n",
    "    if i % 10 == 0:\n",
    "        print(sorted_result[i-1][1])\n",
    "    else:\n",
    "        print(sorted_result[i-1][1], end=' ')"
   ],
   "outputs": [
    {
     "output_type": "stream",
     "name": "stdout",
     "text": [
      "8 9 18 15 14 19 11 17 16 13\n",
      "12 10 28 25 24 21 27 26 23 22\n",
      "20 "
     ]
    }
   ],
   "metadata": {}
  },
  {
   "cell_type": "code",
   "execution_count": null,
   "source": [],
   "outputs": [],
   "metadata": {}
  }
 ],
 "metadata": {
  "orig_nbformat": 4,
  "language_info": {
   "name": "python",
   "version": "3.9.5",
   "mimetype": "text/x-python",
   "codemirror_mode": {
    "name": "ipython",
    "version": 3
   },
   "pygments_lexer": "ipython3",
   "nbconvert_exporter": "python",
   "file_extension": ".py"
  },
  "kernelspec": {
   "name": "python3",
   "display_name": "Python 3.9.5 64-bit"
  },
  "interpreter": {
   "hash": "7812ea015bdcee6f23a998adcdd2ef97c151c0c241b7b7070987d9313e41299d"
  }
 },
 "nbformat": 4,
 "nbformat_minor": 2
}