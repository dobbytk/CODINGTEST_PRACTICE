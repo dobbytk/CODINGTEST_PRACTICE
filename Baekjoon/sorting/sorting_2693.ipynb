{
 "cells": [
  {
   "cell_type": "code",
   "execution_count": null,
   "source": [
    "\"\"\"\n",
    "문제\n",
    "배열 A가 주어졌을 때, N번째 큰 값을 출력하는 프로그램을 작성하시오.\n",
    "\n",
    "배열 A의 크기는 항상 10이고, 자연수만 가지고 있다. N은 항상 3이다.\n",
    "\n",
    "입력\n",
    "첫째 줄에 테스트 케이스의 개수 T(1 <= T <= 1,000)가 주어진다. 각 테스트 케이스는 한 줄로 이루어져 있고, 배열 A의 원소 10개가 공백으로 구분되어 주어진다. 이 원소는 1보다 크거나 같고, 1,000보다 작거나 같은 자연수이다.\n",
    "\n",
    "출력\n",
    "각 테스트 케이스에 대해 한 줄에 하나씩 배열 A에서 3번째 큰 값을 출력한다.\n",
    "\n",
    "예제 입력 1 \n",
    "4\n",
    "1 2 3 4 5 6 7 8 9 1000\n",
    "338 304 619 95 343 496 489 116 98 127\n",
    "931 240 986 894 826 640 965 833 136 138\n",
    "940 955 364 188 133 254 501 122 768 408\n",
    "예제 출력 1 \n",
    "8\n",
    "489\n",
    "931\n",
    "768\n",
    "\"\"\""
   ],
   "outputs": [],
   "metadata": {}
  },
  {
   "cell_type": "code",
   "execution_count": null,
   "source": [
    "n = int(input())\n",
    "\n",
    "for i in range(n):\n",
    "    arr = list(map(int, input().split()))\n",
    "    arr.sort(reverse=True)\n",
    "    print(arr[2])"
   ],
   "outputs": [],
   "metadata": {}
  },
  {
   "cell_type": "code",
   "execution_count": null,
   "source": [],
   "outputs": [],
   "metadata": {}
  }
 ],
 "metadata": {
  "orig_nbformat": 4,
  "language_info": {
   "name": "python",
   "version": "3.9.5",
   "mimetype": "text/x-python",
   "codemirror_mode": {
    "name": "ipython",
    "version": 3
   },
   "pygments_lexer": "ipython3",
   "nbconvert_exporter": "python",
   "file_extension": ".py"
  },
  "kernelspec": {
   "name": "python3",
   "display_name": "Python 3.9.5 64-bit"
  },
  "interpreter": {
   "hash": "7812ea015bdcee6f23a998adcdd2ef97c151c0c241b7b7070987d9313e41299d"
  }
 },
 "nbformat": 4,
 "nbformat_minor": 2
}