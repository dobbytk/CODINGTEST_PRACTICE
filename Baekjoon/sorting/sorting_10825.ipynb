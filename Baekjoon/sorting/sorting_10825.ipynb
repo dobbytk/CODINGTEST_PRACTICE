{
 "cells": [
  {
   "cell_type": "markdown",
   "metadata": {},
   "source": [
    "```\n",
    "문제\n",
    "도현이네 반 학생 N명의 이름과 국어, 영어, 수학 점수가 주어진다. 이때, 다음과 같은 조건으로 학생의 성적을 정렬하는 프로그램을 작성하시오.\n",
    "\n",
    "국어 점수가 감소하는 순서로\n",
    "국어 점수가 같으면 영어 점수가 증가하는 순서로\n",
    "국어 점수와 영어 점수가 같으면 수학 점수가 감소하는 순서로\n",
    "모든 점수가 같으면 이름이 사전 순으로 증가하는 순서로 (단, 아스키 코드에서 대문자는 소문자보다 작으므로 사전순으로 앞에 온다.)\n",
    "입력\n",
    "첫째 줄에 도현이네 반의 학생의 수 N (1 ≤ N ≤ 100,000)이 주어진다. 둘째 줄부터 한 줄에 하나씩 각 학생의 이름, 국어, 영어, 수학 점수가 공백으로 구분해 주어진다. 점수는 1보다 크거나 같고, 100보다 작거나 같은 자연수이다. 이름은 알파벳 대소문자로 이루어진 문자열이고, 길이는 10자리를 넘지 않는다.\n",
    "\n",
    "출력\n",
    "문제에 나와있는 정렬 기준으로 정렬한 후 첫째 줄부터 N개의 줄에 걸쳐 각 학생의 이름을 출력한다.\n",
    "\n",
    "예제 입력 1 \n",
    "12\n",
    "Junkyu 50 60 100\n",
    "Sangkeun 80 60 50\n",
    "Sunyoung 80 70 100\n",
    "Soong 50 60 90\n",
    "Haebin 50 60 100\n",
    "Kangsoo 60 80 100\n",
    "Donghyuk 80 60 100\n",
    "Sei 70 70 70\n",
    "Wonseob 70 70 90\n",
    "Sanghyun 70 70 80\n",
    "nsj 80 80 80\n",
    "Taewhan 50 60 90\n",
    "예제 출력 1 \n",
    "Donghyuk\n",
    "Sangkeun\n",
    "Sunyoung\n",
    "nsj\n",
    "Wonseob\n",
    "Sanghyun\n",
    "Sei\n",
    "Kangsoo\n",
    "Haebin\n",
    "Junkyu\n",
    "Soong\n",
    "Taewhan\n",
    "```"
   ]
  },
  {
   "cell_type": "code",
   "execution_count": 24,
   "metadata": {},
   "outputs": [
    {
     "name": "stdout",
     "output_type": "stream",
     "text": [
      "Donghyuk\n",
      "Sangkeun\n",
      "Sunyoung\n",
      "nsj\n",
      "Wonseob\n",
      "Sanghyun\n",
      "Sei\n",
      "Kangsoo\n",
      "Haebin\n",
      "Junkyu\n",
      "Soong\n",
      "Taewhan\n"
     ]
    }
   ],
   "source": [
    "s = int(input())\n",
    "arr = []\n",
    "\n",
    "for i in range(s):\n",
    "    arr.append(input().split())\n",
    "\n",
    "sorted_list = sorted(arr, key = lambda x : (-int(x[1]), int(x[2]), -int(x[3]), x[0]))\n",
    "\n",
    "for lst in sorted_list:\n",
    "    print(lst[0])\n",
    "    "
   ]
  },
  {
   "cell_type": "code",
   "execution_count": null,
   "metadata": {},
   "outputs": [],
   "source": []
  }
 ],
 "metadata": {
  "interpreter": {
   "hash": "7812ea015bdcee6f23a998adcdd2ef97c151c0c241b7b7070987d9313e41299d"
  },
  "kernelspec": {
   "display_name": "Python 3.9.5 64-bit",
   "language": "python",
   "name": "python3"
  },
  "language_info": {
   "codemirror_mode": {
    "name": "ipython",
    "version": 3
   },
   "file_extension": ".py",
   "mimetype": "text/x-python",
   "name": "python",
   "nbconvert_exporter": "python",
   "pygments_lexer": "ipython3",
   "version": "3.9.5"
  },
  "orig_nbformat": 4
 },
 "nbformat": 4,
 "nbformat_minor": 2
}
