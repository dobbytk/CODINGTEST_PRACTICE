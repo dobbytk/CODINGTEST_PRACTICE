{
 "cells": [
  {
   "cell_type": "markdown",
   "metadata": {},
   "source": [
    "```\n",
    "문제\n",
    "준하는 유치원에서 단어 퍼즐게임을 즐겨한다.\n",
    "\n",
    "단어 퍼즐게임이란, 주어진 알파벳들을 섞어서 단어를 만드는 게임이다.\n",
    "\n",
    "천재 준하는 알파벳을 임의로 조합하여, 사전과 매칭된 단어를 만드는 프로그램을 만들어 단어를 완성시켰다.\n",
    "\n",
    "그러나 완성된 단어를 원장님에게 가져가려는 순간, 지나가던 강민이와 부딫혀서 단어조각을 땅에 떨어뜨리고 말았다.\n",
    "\n",
    "준하는 어찌어찌 조각을 회수했지만, 순서는 뒤죽박죽이 되었고, 알파벳이 부족하거나 다른 알파벳이 섞였을 수도 있다.\n",
    "\n",
    "준하가 처음에 완성한 단어와 나중에 회수한 알파벳들이 주어질 때,\n",
    "\n",
    "준하가 알파벳을 제대로 회수했는지 안했는지 판단하는 프로그램을 만들어주자.\n",
    "\n",
    "입력\n",
    "입력은 케이스마다 두줄로 이루어져있다.\n",
    "\n",
    "첫째 줄은 준하가 처음 완성한 단어이고, 둘째 줄은 떨어뜨린 다음 회수한 알파벳들이다. \n",
    "\n",
    "각 줄은 알파벳 소문자로 이루어져 있고, 길이는 1000을 넘지 않는다.\n",
    "\n",
    "마지막에 END라는 단어가 두줄 주어지는데, 이는 케이스의 끝을 의미한다.\n",
    "\n",
    "출력\n",
    "케이스마다 번호를 붙여서 예제출력과 같은 형식으로 출력한다.\n",
    "\n",
    "준하가 알파벳을 제대로 회수했다면 same 을, 잘못 회수했다면 different 를 출력한다.\n",
    "\n",
    "예제 입력 1 \n",
    "testing\n",
    "intestg\n",
    "abc\n",
    "aabbbcccc\n",
    "abcabcbcc\n",
    "aabbbcccc\n",
    "abc\n",
    "xyz\n",
    "END\n",
    "END\n",
    "예제 출력 1 \n",
    "Case 1: same\n",
    "Case 2: different\n",
    "Case 3: same\n",
    "Case 4: different\n",
    "```"
   ]
  },
  {
   "cell_type": "code",
   "execution_count": 4,
   "metadata": {},
   "outputs": [
    {
     "name": "stdout",
     "output_type": "stream",
     "text": [
      "Case 1: same\n",
      "Case 2: different\n",
      "Case 3: same\n",
      "Case 4: different\n"
     ]
    }
   ],
   "source": [
    "n = 1\n",
    "\n",
    "while True:\n",
    "    s1 = input()\n",
    "    s2 = input()\n",
    "\n",
    "    if s1 == 'END' and s2 == 'END':\n",
    "        break\n",
    "    else:\n",
    "        s1_sort = sorted(s1)\n",
    "        s2_sort = sorted(s2)\n",
    "        if s1_sort == s2_sort:\n",
    "            print(\"Case {}: same\".format(n))\n",
    "            n += 1\n",
    "        elif s1_sort != s2_sort:\n",
    "            print(\"Case {}: different\".format(n))\n",
    "            n += 1"
   ]
  },
  {
   "cell_type": "code",
   "execution_count": null,
   "metadata": {},
   "outputs": [],
   "source": []
  }
 ],
 "metadata": {
  "interpreter": {
   "hash": "7812ea015bdcee6f23a998adcdd2ef97c151c0c241b7b7070987d9313e41299d"
  },
  "kernelspec": {
   "display_name": "Python 3.9.5 64-bit",
   "language": "python",
   "name": "python3"
  },
  "language_info": {
   "codemirror_mode": {
    "name": "ipython",
    "version": 3
   },
   "file_extension": ".py",
   "mimetype": "text/x-python",
   "name": "python",
   "nbconvert_exporter": "python",
   "pygments_lexer": "ipython3",
   "version": "3.9.5"
  },
  "orig_nbformat": 4
 },
 "nbformat": 4,
 "nbformat_minor": 2
}
