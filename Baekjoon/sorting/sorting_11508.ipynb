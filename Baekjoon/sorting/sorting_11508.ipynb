{
 "cells": [
  {
   "cell_type": "code",
   "execution_count": null,
   "source": [
    "\"\"\"\n",
    "문제\n",
    "KSG 편의점에서는 과일우유, 드링킹요구르트 등의 유제품을 '2+1 세일'하는 행사를 하고 있습니다. KSG 편의점에서 유제품 3개를 한 번에 산다면 그중에서 가장 싼 것은 무료로 지불하고 나머지 두 개의 제품 가격만 지불하면 됩니다. 한 번에 3개의 유제품을 사지 않는다면 할인 없이 정가를 지불해야 합니다.\n",
    "\n",
    "예를 들어, 7개의 유제품이 있어서 각 제품의 가격이 10, 9, 4, 2, 6, 4, 3이고 재현이가 (10, 3, 2), (4, 6, 4), (9)로 총 3번에 걸쳐서 물건을 산다면 첫 번째 꾸러미에서는 13원을, 두 번째 꾸러미에서는 10원을, 세 번째 꾸러미에서는 9원을 지불해야 합니다.\n",
    "\n",
    "재현이는 KSG 편의점에서 친구들과 같이 먹을 총 N팩의 유제품을 구입하려고 합니다. 재현이를 도와 최소비용으로 유제품을 구입할 수 있도록 도와주세요!\n",
    "\n",
    "입력\n",
    "첫 번째 줄에는 유제품의 수 N (1 ≤ N ≤ 100,000)이 주어집니다.\n",
    "\n",
    "두 번째 줄부터 N개의 줄에는 각 유제품의 가격 Ci (1 ≤ Ci ≤ 100,000)가 주어집니다.\n",
    "\n",
    "출력\n",
    "재현이가 N개의 유제품을 모두 살 때 필요한 최소비용을 출력합니다. 정답은 231-1보다 작거나 같다.\n",
    "\n",
    "예제 입력 1 \n",
    "4\n",
    "3\n",
    "2\n",
    "3\n",
    "2\n",
    "예제 출력 1 \n",
    "8\n",
    "예제 입력 2 \n",
    "6\n",
    "6\n",
    "4\n",
    "5\n",
    "5\n",
    "5\n",
    "5\n",
    "예제 출력 2 \n",
    "21\n",
    "\"\"\""
   ],
   "outputs": [],
   "metadata": {}
  },
  {
   "cell_type": "code",
   "execution_count": 41,
   "source": [
    "import sys\n",
    "\n",
    "arr = []\n",
    "result = 0\n",
    "n = int(input())\n",
    "\n",
    "for i in range(n):\n",
    "    j = int(sys.stdin.readline())\n",
    "    arr.append(j)\n",
    "\n",
    "arr.sort(reverse=True)\n",
    "\n",
    "for i in range(len(arr)):\n",
    "    if i % 3 != 2:\n",
    "        result += arr[i]\n",
    "print(result)"
   ],
   "outputs": [
    {
     "output_type": "stream",
     "name": "stdout",
     "text": [
      "8\n"
     ]
    }
   ],
   "metadata": {}
  },
  {
   "cell_type": "code",
   "execution_count": null,
   "source": [],
   "outputs": [],
   "metadata": {}
  }
 ],
 "metadata": {
  "orig_nbformat": 4,
  "language_info": {
   "name": "python",
   "version": "3.9.5",
   "mimetype": "text/x-python",
   "codemirror_mode": {
    "name": "ipython",
    "version": 3
   },
   "pygments_lexer": "ipython3",
   "nbconvert_exporter": "python",
   "file_extension": ".py"
  },
  "kernelspec": {
   "name": "python3",
   "display_name": "Python 3.9.5 64-bit"
  },
  "interpreter": {
   "hash": "7812ea015bdcee6f23a998adcdd2ef97c151c0c241b7b7070987d9313e41299d"
  }
 },
 "nbformat": 4,
 "nbformat_minor": 2
}