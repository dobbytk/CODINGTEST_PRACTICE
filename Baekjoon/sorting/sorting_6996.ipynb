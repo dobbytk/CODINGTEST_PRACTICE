{
 "cells": [
  {
   "cell_type": "markdown",
   "metadata": {},
   "source": [
    "```\n",
    "문제\n",
    "두 단어 A와 B가 주어졌을 때, A에 속하는 알파벳의 순서를 바꾸어서 B를 만들 수 있다면, A와 B를 애너그램이라고 한다.\n",
    "\n",
    "두 단어가 애너그램인지 아닌지 구하는 프로그램을 작성하시오.\n",
    "\n",
    "입력\n",
    "첫째 줄에 테스트 케이스의 개수(<100)가 주어진다. 각 테스트 케이스는 한 줄로 이루어져 있고, 길이가 100을 넘지 않는 단어가 공백으로 구분되어서 주어진다. 단어는 알파벳 소문자로만 이루어져 있다.\n",
    "\n",
    "출력\n",
    "각 테스트 케이스마다 애너그램인지 아닌지를 예체 출력과 같은 형식으로 출력한다. \n",
    "\n",
    "출력 형식\n",
    "정확한 출력 형식은 제출에서 언어를 Java로 설정하면 확인할 수 있다.\n",
    "\n",
    "예제 입력 1 \n",
    "3\n",
    "blather reblath\n",
    "maryland landam\n",
    "bizarre brazier\n",
    "예제 출력 1 \n",
    "blather & reblath are anagrams.\n",
    "maryland & landam are NOT anagrams.\n",
    "bizarre & brazier are anagrams.\n",
    "```"
   ]
  },
  {
   "cell_type": "code",
   "execution_count": 1,
   "metadata": {},
   "outputs": [
    {
     "name": "stdout",
     "output_type": "stream",
     "text": [
      "blather & reblath are anagrams.\n",
      "maryland & landam are not anagrams.\n",
      "bizarre & brazier are anagrams.\n"
     ]
    }
   ],
   "source": [
    "n = int(input())\n",
    "\n",
    "for _ in range(n):\n",
    "    a, b = map(str, input().split())\n",
    "    c = sorted(a)\n",
    "    d = sorted(b)\n",
    "    if c == d:\n",
    "        print(\"{} & {} are anagrams.\".format(a, b))\n",
    "    else:\n",
    "        print(\"{} & {} are NOT anagrams.\".format(a, b))"
   ]
  },
  {
   "cell_type": "code",
   "execution_count": null,
   "metadata": {},
   "outputs": [],
   "source": []
  }
 ],
 "metadata": {
  "interpreter": {
   "hash": "7812ea015bdcee6f23a998adcdd2ef97c151c0c241b7b7070987d9313e41299d"
  },
  "kernelspec": {
   "display_name": "Python 3.9.5 64-bit",
   "language": "python",
   "name": "python3"
  },
  "language_info": {
   "codemirror_mode": {
    "name": "ipython",
    "version": 3
   },
   "file_extension": ".py",
   "mimetype": "text/x-python",
   "name": "python",
   "nbconvert_exporter": "python",
   "pygments_lexer": "ipython3",
   "version": "3.9.5"
  },
  "orig_nbformat": 4
 },
 "nbformat": 4,
 "nbformat_minor": 2
}
