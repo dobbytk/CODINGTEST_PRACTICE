{
 "cells": [
  {
   "cell_type": "code",
   "execution_count": null,
   "source": [
    "\"\"\"\n",
    "문제\n",
    "꿍은 도비에게 영어단어들을 제시한 후 어떤 단어가 대소문자를 구분하지 않고 사전순으로 가장 앞서는지 맞추면 양말을 주어 자유를 얻게해준다고 하였다.\n",
    "\n",
    "하지만 인성이 좋지 않은 꿍은 사실 그러고 싶지 않았기 때문에 대소문자를 마구 섞어가며 단어들을 제시했다. 예를 들어, apPle은 Bat보다 앞서지만 AnT보다는 뒤에 있는 단어다.\n",
    "\n",
    "도비에게 희망은 여러분뿐이다! 여러분이 도비에게 자유를 선물해주도록 하자!\n",
    "\n",
    "입력\n",
    "각 테스트케이스는 정수 n (2 ≤ n ≤ 1000) 으로 시작하며 주어지는 단어의 개수를 뜻한다.\n",
    "\n",
    "다음 각 n줄은 길이가 최대 20인 단어가 주어지며 대소문자의 구분을 없앴을 때 똑같은 단어는 주어지지 않는다.\n",
    "\n",
    "마지막 입력은 0이 주어진다.\n",
    "\n",
    "출력\n",
    "각 줄에 각 테스트케이스에서 사전상 가장 앞서는 단어를 출력한다.\n",
    "\n",
    "예제 입력 1 \n",
    "3\n",
    "Cat\n",
    "fat\n",
    "bAt\n",
    "4\n",
    "call\n",
    "ball\n",
    "All\n",
    "Hall\n",
    "0\n",
    "예제 출력 1 \n",
    "bAt\n",
    "All\n",
    "\"\"\""
   ],
   "outputs": [],
   "metadata": {}
  },
  {
   "cell_type": "code",
   "execution_count": 5,
   "source": [
    "while True:\n",
    "    arr = []\n",
    "    origin_arr = []\n",
    "    n = int(input())\n",
    "    if n == 0:\n",
    "        break\n",
    "    for idx, i in enumerate(range(n)):\n",
    "        w = input()\n",
    "        origin_arr.append(w)\n",
    "        arr.append([w.lower(), idx])\n",
    "        arr.sort()\n",
    "    print(origin_arr[arr[0][1]])\n",
    "\n"
   ],
   "outputs": [
    {
     "output_type": "stream",
     "name": "stdout",
     "text": [
      "bAt\n",
      "All\n"
     ]
    }
   ],
   "metadata": {}
  },
  {
   "cell_type": "code",
   "execution_count": null,
   "source": [],
   "outputs": [],
   "metadata": {}
  }
 ],
 "metadata": {
  "orig_nbformat": 4,
  "language_info": {
   "name": "python",
   "version": "3.9.5",
   "mimetype": "text/x-python",
   "codemirror_mode": {
    "name": "ipython",
    "version": 3
   },
   "pygments_lexer": "ipython3",
   "nbconvert_exporter": "python",
   "file_extension": ".py"
  },
  "kernelspec": {
   "name": "python3",
   "display_name": "Python 3.9.5 64-bit"
  },
  "interpreter": {
   "hash": "7812ea015bdcee6f23a998adcdd2ef97c151c0c241b7b7070987d9313e41299d"
  }
 },
 "nbformat": 4,
 "nbformat_minor": 2
}