{
 "cells": [
  {
   "cell_type": "markdown",
   "metadata": {},
   "source": [
    "```\n",
    "문제\n",
    "어느 날, 미르코는 우연히 길거리에서 양수 N을 보았다. 미르코는 30이란 수를 존경하기 때문에, 그는 길거리에서 찾은 수에 포함된 숫자들을 섞어 30의 배수가 되는 가장 큰 수를 만들고 싶어한다.\n",
    "\n",
    "미르코를 도와 그가 만들고 싶어하는 수를 계산하는 프로그램을 작성하라.\n",
    "\n",
    "입력\n",
    "N을 입력받는다. N는 최대 105개의 숫자로 구성되어 있으며, 0으로 시작하지 않는다.\n",
    "\n",
    "출력\n",
    "미르코가 만들고 싶어하는 수가 존재한다면 그 수를 출력하라. 그 수가 존재하지 않는다면, -1을 출력하라.\n",
    "\n",
    "예제 입력 1 \n",
    "30\n",
    "예제 출력 1 \n",
    "30\n",
    "예제 입력 2 \n",
    "102\n",
    "예제 출력 2 \n",
    "210\n",
    "예제 입력 3 \n",
    "2931\n",
    "예제 출력 3 \n",
    "-1\n",
    "예제 입력 4 \n",
    "80875542\n",
    "예제 출력 4 \n",
    "88755420\n",
    "\n",
    "```"
   ]
  },
  {
   "cell_type": "code",
   "execution_count": 3,
   "metadata": {},
   "outputs": [
    {
     "name": "stdout",
     "output_type": "stream",
     "text": [
      "210\n"
     ]
    }
   ],
   "source": [
    "s = input()\n",
    "s = sorted(s, reverse=True)\n",
    "sum = 0\n",
    "if '0' not in s:\n",
    "    print(-1)\n",
    "else:\n",
    "    for i in s:\n",
    "        sum += int(i)\n",
    "    if sum % 3 != 0:\n",
    "        print(-1)\n",
    "    else:\n",
    "        print(\"\".join(s))"
   ]
  },
  {
   "cell_type": "code",
   "execution_count": null,
   "metadata": {},
   "outputs": [],
   "source": []
  }
 ],
 "metadata": {
  "interpreter": {
   "hash": "7812ea015bdcee6f23a998adcdd2ef97c151c0c241b7b7070987d9313e41299d"
  },
  "kernelspec": {
   "display_name": "Python 3.9.5 64-bit",
   "language": "python",
   "name": "python3"
  },
  "language_info": {
   "codemirror_mode": {
    "name": "ipython",
    "version": 3
   },
   "file_extension": ".py",
   "mimetype": "text/x-python",
   "name": "python",
   "nbconvert_exporter": "python",
   "pygments_lexer": "ipython3",
   "version": "3.9.5"
  },
  "orig_nbformat": 4
 },
 "nbformat": 4,
 "nbformat_minor": 2
}
