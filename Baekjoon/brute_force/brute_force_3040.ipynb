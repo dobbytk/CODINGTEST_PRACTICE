{
 "cells": [
  {
   "cell_type": "code",
   "execution_count": 1,
   "source": [
    "\"\"\"\n",
    "문제\n",
    "매일 매일 일곱 난쟁이는 광산으로 일을 하러 간다. 난쟁이가 일을 하는 동안 백설공주는 그들을 위해 저녁 식사를 준비한다. 백설공주는 의자 일곱개, 접시 일곱개, 나이프 일곱개를 준비한다.\n",
    "\n",
    "어느 날 광산에서 아홉 난쟁이가 돌아왔다. (왜 그리고 어떻게 아홉 난쟁이가 돌아왔는지는 아무도 모른다) 아홉 난쟁이는 각각 자신이 백설공주의 일곱 난쟁이라고 우기고 있다.\n",
    "\n",
    "백설공주는 이런 일이 생길 것을 대비해서, 난쟁이가 쓰고 다니는 모자에 100보다 작은 양의 정수를 적어 놓았다. 사실 백설 공주는 공주가 되기 전에 매우 유명한 수학자였다. 따라서, 일곱 난쟁이의 모자에 쓰여 있는 숫자의 합이 100이 되도록 적어 놓았다.\n",
    "\n",
    "아홉 난쟁이의 모자에 쓰여 있는 수가 주어졌을 때, 일곱 난쟁이를 찾는 프로그램을 작성하시오. (아홉 개의 수 중 합이 100이 되는 일곱 개의 수를 찾으시오)\n",
    "\n",
    "입력\n",
    "총 아홉개 줄에 1보다 크거나 같고 99보다 작거나 같은 자연수가 주어진다. 모든 숫자는 서로 다르다. 또, 항상 답이 유일한 경우만 입력으로 주어진다.\n",
    "\n",
    "출력\n",
    "일곱 난쟁이가 쓴 모자에 쓰여 있는 수를 한 줄에 하나씩 출력한다.\n",
    "\n",
    "예제 입력 1     예제 출력 1\n",
    "7             7\n",
    "8             8\n",
    "10            10\n",
    "13            13\n",
    "15            15\n",
    "19            19\n",
    "20            20\n",
    "23            23\n",
    "25            \n",
    "\n",
    "예제 입력 2     예제 출력 2\n",
    "8             8\n",
    "6             6\n",
    "5             5\n",
    "1             1\n",
    "37            30\n",
    "30            28\n",
    "28            22\n",
    "22\n",
    "36\n",
    "\"\"\""
   ],
   "outputs": [
    {
     "output_type": "stream",
     "name": "stdout",
     "text": [
      "hello\n"
     ]
    }
   ],
   "metadata": {}
  },
  {
   "cell_type": "code",
   "execution_count": 21,
   "source": [
    "from itertools import permutations\n",
    "\n",
    "arr = []\n",
    "arr_sum = []\n",
    "\n",
    "for i in range(9):\n",
    "    n = int(input())\n",
    "    arr.append(n)\n",
    "permutation = list(permutations(arr, 7))\n",
    "\n",
    "for l in permutation:\n",
    "    arr_sum.append(sum(l))\n",
    "\n",
    "for idx, i in enumerate(arr_sum):\n",
    "    if i == 100:\n",
    "        seven = list(permutation[idx])\n",
    "        for k in seven:\n",
    "            print(k)\n",
    "        break\n"
   ],
   "outputs": [],
   "metadata": {}
  }
 ],
 "metadata": {
  "orig_nbformat": 4,
  "language_info": {
   "name": "python",
   "version": "3.9.5",
   "mimetype": "text/x-python",
   "codemirror_mode": {
    "name": "ipython",
    "version": 3
   },
   "pygments_lexer": "ipython3",
   "nbconvert_exporter": "python",
   "file_extension": ".py"
  },
  "kernelspec": {
   "name": "python3",
   "display_name": "Python 3.9.5 64-bit"
  },
  "interpreter": {
   "hash": "7812ea015bdcee6f23a998adcdd2ef97c151c0c241b7b7070987d9313e41299d"
  }
 },
 "nbformat": 4,
 "nbformat_minor": 2
}