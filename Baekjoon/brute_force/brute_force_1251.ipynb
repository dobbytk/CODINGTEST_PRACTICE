{
 "cells": [
  {
   "cell_type": "markdown",
   "metadata": {},
   "source": [
    "```\n",
    "문제\n",
    "알파벳 소문자로 이루어진 단어를 가지고 아래와 같은 과정을 해 보려고 한다.\n",
    "\n",
    "먼저 단어에서 임의의 두 부분을 골라서 단어를 쪼갠다. 즉, 주어진 단어를 세 개의 더 작은 단어로 나누는 것이다. 각각은 적어도 길이가 1 이상인 단어여야 한다. 이제 이렇게 나눈 세 개의 작은 단어들을 앞뒤를 뒤집고, 이를 다시 원래의 순서대로 합친다.\n",
    "\n",
    "예를 들어,\n",
    "\n",
    "단어 : arrested\n",
    "세 단어로 나누기 : ar / rest / ed\n",
    "각각 뒤집기 : ra / tser / de\n",
    "합치기 : ratserde\n",
    "단어가 주어지면, 이렇게 만들 수 있는 단어 중에서 사전순으로 가장 앞서는 단어를 출력하는 프로그램을 작성하시오.\n",
    "\n",
    "입력\n",
    "첫째 줄에 영어 소문자로 된 단어가 주어진다. 길이는 3 이상 50 이하이다.\n",
    "\n",
    "출력\n",
    "첫째 줄에 구하고자 하는 단어를 출력하면 된다.\n",
    "\n",
    "예제 입력 1 \n",
    "mobitel\n",
    "예제 출력 1 \n",
    "bometil\n",
    "```"
   ]
  },
  {
   "cell_type": "code",
   "execution_count": 5,
   "metadata": {},
   "outputs": [
    {
     "name": "stdout",
     "output_type": "stream",
     "text": [
      "bometil\n"
     ]
    }
   ],
   "source": [
    "word = list(input())\n",
    "result = []\n",
    "tmp = []\n",
    "\n",
    "for i in range(1, len(word) - 1):\n",
    "    for j in range(i + 1, len(word)):\n",
    "        a = word[:i]\n",
    "        b = word[i:j]\n",
    "        c = word[j:]\n",
    "        a = a[::-1]\n",
    "        b = b[::-1]\n",
    "        c = c[::-1]\n",
    "        tmp.append(a + b + c)\n",
    "    \n",
    "for w in tmp:\n",
    "    result.append(''.join(w))\n",
    "\n",
    "print(sorted(result)[0])"
   ]
  },
  {
   "cell_type": "code",
   "execution_count": null,
   "metadata": {},
   "outputs": [],
   "source": []
  }
 ],
 "metadata": {
  "interpreter": {
   "hash": "7812ea015bdcee6f23a998adcdd2ef97c151c0c241b7b7070987d9313e41299d"
  },
  "kernelspec": {
   "display_name": "Python 3.9.5 64-bit",
   "language": "python",
   "name": "python3"
  },
  "language_info": {
   "codemirror_mode": {
    "name": "ipython",
    "version": 3
   },
   "file_extension": ".py",
   "mimetype": "text/x-python",
   "name": "python",
   "nbconvert_exporter": "python",
   "pygments_lexer": "ipython3",
   "version": "3.9.5"
  },
  "orig_nbformat": 4
 },
 "nbformat": 4,
 "nbformat_minor": 2
}
