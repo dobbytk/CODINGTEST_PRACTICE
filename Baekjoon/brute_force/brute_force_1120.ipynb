{
 "cells": [
  {
   "cell_type": "markdown",
   "metadata": {},
   "source": [
    "```\n",
    "문제\n",
    "길이가 N으로 같은 문자열 X와 Y가 있을 때, 두 문자열 X와 Y의 차이는 X[i] ≠ Y[i]인 i의 개수이다. 예를 들어, X=”jimin”, Y=”minji”이면, 둘의 차이는 4이다.\n",
    "\n",
    "두 문자열 A와 B가 주어진다. 이때, A의 길이는 B의 길이보다 작거나 같다. 이제 A의 길이가 B의 길이와 같아질 때 까지 다음과 같은 연산을 할 수 있다.\n",
    "\n",
    "A의 앞에 아무 알파벳이나 추가한다.\n",
    "A의 뒤에 아무 알파벳이나 추가한다.\n",
    "이때, A와 B의 길이가 같으면서, A와 B의 차이를 최소로 하는 프로그램을 작성하시오.\n",
    "\n",
    "입력\n",
    "첫째 줄에 A와 B가 주어진다. A와 B의 길이는 최대 50이고, A의 길이는 B의 길이보다 작거나 같고, 알파벳 소문자로만 이루어져 있다.\n",
    "\n",
    "출력\n",
    "A와 B의 길이가 같으면서, A와 B의 차이를 최소가 되도록 했을 때, 그 차이를 출력하시오.\n",
    "\n",
    "예제 입력 1 \n",
    "adaabc aababbc\n",
    "예제 출력 1 \n",
    "2\n",
    "예제 입력 2 \n",
    "hello xello\n",
    "예제 출력 2 \n",
    "1\n",
    "예제 입력 3 \n",
    "koder topcoder\n",
    "예제 출력 3 \n",
    "1\n",
    "예제 입력 4 \n",
    "abc topabcoder\n",
    "예제 출력 4 \n",
    "0\n",
    "예제 입력 5 \n",
    "giorgi igroig\n",
    "예제 출력 5 \n",
    "6\n",
    "```"
   ]
  },
  {
   "cell_type": "code",
   "execution_count": 1,
   "metadata": {},
   "outputs": [
    {
     "name": "stdout",
     "output_type": "stream",
     "text": [
      "2\n"
     ]
    }
   ],
   "source": [
    "a, b = map(str, input().split())\n",
    "\n",
    "answer = []\n",
    "for i in range(len(b) - len(a) + 1):\n",
    "    cnt = 0\n",
    "    for j in range(len(a)):\n",
    "        if a[j] != b[i+j]:\n",
    "            cnt += 1\n",
    "    answer.append(cnt)\n",
    "\n",
    "print(min(answer))\n",
    "\n"
   ]
  },
  {
   "cell_type": "code",
   "execution_count": null,
   "metadata": {},
   "outputs": [],
   "source": []
  }
 ],
 "metadata": {
  "interpreter": {
   "hash": "7812ea015bdcee6f23a998adcdd2ef97c151c0c241b7b7070987d9313e41299d"
  },
  "kernelspec": {
   "display_name": "Python 3.9.5 64-bit",
   "language": "python",
   "name": "python3"
  },
  "language_info": {
   "codemirror_mode": {
    "name": "ipython",
    "version": 3
   },
   "file_extension": ".py",
   "mimetype": "text/x-python",
   "name": "python",
   "nbconvert_exporter": "python",
   "pygments_lexer": "ipython3",
   "version": "3.9.5"
  },
  "orig_nbformat": 4
 },
 "nbformat": 4,
 "nbformat_minor": 2
}
