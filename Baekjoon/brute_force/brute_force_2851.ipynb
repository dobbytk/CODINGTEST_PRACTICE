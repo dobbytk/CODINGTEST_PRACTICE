{
 "cells": [
  {
   "cell_type": "markdown",
   "metadata": {},
   "source": [
    "```\n",
    "문제\n",
    "슈퍼 마리오 앞에 10개의 버섯이 일렬로 놓여져 있다. 이 버섯을 먹으면 점수를 받는다.\n",
    "\n",
    "슈퍼 마리오는 버섯을 처음부터 나온 순서대로 집으려고 한다. 하지만, 모든 버섯을 집을 필요는 없고 중간에 중단할 수 있다. 중간에 버섯을 먹는 것을 중단했다면, 그 이후에 나온 버섯은 모두 먹을 수 없다. 따라서 첫 버섯을 먹지 않았다면, 그 이후 버섯도 모두 먹을 수 없다.\n",
    "\n",
    "마리오는 받은 점수의 합을 최대한 100에 가깝게 만들려고 한다.\n",
    "\n",
    "버섯의 점수가 주어졌을 때, 마리오가 받는 점수를 출력하는 프로그램을 작성하시오.\n",
    "\n",
    "입력\n",
    "총 10개의 줄에 각각의 버섯의 점수가 주어진다. 이 값은 100보다 작거나 같은 양의 정수이다. 버섯이 나온 순서대로 점수가 주어진다.\n",
    "\n",
    "출력\n",
    "첫째 줄에 마리오가 받는 점수를 출력한다. 만약 100에 가까운 수가 2개라면 (예: 98, 102) 마리오는 큰 값을 선택한다.\n",
    "\n",
    "예제 입력 1    예제 출력 1\n",
    "10           100  \n",
    "20\n",
    "30\n",
    "40\n",
    "50\n",
    "60\n",
    "70\n",
    "80\n",
    "90\n",
    "100\n",
    "예제 입력 2    예제 출력 2 \n",
    "1            87\n",
    "2\n",
    "3\n",
    "5\n",
    "8\n",
    "13\n",
    "21\n",
    "34\n",
    "55\n",
    "89\n",
    "예제 입력 3    예제 출력 3\n",
    "40           120\n",
    "40\n",
    "40\n",
    "40\n",
    "40\n",
    "40\n",
    "40\n",
    "40\n",
    "40\n",
    "40\n",
    "```"
   ]
  },
  {
   "cell_type": "code",
   "execution_count": 17,
   "metadata": {},
   "outputs": [
    {
     "name": "stdout",
     "output_type": "stream",
     "text": [
      "87\n"
     ]
    }
   ],
   "source": [
    "arr = []\n",
    "gap = []\n",
    "score = 0\n",
    "result = []\n",
    "for i in range(10):\n",
    "    n = int(input())\n",
    "    score += n\n",
    "    arr.append(score)\n",
    "    gap.append(abs(score-100))\n",
    "\n",
    "dic = {}\n",
    "for s, g in zip(arr, gap):\n",
    "    dic[s] = g\n",
    "\n",
    "for key, value in dic.items():\n",
    "    if value == min(dic.values()):\n",
    "        result.append(key)\n",
    "\n",
    "print(max(result))"
   ]
  }
 ],
 "metadata": {
  "interpreter": {
   "hash": "7812ea015bdcee6f23a998adcdd2ef97c151c0c241b7b7070987d9313e41299d"
  },
  "kernelspec": {
   "display_name": "Python 3.9.5 64-bit",
   "name": "python3"
  },
  "language_info": {
   "codemirror_mode": {
    "name": "ipython",
    "version": 3
   },
   "file_extension": ".py",
   "mimetype": "text/x-python",
   "name": "python",
   "nbconvert_exporter": "python",
   "pygments_lexer": "ipython3",
   "version": "3.9.5"
  },
  "orig_nbformat": 4
 },
 "nbformat": 4,
 "nbformat_minor": 2
}
