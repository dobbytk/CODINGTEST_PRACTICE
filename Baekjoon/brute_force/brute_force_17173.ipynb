{
 "cells": [
  {
   "cell_type": "markdown",
   "metadata": {},
   "source": [
    "```\n",
    "문제\n",
    "신원이는 백준에서 배수에 관한 문제를 풀다가 감명을 받아 새로운 문제를 만들어보았다. 자연수 N과 M개의 자연수 Ki가 주어진다. Ki중 적어도 하나의 배수이면서 1 이상 N 이하인 수의 합을 구하여라.\n",
    "\n",
    "입력\n",
    "첫 번째 줄에 N과 M가 주어진다. (2 ≤ N ≤ 1000, 1 ≤ M < N)\n",
    "\n",
    "그다음 줄에 M개의 정수 Ki가 주어진다. (2 ≤ Ki ≤ 1000)\n",
    "\n",
    "동일한 Ki는 주어지지 않으며, 오름차순으로 정렬되어있다.\n",
    "\n",
    "출력\n",
    "배수들의 합을 출력한다.\n",
    "\n",
    "예제 입력 1 \n",
    "10 2\n",
    "2 3\n",
    "예제 출력 1 \n",
    "42\n",
    "예제 입력 2 \n",
    "1000 3\n",
    "3 5 7\n",
    "예제 출력 2 \n",
    "272066\n",
    "```"
   ]
  },
  {
   "cell_type": "code",
   "execution_count": 3,
   "metadata": {},
   "outputs": [
    {
     "name": "stdout",
     "output_type": "stream",
     "text": [
      "42\n"
     ]
    }
   ],
   "source": [
    "N, M = map(int, input().split())\n",
    "arr = list(map(int, input().split()))\n",
    "\n",
    "result = 0\n",
    "\n",
    "for i in range(1, N + 1):\n",
    "    for j in arr:\n",
    "        if i % j == 0:\n",
    "            result += i\n",
    "            break\n",
    "print(result)"
   ]
  },
  {
   "cell_type": "code",
   "execution_count": null,
   "metadata": {},
   "outputs": [],
   "source": []
  }
 ],
 "metadata": {
  "interpreter": {
   "hash": "7812ea015bdcee6f23a998adcdd2ef97c151c0c241b7b7070987d9313e41299d"
  },
  "kernelspec": {
   "display_name": "Python 3.9.5 64-bit",
   "language": "python",
   "name": "python3"
  },
  "language_info": {
   "codemirror_mode": {
    "name": "ipython",
    "version": 3
   },
   "file_extension": ".py",
   "mimetype": "text/x-python",
   "name": "python",
   "nbconvert_exporter": "python",
   "pygments_lexer": "ipython3",
   "version": "3.9.5"
  },
  "orig_nbformat": 4
 },
 "nbformat": 4,
 "nbformat_minor": 2
}
