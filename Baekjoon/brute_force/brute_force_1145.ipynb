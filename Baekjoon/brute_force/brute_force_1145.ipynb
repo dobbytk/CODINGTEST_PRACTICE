{
 "cells": [
  {
   "cell_type": "markdown",
   "metadata": {},
   "source": [
    "```\n",
    "문제\n",
    "다섯 개의 자연수가 있다. 이 수의 적어도 대부분의 배수는 위의 수 중 적어도 세 개로 나누어 지는 가장 작은 자연수이다.\n",
    "\n",
    "서로 다른 다섯 개의 자연수가 주어질 때, 적어도 대부분의 배수를 출력하는 프로그램을 작성하시오.\n",
    "\n",
    "입력\n",
    "첫째 줄에 다섯 개의 자연수가 주어진다. 100보다 작거나 같은 자연수이고, 서로 다른 수이다.\n",
    "\n",
    "출력\n",
    "첫째 줄에 적어도 대부분의 배수를 출력한다.\n",
    "\n",
    "예제 입력 1 \n",
    "30 42 70 35 90\n",
    "예제 출력 1 \n",
    "210\n",
    "예제 입력 2 \n",
    "1 2 3 4 5\n",
    "예제 출력 2 \n",
    "4\n",
    "예제 입력 3 \n",
    "30 45 23 26 56\n",
    "예제 출력 3 \n",
    "1170\n",
    "예제 입력 4 \n",
    "3 14 15 92 65\n",
    "예제 출력 4 \n",
    "195\n",
    "```"
   ]
  },
  {
   "cell_type": "code",
   "execution_count": 15,
   "metadata": {},
   "outputs": [],
   "source": [
    "import math\n",
    "from itertools import combinations\n",
    "result_arr = []\n",
    "\n",
    "arr = list(map(int, input().split()))\n",
    "comb = list(combinations(arr, 3))\n",
    "\n",
    "for tup in comb:\n",
    "    mul = tup[0] * tup[1]\n",
    "    temp = int(mul / math.gcd(tup[0], tup[1]))\n",
    "    mul2 = temp * tup[2]\n",
    "    result = int(mul2 / math.gcd(temp, tup[2]))\n",
    "    result_arr.append(result)\n",
    "\n",
    "print(min(result_arr))\n",
    "\n"
   ]
  }
 ],
 "metadata": {
  "interpreter": {
   "hash": "7812ea015bdcee6f23a998adcdd2ef97c151c0c241b7b7070987d9313e41299d"
  },
  "kernelspec": {
   "display_name": "Python 3.9.5 64-bit",
   "name": "python3"
  },
  "language_info": {
   "codemirror_mode": {
    "name": "ipython",
    "version": 3
   },
   "file_extension": ".py",
   "mimetype": "text/x-python",
   "name": "python",
   "nbconvert_exporter": "python",
   "pygments_lexer": "ipython3",
   "version": "3.9.5"
  },
  "orig_nbformat": 4
 },
 "nbformat": 4,
 "nbformat_minor": 2
}
