{
 "cells": [
  {
   "cell_type": "markdown",
   "metadata": {},
   "source": [
    "```\n",
    "문제\n",
    "당신은 N개의 반지를 가지고 있다. 각각의 반지는 대문자 10 문자로 이루어진 문자열이 새겨져 있다. 반지는 문자열의 시작과 끝이 연결된 형태로 문자가 새겨져 있다. 반지에 각인된 문자열을 거꾸로 읽는 걱정은 없다.\n",
    "\n",
    "찾고자하는 문자열이 주어졌을 때 그 문자열을 포함하는 반지가 몇 개인지를 발견하는 프로그램을 작성하라.\n",
    "\n",
    "입력\n",
    "입력은 총 2 + N 줄 이다.\n",
    "\n",
    "첫 번째 줄에는 1 자 이상 10 자 이하의 대문자로 구성된 찾고자 하는 문자열이 적혀있다.\n",
    "\n",
    "두 번째 줄에는 반지의 개수 N (1 ≦ N ≦ 100)이 적혀있다.\n",
    "\n",
    "2+i 줄(1 ≦ i ≦ N)엔 i개의 반지에 새겨져있고, 10 문자로 이루어진 문자열이 적혀있다.\n",
    "\n",
    "출력\n",
    "찾고자하는 문자열을 포함 반지의 개수를 나타내는 정수를 한 줄로 출력하라.\n",
    "\n",
    "예제 입력 1 \n",
    "ABCD\n",
    "3\n",
    "ABCDXXXXXX\n",
    "YYYYABCDXX\n",
    "DCBAZZZZZZ\n",
    "예제 출력 1 \n",
    "2\n",
    "예제 입력 2 \n",
    "XYZ\n",
    "1\n",
    "ZAAAAAAAXY\n",
    "예제 출력 2 \n",
    "1\n",
    "예제 입력 3 \n",
    "PQR\n",
    "3\n",
    "PQRAAAAPQR\n",
    "BBPQRBBBBB\n",
    "CCCCCCCCCC\n",
    "예제 출력 3 \n",
    "2\n",
    "```"
   ]
  },
  {
   "cell_type": "code",
   "execution_count": 2,
   "metadata": {},
   "outputs": [
    {
     "name": "stdout",
     "output_type": "stream",
     "text": [
      "1\n"
     ]
    }
   ],
   "source": [
    "find = input()\n",
    "n = int(input())\n",
    "cnt = 0\n",
    "\n",
    "for _ in range(n):\n",
    "    ring = input() * 2\n",
    "    if find in ring:\n",
    "        cnt += 1\n",
    "\n",
    "print(cnt)"
   ]
  },
  {
   "cell_type": "code",
   "execution_count": null,
   "metadata": {},
   "outputs": [],
   "source": []
  }
 ],
 "metadata": {
  "interpreter": {
   "hash": "7812ea015bdcee6f23a998adcdd2ef97c151c0c241b7b7070987d9313e41299d"
  },
  "kernelspec": {
   "display_name": "Python 3.9.5 64-bit",
   "language": "python",
   "name": "python3"
  },
  "language_info": {
   "codemirror_mode": {
    "name": "ipython",
    "version": 3
   },
   "file_extension": ".py",
   "mimetype": "text/x-python",
   "name": "python",
   "nbconvert_exporter": "python",
   "pygments_lexer": "ipython3",
   "version": "3.9.5"
  },
  "orig_nbformat": 4
 },
 "nbformat": 4,
 "nbformat_minor": 2
}
