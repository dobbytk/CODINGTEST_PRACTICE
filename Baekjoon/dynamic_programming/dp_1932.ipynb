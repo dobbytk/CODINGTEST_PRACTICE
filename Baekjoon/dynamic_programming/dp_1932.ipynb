{
 "cells": [
  {
   "cell_type": "markdown",
   "metadata": {},
   "source": [
    "```\n",
    "문제\n",
    "        7\n",
    "      3   8\n",
    "    8   1   0\n",
    "  2   7   4   4\n",
    "4   5   2   6   5\n",
    "위 그림은 크기가 5인 정수 삼각형의 한 모습이다.\n",
    "\n",
    "맨 위층 7부터 시작해서 아래에 있는 수 중 하나를 선택하여 아래층으로 내려올 때, 이제까지 선택된 수의 합이 최대가 되는 경로를 구하는 프로그램을 작성하라. 아래층에 있는 수는 현재 층에서 선택된 수의 대각선 왼쪽 또는 대각선 오른쪽에 있는 것 중에서만 선택할 수 있다.\n",
    "\n",
    "삼각형의 크기는 1 이상 500 이하이다. 삼각형을 이루고 있는 각 수는 모두 정수이며, 범위는 0 이상 9999 이하이다.\n",
    "\n",
    "입력\n",
    "첫째 줄에 삼각형의 크기 n(1 ≤ n ≤ 500)이 주어지고, 둘째 줄부터 n+1번째 줄까지 정수 삼각형이 주어진다.\n",
    "\n",
    "출력\n",
    "첫째 줄에 합이 최대가 되는 경로에 있는 수의 합을 출력한다.\n",
    "\n",
    "예제 입력 1 \n",
    "5\n",
    "7\n",
    "3 8\n",
    "8 1 0\n",
    "2 7 4 4\n",
    "4 5 2 6 5\n",
    "예제 출력 1 \n",
    "30\n",
    "```"
   ]
  },
  {
   "cell_type": "code",
   "execution_count": 2,
   "metadata": {},
   "outputs": [
    {
     "name": "stdout",
     "output_type": "stream",
     "text": [
      "30\n"
     ]
    }
   ],
   "source": [
    "n = int(input())\n",
    "dp = []\n",
    "\n",
    "for _ in range(n):\n",
    "    dp.append(list(map(int, input().split())))\n",
    "\n",
    "for i in range(1, n):\n",
    "    for j in range(i + 1):\n",
    "        # 왼쪽 위에서 내려오는 경우\n",
    "        if j == 0:\n",
    "            up_left = 0\n",
    "        else:\n",
    "            up_left = dp[i-1][j-1]\n",
    "        # 왼쪽에서 오는 경우\n",
    "        if j == i:\n",
    "            up = 0\n",
    "        else:\n",
    "            up = dp[i-1][j]\n",
    "\n",
    "        dp[i][j] += max(up_left, up)\n",
    "\n",
    "print(max(dp[n-1]))\n"
   ]
  },
  {
   "cell_type": "markdown",
   "metadata": {},
   "source": [
    "```\n",
    "이 문제에서 특정 위치에 도달하기 위해서는 \"1. 왼쪽 위 2. 바로 위\" 2가지 위치에서만 내려올 수 있다. 따라서 모든 위치를 기준으로 이전 위치로 가능한 2가지 위치까지의 최적의 합 중에서 더 큰 합을 가지는 경우를 선택하면 된다. \n",
    "기본적인 점화식은 다음과 같다.\n",
    "\n",
    "dp[i][j] = array[i][j] + max(dp[i - 1][j - 1], dp[i - 1][j])\n",
    "\n",
    "```"
   ]
  },
  {
   "cell_type": "markdown",
   "metadata": {},
   "source": []
  }
 ],
 "metadata": {
  "interpreter": {
   "hash": "7812ea015bdcee6f23a998adcdd2ef97c151c0c241b7b7070987d9313e41299d"
  },
  "kernelspec": {
   "display_name": "Python 3.9.5 64-bit",
   "language": "python",
   "name": "python3"
  },
  "language_info": {
   "codemirror_mode": {
    "name": "ipython",
    "version": 3
   },
   "file_extension": ".py",
   "mimetype": "text/x-python",
   "name": "python",
   "nbconvert_exporter": "python",
   "pygments_lexer": "ipython3",
   "version": "3.9.5"
  },
  "orig_nbformat": 4
 },
 "nbformat": 4,
 "nbformat_minor": 2
}
