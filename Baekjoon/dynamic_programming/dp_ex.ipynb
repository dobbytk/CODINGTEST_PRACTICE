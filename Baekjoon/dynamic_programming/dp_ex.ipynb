{
 "cells": [
  {
   "cell_type": "markdown",
   "metadata": {},
   "source": [
    "```\n",
    "1로 만들기(출처: 이것이 코딩테스트다)\n",
    "\n",
    "정수 x가 주어질 때 정수 x에 사용할 수 있는 연산은 다음과 같이 4가지이다.\n",
    "    1. x가 5로 나누어떨어지면, 5로 나눈다.\n",
    "    2. x가 3으로 나누어떨어지면, 3으로 나눈다.\n",
    "    3. x가 2로 나누어떨어지면, 2로 나눈다.\n",
    "    4. x에서 1을 뺀다.\n",
    "\n",
    "정수 x가 주어졌을 때, 연산 4개를 적절히 사용해서 1을 만들려고 한다. 연산을 사용하는 횟수의 최솟값을 출력하시오.\n",
    "예를 들어 정수가 26이면 다음과 같이 계산해서 3번의 연산이 최솟값이다.\n",
    "1. 26 - 1 = 25\n",
    "2. 25 / 5 = 5\n",
    "3. 5 / 5 = 1\n",
    "\n",
    "입력 조건\n",
    "첫째 줄에 정수 x가 주어진다. (1 <= x <= 30,000)\n",
    "첫째 줄에 연산을 하는 횟수의 최솟값을 출력한다.\n",
    "\n",
    "입력 예시\n",
    "26\n",
    "출력 예시\n",
    "3\n",
    "```"
   ]
  },
  {
   "cell_type": "code",
   "execution_count": 6,
   "metadata": {},
   "outputs": [
    {
     "name": "stdout",
     "output_type": "stream",
     "text": [
      "5\n"
     ]
    }
   ],
   "source": [
    "x = int(input())\n",
    "\n",
    "d = [0] * 30001\n",
    "\n",
    "for i in range(2, x + 1):\n",
    "    d[i] = d[i - 1] + 1\n",
    "    if i % 2 == 0:\n",
    "        d[i] = min(d[i], d[i // 2] + 1)\n",
    "    if i % 3 == 0:\n",
    "        d[i] = min(d[i], d[i // 3] + 1)\n",
    "    if i % 5 == 0:\n",
    "        d[i] == min(d[i], d[i // 5] + 1)\n",
    "\n",
    "print(d[x])"
   ]
  },
  {
   "cell_type": "code",
   "execution_count": null,
   "metadata": {},
   "outputs": [],
   "source": []
  }
 ],
 "metadata": {
  "interpreter": {
   "hash": "7812ea015bdcee6f23a998adcdd2ef97c151c0c241b7b7070987d9313e41299d"
  },
  "kernelspec": {
   "display_name": "Python 3.9.5 64-bit",
   "language": "python",
   "name": "python3"
  },
  "language_info": {
   "codemirror_mode": {
    "name": "ipython",
    "version": 3
   },
   "file_extension": ".py",
   "mimetype": "text/x-python",
   "name": "python",
   "nbconvert_exporter": "python",
   "pygments_lexer": "ipython3",
   "version": "3.9.5"
  },
  "orig_nbformat": 4
 },
 "nbformat": 4,
 "nbformat_minor": 2
}
