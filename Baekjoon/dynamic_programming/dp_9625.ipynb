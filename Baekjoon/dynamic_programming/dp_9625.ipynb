{
 "cells": [
  {
   "cell_type": "markdown",
   "metadata": {},
   "source": [
    "```\n",
    "문제\n",
    "상근이는 길을 걷다가 신기한 기계를 발견했다. 기계는 매우 매우 큰 화면과 버튼 하나로 이루어져 있다.\n",
    "\n",
    "기계를 발견했을 때, 화면에는 A만 표시되어져 있었다. 버튼을 누르니 글자가 B로 변했다. 한 번 더 누르니 BA로 바뀌고, 그 다음에는 BAB, 그리고 BABBA로 바뀌었다. 상근이는 화면의 모든 B는 BA로 바뀌고, A는 B로 바뀐다는 사실을 알게되었다.\n",
    "\n",
    "버튼을 K번 눌렀을 때, 화면에 A와 B의 개수는 몇 개가 될까?\n",
    "\n",
    "입력\n",
    "첫째 줄에 K (1 ≤ K ≤ 45)가 주어진다.\n",
    "\n",
    "출력\n",
    "첫째 줄에 A의 개수와 B의 개수를 공백으로 구분해 출력한다.\n",
    "\n",
    "예제 입력 1 \n",
    "1\n",
    "예제 출력 1 \n",
    "0 1\n",
    "예제 입력 2 \n",
    "4\n",
    "예제 출력 2 \n",
    "2 3\n",
    "예제 입력 3 \n",
    "10\n",
    "예제 출력 3 \n",
    "34 55\n",
    "```"
   ]
  },
  {
   "cell_type": "code",
   "execution_count": 2,
   "metadata": {},
   "outputs": [
    {
     "name": "stdout",
     "output_type": "stream",
     "text": [
      "34 55\n"
     ]
    }
   ],
   "source": [
    "n = int(input())\n",
    "\n",
    "a = [1, 0]\n",
    "b = [0, 1]\n",
    "\n",
    "for i in range(2, n+1):\n",
    "    a_num = a[i-1] + a[i-2]\n",
    "    a.append(a_num)\n",
    "    b_num = b[i-1] + b[i-2]\n",
    "    b.append(b_num)\n",
    "\n",
    "print(a[n], b[n])"
   ]
  },
  {
   "cell_type": "code",
   "execution_count": null,
   "metadata": {},
   "outputs": [],
   "source": []
  }
 ],
 "metadata": {
  "interpreter": {
   "hash": "7812ea015bdcee6f23a998adcdd2ef97c151c0c241b7b7070987d9313e41299d"
  },
  "kernelspec": {
   "display_name": "Python 3.9.5 64-bit",
   "language": "python",
   "name": "python3"
  },
  "language_info": {
   "codemirror_mode": {
    "name": "ipython",
    "version": 3
   },
   "file_extension": ".py",
   "mimetype": "text/x-python",
   "name": "python",
   "nbconvert_exporter": "python",
   "pygments_lexer": "ipython3",
   "version": "3.9.5"
  },
  "orig_nbformat": 4
 },
 "nbformat": 4,
 "nbformat_minor": 2
}
