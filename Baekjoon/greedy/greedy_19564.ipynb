{
 "cells": [
  {
   "cell_type": "markdown",
   "metadata": {},
   "source": [
    "```\n",
    "문제\n",
    "muse는 네이버 카페에 글을 올리려고 한다. 하지만 키보드가 고장나서, 어떤 키를 누르든 abcdefghijklmnopqrstuvwxyz가 입력된다!\n",
    "muse는 글을 올리고 싶지만, 원하는 글을 쓰기 위해서는 아래와 같은 작업을 해야 한다.\n",
    "\n",
    "    1. abcdefghijklmnopqrstuvwxyz를 K번 반복해서 입력한다.\n",
    "    2. 원하는 글자를 마우스로 지워, 최종 글을 완성한다.\n",
    "    \n",
    "muse는 많은 글자를 지우는 일이 귀찮기 때문에, K를 최소화하려 한다. muse가 원하는 글을 입력하려면 abcdefghijklmnopqrstuvwxyz를 몇 번 입력해야 하는지 구해 주자.\n",
    "\n",
    "입력\n",
    "muse가 입력하고자 하는 글 S가 주어진다. 이 글은 알파벳 소문자만으로 이루어져 있으며, 길이는 L이다. (1 <= L <= 10^5)\n",
    "\n",
    "출력\n",
    "K의 최솟값을 출력한다.\n",
    "\n",
    "예제 입력 1 \n",
    "polymath\n",
    "예제 출력 1 \n",
    "6\n",
    "```"
   ]
  },
  {
   "cell_type": "code",
   "execution_count": 11,
   "metadata": {},
   "outputs": [
    {
     "name": "stdout",
     "output_type": "stream",
     "text": [
      "6\n"
     ]
    }
   ],
   "source": [
    "answer = 0\n",
    "\n",
    "s = input()\n",
    "s_lst = sorted(s)\n",
    "\n",
    "for i in range(len(s)):\n",
    "    if s[i] != s_lst[i]:\n",
    "        answer += 1\n",
    "\n",
    "print(answer)"
   ]
  }
 ],
 "metadata": {
  "interpreter": {
   "hash": "7812ea015bdcee6f23a998adcdd2ef97c151c0c241b7b7070987d9313e41299d"
  },
  "kernelspec": {
   "display_name": "Python 3.9.5 64-bit",
   "language": "python",
   "name": "python3"
  },
  "language_info": {
   "codemirror_mode": {
    "name": "ipython",
    "version": 3
   },
   "file_extension": ".py",
   "mimetype": "text/x-python",
   "name": "python",
   "nbconvert_exporter": "python",
   "pygments_lexer": "ipython3",
   "version": "3.9.5"
  },
  "orig_nbformat": 4
 },
 "nbformat": 4,
 "nbformat_minor": 2
}
