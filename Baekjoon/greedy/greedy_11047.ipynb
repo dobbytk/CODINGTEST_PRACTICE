{
 "cells": [
  {
   "cell_type": "markdown",
   "metadata": {},
   "source": [
    "```\n",
    "문제\n",
    "준규가 가지고 있는 동전은 총 N종류이고, 각각의 동전을 매우 많이 가지고 있다.\n",
    "\n",
    "동전을 적절히 사용해서 그 가치의 합을 K로 만들려고 한다. 이때 필요한 동전 개수의 최솟값을 구하는 프로그램을 작성하시오.\n",
    "\n",
    "입력\n",
    "첫째 줄에 N과 K가 주어진다. (1 ≤ N ≤ 10, 1 ≤ K ≤ 100,000,000)\n",
    "\n",
    "둘째 줄부터 N개의 줄에 동전의 가치 Ai가 오름차순으로 주어진다. (1 ≤ Ai ≤ 1,000,000, A1 = 1, i ≥ 2인 경우에 Ai는 Ai-1의 배수)\n",
    "\n",
    "출력\n",
    "첫째 줄에 K원을 만드는데 필요한 동전 개수의 최솟값을 출력한다.\n",
    "\n",
    "예제 입력 1 \n",
    "10 4200\n",
    "1\n",
    "5\n",
    "10\n",
    "50\n",
    "100\n",
    "500\n",
    "1000\n",
    "5000\n",
    "10000\n",
    "50000\n",
    "예제 출력 1 \n",
    "6\n",
    "예제 입력 2 \n",
    "10 4790\n",
    "1\n",
    "5\n",
    "10\n",
    "50\n",
    "100\n",
    "500\n",
    "1000\n",
    "5000\n",
    "10000\n",
    "50000\n",
    "예제 출력 2\n",
    "12\n",
    "```"
   ]
  },
  {
   "cell_type": "code",
   "execution_count": 3,
   "metadata": {},
   "outputs": [
    {
     "name": "stdout",
     "output_type": "stream",
     "text": [
      "6\n"
     ]
    }
   ],
   "source": [
    "i, n = map(int, input().split())\n",
    "count = 0\n",
    "coin_types = []\n",
    "\n",
    "for _ in range(i):\n",
    "    coin_types.append(int(input()))\n",
    "\n",
    "coin_types = sorted(coin_types, reverse=True)\n",
    "\n",
    "for coin in coin_types:\n",
    "    count += n // coin\n",
    "    n %= coin\n",
    "\n",
    "print(count)"
   ]
  },
  {
   "cell_type": "code",
   "execution_count": null,
   "metadata": {},
   "outputs": [],
   "source": []
  }
 ],
 "metadata": {
  "interpreter": {
   "hash": "7812ea015bdcee6f23a998adcdd2ef97c151c0c241b7b7070987d9313e41299d"
  },
  "kernelspec": {
   "display_name": "Python 3.9.5 64-bit",
   "language": "python",
   "name": "python3"
  },
  "language_info": {
   "codemirror_mode": {
    "name": "ipython",
    "version": 3
   },
   "file_extension": ".py",
   "mimetype": "text/x-python",
   "name": "python",
   "nbconvert_exporter": "python",
   "pygments_lexer": "ipython3",
   "version": "3.9.5"
  },
  "orig_nbformat": 4
 },
 "nbformat": 4,
 "nbformat_minor": 2
}
