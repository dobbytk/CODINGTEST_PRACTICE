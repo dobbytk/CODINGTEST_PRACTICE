{
 "cells": [
  {
   "cell_type": "code",
   "execution_count": null,
   "metadata": {},
   "outputs": [],
   "source": [
    "\"\"\"\n",
    "문제\n",
    "등산가 김강산은 가족들과 함께 캠핑을 떠났다. 하지만, 캠핑장에는 다음과 같은 경고문이 쓰여 있었다.\n",
    "\n",
    "캠핑장은 연속하는 20일 중 10일동안만 사용할 수 있습니다.\n",
    "\n",
    "강산이는 이제 막 28일 휴가를 시작했다. 이번 휴가 기간 동안 강산이는 캠핑장을 며칠동안 사용할 수 있을까?\n",
    "\n",
    "강산이는 조금 더 일반화해서 문제를 풀려고 한다. \n",
    "\n",
    "캠핑장을 연속하는 P일 중, L일동안만 사용할 수 있다. 강산이는 이제 막 V일짜리 휴가를 시작했다. 강산이가 캠핑장을 최대 며칠동안 사용할 수 있을까? (1 < L < P < V)\n",
    "\n",
    "입력\n",
    "입력은 여러 개의 테스트 케이스로 이루어져 있다. 각 테스트 케이스는 한 줄로 이루어져 있고, L, P, V를 순서대로 포함하고 있다. 모든 입력 정수는 int범위이다. 마지막 줄에는 0이 3개 주어진다.\n",
    "\n",
    "출력\n",
    "각 테스트 케이스에 대해서, 강산이가 캠핑장을 최대 며칠동안 사용할 수 있는지 예제 출력처럼 출력한다.\n",
    "\n",
    "예제 입력 1 \n",
    "5 8 20\n",
    "5 8 17\n",
    "0 0 0\n",
    "예제 출력 1 \n",
    "Case 1: 14\n",
    "Case 2: 11\n",
    "\"\"\""
   ]
  },
  {
   "cell_type": "code",
   "execution_count": 3,
   "metadata": {},
   "outputs": [
    {
     "name": "stdout",
     "output_type": "stream",
     "text": [
      "Case 1: 14\n",
      "Case 2: 11\n"
     ]
    }
   ],
   "source": [
    "i = 1\n",
    "while True:\n",
    "    L, P, V = map(int, input().split())\n",
    "\n",
    "    if L == 0 and P == 0 and V == 0:\n",
    "        break\n",
    "\n",
    "    if V % P > L:\n",
    "        print(\"Case {}: {}\".format(i, L * (V // P) + L))\n",
    "        i += 1\n",
    "\n",
    "    else:\n",
    "        print(\"Case {}: {}\".format(i, L * (V // P) + (V % P)))\n",
    "        i += 1"
   ]
  },
  {
   "cell_type": "code",
   "execution_count": null,
   "metadata": {},
   "outputs": [],
   "source": []
  }
 ],
 "metadata": {
  "interpreter": {
   "hash": "7812ea015bdcee6f23a998adcdd2ef97c151c0c241b7b7070987d9313e41299d"
  },
  "kernelspec": {
   "display_name": "Python 3.9.5 64-bit",
   "name": "python3"
  },
  "language_info": {
   "codemirror_mode": {
    "name": "ipython",
    "version": 3
   },
   "file_extension": ".py",
   "mimetype": "text/x-python",
   "name": "python",
   "nbconvert_exporter": "python",
   "pygments_lexer": "ipython3",
   "version": "3.9.5"
  },
  "orig_nbformat": 4
 },
 "nbformat": 4,
 "nbformat_minor": 2
}
