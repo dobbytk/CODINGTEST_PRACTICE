{
 "cells": [
  {
   "cell_type": "markdown",
   "metadata": {},
   "source": [
    "```\n",
    "문제\n",
    "민식이는 다음과 같은 폴리오미노 2개를 무한개만큼 가지고 있다. AAAA와 BB\n",
    "\n",
    "이제 '.'와 'X'로 이루어진 보드판이 주어졌을 때, 민식이는 겹침없이 'X'를 모두 폴리오미노로 덮으려고 한다. 이때, '.'는 폴리오미노로 덮으면 안 된다.\n",
    "\n",
    "폴리오미노로 모두 덮은 보드판을 출력하는 프로그램을 작성하시오.\n",
    "\n",
    "입력\n",
    "첫째 줄에 보드판이 주어진다. 보드판의 크기는 최대 50이다.\n",
    "\n",
    "출력\n",
    "첫째 줄에 사전순으로 가장 앞서는 답을 출력한다. 만약 덮을 수 없으면 -1을 출력한다.\n",
    "\n",
    "예제 입력 1 \n",
    "XXXXXX\n",
    "예제 출력 1 \n",
    "AAAABB\n",
    "예제 입력 2 \n",
    "XX.XX\n",
    "예제 출력 2 \n",
    "BB.BB\n",
    "예제 입력 3 \n",
    "XXXX....XXX.....XX\n",
    "예제 출력 3 \n",
    "-1\n",
    "예제 입력 4 \n",
    "X\n",
    "예제 출력 4 \n",
    "-1\n",
    "예제 입력 5 \n",
    "XX.XXXXXXXXXX..XXXXXXXX...XXXXXX\n",
    "예제 출력 5 \n",
    "BB.AAAAAAAABB..AAAAAAAA...AAAABB\n",
    "\n",
    "```"
   ]
  },
  {
   "cell_type": "code",
   "execution_count": 6,
   "metadata": {},
   "outputs": [
    {
     "name": "stdout",
     "output_type": "stream",
     "text": [
      "AAAABB\n"
     ]
    }
   ],
   "source": [
    "s = input()\n",
    "\n",
    "s = s.replace('XXXX', 'AAAA')\n",
    "s = s.replace('XX', 'BB')\n",
    "\n",
    "if 'X' in s:\n",
    "    print(-1)        \n",
    "else:\n",
    "    print(s)"
   ]
  }
 ],
 "metadata": {
  "interpreter": {
   "hash": "7812ea015bdcee6f23a998adcdd2ef97c151c0c241b7b7070987d9313e41299d"
  },
  "kernelspec": {
   "display_name": "Python 3.9.5 64-bit",
   "language": "python",
   "name": "python3"
  },
  "language_info": {
   "codemirror_mode": {
    "name": "ipython",
    "version": 3
   },
   "file_extension": ".py",
   "mimetype": "text/x-python",
   "name": "python",
   "nbconvert_exporter": "python",
   "pygments_lexer": "ipython3",
   "version": "3.9.5"
  },
  "orig_nbformat": 4
 },
 "nbformat": 4,
 "nbformat_minor": 2
}
