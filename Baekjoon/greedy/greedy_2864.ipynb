{
 "cells": [
  {
   "cell_type": "markdown",
   "metadata": {},
   "source": [
    "```\n",
    "문제\n",
    "상근이는 2863번에서 표를 너무 열심히 돌린 나머지 5와 6을 헷갈리기 시작했다.\n",
    "\n",
    "상근이가 숫자 5를 볼 때, 5로 볼 때도 있지만, 6으로 잘못 볼 수도 있고, 6을 볼 때는, 6으로 볼 때도 있지만, 5로 잘못 볼 수도 있다.\n",
    "\n",
    "두 수 A와 B가 주어졌을 때, 상근이는 이 두 수를 더하려고 한다. 이때, 상근이가 구할 수 있는 두 수의 가능한 합 중, 최솟값과 최댓값을 구해 출력하는 프로그램을 작성하시오.\n",
    "\n",
    "입력\n",
    "첫째 줄에 두 정수 A와 B가 주어진다. (1 <= A,B <= 1,000,000)\n",
    "\n",
    "출력\n",
    "첫째 줄에 상근이가 구할 수 있는 두 수의 합 중 최솟값과 최댓값을 출력한다.\n",
    "\n",
    "예제 입력 1 \n",
    "11 25\n",
    "예제 출력 1 \n",
    "36 37\n",
    "예제 입력 2 \n",
    "1430 4862\n",
    "예제 출력 2 \n",
    "6282 6292\n",
    "예제 입력 3 \n",
    "16796 58786\n",
    "예제 출력 3 \n",
    "74580 85582\n",
    "\n",
    "```"
   ]
  },
  {
   "cell_type": "code",
   "execution_count": 5,
   "metadata": {},
   "outputs": [
    {
     "name": "stdout",
     "output_type": "stream",
     "text": [
      "36 37\n"
     ]
    }
   ],
   "source": [
    "import re\n",
    "\n",
    "arr = list(map(str, input().split()))\n",
    "new_arr_min = []\n",
    "new_arr_max = []\n",
    "min = 0\n",
    "max = 0\n",
    "\n",
    "for s in arr:\n",
    "    alt = re.sub('5', '6', s)\n",
    "    new_arr_max.append(alt)\n",
    "\n",
    "for s in arr:\n",
    "    alt = re.sub('6', '5', s)\n",
    "    new_arr_min.append(alt)\n",
    "\n",
    "for s in new_arr_min:\n",
    "    min += int(s)\n",
    "\n",
    "for s in new_arr_max:\n",
    "    max += int(s)\n",
    "\n",
    "print(min, end=' ')\n",
    "print(max)"
   ]
  },
  {
   "cell_type": "code",
   "execution_count": null,
   "metadata": {},
   "outputs": [],
   "source": []
  }
 ],
 "metadata": {
  "interpreter": {
   "hash": "7812ea015bdcee6f23a998adcdd2ef97c151c0c241b7b7070987d9313e41299d"
  },
  "kernelspec": {
   "display_name": "Python 3.9.5 64-bit",
   "language": "python",
   "name": "python3"
  },
  "language_info": {
   "codemirror_mode": {
    "name": "ipython",
    "version": 3
   },
   "file_extension": ".py",
   "mimetype": "text/x-python",
   "name": "python",
   "nbconvert_exporter": "python",
   "pygments_lexer": "ipython3",
   "version": "3.9.5"
  },
  "orig_nbformat": 4
 },
 "nbformat": 4,
 "nbformat_minor": 2
}
