{
 "cells": [
  {
   "cell_type": "markdown",
   "metadata": {},
   "source": [
    "```\n",
    "문제\n",
    "영선이와 효빈이는 슬라임을 합치는 게임을 하고 있다. 두 사람은 두 슬라임을 골라서 하나로 합쳐야 한다. 게임은 슬라임이 하나 남았을 때 끝난다.\n",
    "\n",
    "모든 슬라임은 양수 크기를 가지고 있다. 두 슬라임 x와 y를 합쳤을 때, 합친 슬라임의 크기는 x+y가 된다. 또한, 슬라임을 합칠 때 마다 두 사람은 x*y 점수를 얻게 된다.\n",
    "\n",
    "영선이와 효빈이가 얻을 수 있는 점수의 최댓값을 구하는 프로그램을 작성하시오.\n",
    "\n",
    "입력\n",
    "첫째 줄에 슬라임의 개수 N (2 ≤ N ≤ 100)이 주어진다.\n",
    "\n",
    "둘째 줄에는 슬라임의 크기가 주어진다. 크기는 100보다 작거나 같은 자연수이다.\n",
    "\n",
    "출력\n",
    "첫째 줄에 영선이와 효빈이가 얻을 수 있는 점수의 최댓값을 출력한다.\n",
    "\n",
    "예제 입력 1 \n",
    "2\n",
    "3 4\n",
    "예제 출력 1 \n",
    "12\n",
    "예제 입력 2 \n",
    "3\n",
    "2 2 2\n",
    "예제 출력 2 \n",
    "12\n",
    "예제 입력 3 \n",
    "3\n",
    "1 2 3\n",
    "예제 출력 3 \n",
    "11\n",
    "예제 입력 4 \n",
    "3\n",
    "3 1 2\n",
    "예제 출력 4 \n",
    "11\n",
    "```"
   ]
  },
  {
   "cell_type": "code",
   "execution_count": 3,
   "metadata": {},
   "outputs": [
    {
     "name": "stdout",
     "output_type": "stream",
     "text": [
      "11\n"
     ]
    }
   ],
   "source": [
    "n = int(input())\n",
    "arr = sorted(list(map(int, input().split())), reverse = True)\n",
    "new_arr = []\n",
    "s = arr[0]\n",
    "\n",
    "for i in range(1, len(arr)):\n",
    "    new_arr.append(s * arr[i])\n",
    "    s += arr[i]\n",
    "\n",
    "    \n",
    "print(sum(new_arr))"
   ]
  }
 ],
 "metadata": {
  "interpreter": {
   "hash": "767d51c1340bd893661ea55ea3124f6de3c7a262a8b4abca0554b478b1e2ff90"
  },
  "kernelspec": {
   "display_name": "Python 2.7.18 64-bit",
   "language": "python",
   "name": "python3"
  },
  "language_info": {
   "codemirror_mode": {
    "name": "ipython",
    "version": 3
   },
   "file_extension": ".py",
   "mimetype": "text/x-python",
   "name": "python",
   "nbconvert_exporter": "python",
   "pygments_lexer": "ipython3",
   "version": "3.9.5"
  },
  "orig_nbformat": 4
 },
 "nbformat": 4,
 "nbformat_minor": 2
}
