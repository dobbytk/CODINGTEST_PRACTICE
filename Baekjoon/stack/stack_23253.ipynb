{
 "cells": [
  {
   "cell_type": "markdown",
   "metadata": {},
   "source": [
    "```\n",
    "문제\n",
    "찬우는 스택을 배운 뒤 자료구조 과목과 사랑에 빠지고 말았다.\n",
    "\n",
    "자료구조 과목만을 바라보기로 다짐한 찬우는 나머지 과목의 교과서 N권을 방 구석에 $M$개의 더미로 아무렇게나 쌓아 두었다. 하지만 중간고사가 다가오자 더 이상 자료구조만 공부할 수는 없었고, 결국 찬우는 팽개쳤던 나머지 과목의 교과서를 정리하고 번호순으로 나열하려 한다.\n",
    "\n",
    " $N$권의 교과서는 각각 1부터 N까지의 번호가 매겨져 있다. 찬우는 각 더미의 맨 위에 있는 교과서만 꺼낼 수 있으며, 반드시 교과서를 꺼낸 순서대로 나열해야 하기 때문에 번호순으로 나열하기 위해서는 1번, 2번, … N - 1번, N번 교과서 순으로 꺼내야 한다. 교과서를 올바르게 나열할 수 없다면 중간고사 공부를 때려치겠다는 찬우를 위해 번호순으로 나열할 수 있는지 여부를 알려주는 프로그램을 작성해 주자.\n",
    "\n",
    "입력\n",
    "첫째 줄에 교과서의 수 N, 교과서 더미의 수 M이 주어진다.\n",
    "\n",
    "둘째 줄부터 2 X M줄에 걸쳐 각 더미의 정보가 주어진다.\n",
    "\n",
    " i번째 더미를 나타내는 첫 번째 줄에는 더미에 쌓인 교과서의 수 k_i 가 주어지며, 두 번째 줄에는 k_i 개의 정수가 공백으로 구분되어 주어진다.\n",
    "\n",
    "각 정수는 교과서의 번호를 나타내며, 아래에 있는 교과서의 번호부터 주어진다.\n",
    "\n",
    "교과서의 번호는 1부터 N까지의 정수가 한 번씩만 등장한다.\n",
    "\n",
    "출력\n",
    "올바른 순서대로 교과서를 꺼낼 수 있다면 Yes를, 불가능하다면 No를 출력한다.\n",
    "\n",
    "제한\n",
    " 1 <= M <= N <= 200,000 \n",
    " 1 <= k_i\n",
    "모든 k_i의 합은 항상 N이다.\n",
    "예제 입력 1 \n",
    "4 2\n",
    "2\n",
    "3 1\n",
    "2\n",
    "4 2\n",
    "예제 출력 1 \n",
    "Yes\n",
    "\n",
    "\n",
    "위 그림처럼 책이 쌓여 있으므로, 첫 번째 더미 - 두 번째 더미 - 첫 번째 더미 - 두 번째 더미 순으로 꺼내면 책 번호순으로 나열할 수 있다.\n",
    "\n",
    "예제 입력 2 \n",
    "5 2\n",
    "3\n",
    "3 5 1\n",
    "2\n",
    "4 2\n",
    "예제 출력 2 \n",
    "No\n",
    "\n",
    "\n",
    "위 그림처럼 책이 쌓여 있으므로 어떻게 꺼내도 책 번호순으로 나열할 수 없다.\n",
    "\n",
    "```"
   ]
  },
  {
   "cell_type": "code",
   "execution_count": 9,
   "metadata": {},
   "outputs": [
    {
     "name": "stdout",
     "output_type": "stream",
     "text": [
      "Yes\n"
     ]
    }
   ],
   "source": [
    "a, b = map(int, input().split())\n",
    "flag = True\n",
    "\n",
    "for _ in range(b):\n",
    "    n = int(input())\n",
    "    stack = list(map(int, input().split()))\n",
    "    for i in range(1, len(stack)):\n",
    "        if stack[i-1] < stack[i]:\n",
    "            flag = False\n",
    "            break\n",
    "    if not flag:\n",
    "        break\n",
    "\n",
    "if flag:\n",
    "    print(\"Yes\")\n",
    "else:\n",
    "    print(\"No\")\n",
    "    \n"
   ]
  }
 ],
 "metadata": {
  "interpreter": {
   "hash": "7812ea015bdcee6f23a998adcdd2ef97c151c0c241b7b7070987d9313e41299d"
  },
  "kernelspec": {
   "display_name": "Python 3.9.5 64-bit",
   "language": "python",
   "name": "python3"
  },
  "language_info": {
   "codemirror_mode": {
    "name": "ipython",
    "version": 3
   },
   "file_extension": ".py",
   "mimetype": "text/x-python",
   "name": "python",
   "nbconvert_exporter": "python",
   "pygments_lexer": "ipython3",
   "version": "3.9.5"
  },
  "orig_nbformat": 4
 },
 "nbformat": 4,
 "nbformat_minor": 2
}
