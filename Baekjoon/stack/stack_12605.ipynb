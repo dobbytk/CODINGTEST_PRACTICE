{
 "cells": [
  {
   "cell_type": "markdown",
   "metadata": {},
   "source": [
    "```\n",
    "문제\n",
    "스페이스로 띄어쓰기 된 단어들의 리스트가 주어질때, 단어들을 반대 순서로 뒤집어라. 각 라인은 w개의 영단어로 이루어져 있으며, 총 L개의 알파벳을 가진다. 각 행은 알파벳과 스페이스로만 이루어져 있다. 단어 사이에는 하나의 스페이스만 들어간다.\n",
    "\n",
    "입력\n",
    "첫 행은 N이며, 전체 케이스의 개수이다.\n",
    "\n",
    "N개의 케이스들이 이어지는데, 각 케이스는 스페이스로 띄어진 단어들이다. 스페이스는 라인의 처음과 끝에는 나타나지 않는다. N과 L은 다음 범위를 가진다.\n",
    "\n",
    "N = 5\n",
    "1 ≤ L ≤ 25\n",
    "출력\n",
    "각 케이스에 대해서, 케이스 번호가 x일때  \"Case #x: \" 를 출력한 후 그 후에 이어서 단어들을 반대 순서로 출력한다.\n",
    "\n",
    "예제 입력 1 \n",
    "3\n",
    "this is a test\n",
    "foobar\n",
    "all your base\n",
    "예제 출력 1 \n",
    "Case #1: test a is this\n",
    "Case #2: foobar\n",
    "Case #3: base your all\n",
    "```"
   ]
  },
  {
   "cell_type": "code",
   "execution_count": 5,
   "metadata": {},
   "outputs": [
    {
     "name": "stdout",
     "output_type": "stream",
     "text": [
      "Case #1: test a is this\n",
      "Case #2: foobar\n",
      "Case #3: base your all\n"
     ]
    }
   ],
   "source": [
    "n = int(input())\n",
    "cnt = 1\n",
    "\n",
    "for _ in range(n):\n",
    "    result = \"\"\n",
    "    s = input().split()\n",
    "    print(\"Case #{}: {}\".format(cnt, ' '.join(s[::-1])))\n",
    "    cnt += 1\n"
   ]
  },
  {
   "cell_type": "code",
   "execution_count": null,
   "metadata": {},
   "outputs": [],
   "source": []
  }
 ],
 "metadata": {
  "interpreter": {
   "hash": "7812ea015bdcee6f23a998adcdd2ef97c151c0c241b7b7070987d9313e41299d"
  },
  "kernelspec": {
   "display_name": "Python 3.9.5 64-bit",
   "language": "python",
   "name": "python3"
  },
  "language_info": {
   "codemirror_mode": {
    "name": "ipython",
    "version": 3
   },
   "file_extension": ".py",
   "mimetype": "text/x-python",
   "name": "python",
   "nbconvert_exporter": "python",
   "pygments_lexer": "ipython3",
   "version": "3.9.5"
  },
  "orig_nbformat": 4
 },
 "nbformat": 4,
 "nbformat_minor": 2
}
