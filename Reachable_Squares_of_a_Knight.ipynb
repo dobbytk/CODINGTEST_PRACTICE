{
 "cells": [
  {
   "cell_type": "code",
   "execution_count": 34,
   "metadata": {},
   "outputs": [
    {
     "data": {
      "text/plain": [
       "['2d', '2f', '3c', '3g', '5c', '5g', '6d', '6f']"
      ]
     },
     "execution_count": 34,
     "metadata": {},
     "output_type": "execute_result"
    }
   ],
   "source": [
    "def getKnightCoordinates(location):\n",
    "    loc = location\n",
    "    col = int(loc[0])\n",
    "    row = loc[1]\n",
    "    \n",
    "    new_col = []\n",
    "    new_row = []\n",
    "    \n",
    "    coordinates = []\n",
    "\n",
    "    # new_col \n",
    "    for i in range(2, -3, -1):\n",
    "        if i == 0:\n",
    "            pass\n",
    "        else:\n",
    "            new_col.append(str(col + i))\n",
    "            new_col.append(str(col + i))\n",
    "\n",
    "    # new_row\n",
    "    for i in range(1, 3):\n",
    "        new_row.append(chr(ord(row) + i))\n",
    "        new_row.append(chr(ord(row) - i))\n",
    "    \n",
    "    tmp = new_row[::-1]\n",
    "    new_row.extend(tmp)\n",
    "\n",
    "    for c in zip(new_col, new_row):\n",
    "        coordinates.append(''.join(c))\n",
    "    \n",
    "    \n",
    "    return sorted(coordinates)\n",
    "\n",
    "getKnightCoordinates(\"4e\")"
   ]
  },
  {
   "cell_type": "code",
   "execution_count": null,
   "metadata": {},
   "outputs": [],
   "source": []
  }
 ],
 "metadata": {
  "interpreter": {
   "hash": "7812ea015bdcee6f23a998adcdd2ef97c151c0c241b7b7070987d9313e41299d"
  },
  "kernelspec": {
   "display_name": "Python 3.9.5 64-bit",
   "language": "python",
   "name": "python3"
  },
  "language_info": {
   "codemirror_mode": {
    "name": "ipython",
    "version": 3
   },
   "file_extension": ".py",
   "mimetype": "text/x-python",
   "name": "python",
   "nbconvert_exporter": "python",
   "pygments_lexer": "ipython3",
   "version": "3.9.5"
  },
  "orig_nbformat": 4
 },
 "nbformat": 4,
 "nbformat_minor": 2
}
