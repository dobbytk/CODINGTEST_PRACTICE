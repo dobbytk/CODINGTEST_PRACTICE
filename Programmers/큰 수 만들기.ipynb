{
 "cells": [
  {
   "cell_type": "markdown",
   "metadata": {},
   "source": [
    "```\n",
    "어떤 숫자에서 k개의 수를 제거했을 때 얻을 수 있는 가장 큰 숫자를 구하려 합니다.\n",
    "\n",
    "예를 들어, 숫자 1924에서 수 두 개를 제거하면 [19, 12, 14, 92, 94, 24] 를 만들 수 있습니다. 이 중 가장 큰 숫자는 94 입니다.\n",
    "\n",
    "문자열 형식으로 숫자 number와 제거할 수의 개수 k가 solution 함수의 매개변수로 주어집니다. number에서 k 개의 수를 제거했을 때 만들 수 있는 수 중 가장 큰 숫자를 문자열 형태로 return 하도록 solution 함수를 완성하세요.\n",
    "\n",
    "제한 조건\n",
    "number는 1자리 이상, 1,000,000자리 이하인 숫자입니다.\n",
    "k는 1 이상 number의 자릿수 미만인 자연수입니다.\n",
    "```"
   ]
  },
  {
   "cell_type": "code",
   "execution_count": null,
   "metadata": {},
   "outputs": [],
   "source": [
    "def solution(number, k):\n",
    "    arr = []\n",
    "    for n in number:\n",
    "        while len(arr) != 0 and arr[-1] < n and k > 0:\n",
    "            arr.pop()\n",
    "            k -= 1\n",
    "        arr.append(n)\n",
    "\n",
    "    if k > 0:\n",
    "        return ''.join(arr[:-k])\n",
    "\n",
    "    return ''.join(arr)"
   ]
  },
  {
   "cell_type": "code",
   "execution_count": null,
   "metadata": {},
   "outputs": [],
   "source": []
  }
 ],
 "metadata": {
  "language_info": {
   "name": "python"
  },
  "orig_nbformat": 4
 },
 "nbformat": 4,
 "nbformat_minor": 2
}
