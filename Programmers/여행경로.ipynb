{
 "cells": [
  {
   "cell_type": "markdown",
   "metadata": {},
   "source": [
    "```\n",
    "여행경로\n",
    "문제 설명\n",
    "주어진 항공권을 모두 이용하여 여행경로를 짜려고 합니다. 항상 \"ICN\" 공항에서 출발합니다.\n",
    "\n",
    "항공권 정보가 담긴 2차원 배열 tickets가 매개변수로 주어질 때, 방문하는 공항 경로를 배열에 담아 return 하도록 solution 함수를 작성해주세요.\n",
    "\n",
    "제한사항\n",
    "모든 공항은 알파벳 대문자 3글자로 이루어집니다.\n",
    "주어진 공항 수는 3개 이상 10,000개 이하입니다.\n",
    "tickets의 각 행 [a, b]는 a 공항에서 b 공항으로 가는 항공권이 있다는 의미입니다.\n",
    "주어진 항공권은 모두 사용해야 합니다.\n",
    "만일 가능한 경로가 2개 이상일 경우 알파벳 순서가 앞서는 경로를 return 합니다.\n",
    "모든 도시를 방문할 수 없는 경우는 주어지지 않습니다.\n",
    "입출력 예\n",
    "tickets\treturn\n",
    "[[\"ICN\", \"JFK\"], [\"HND\", \"IAD\"], [\"JFK\", \"HND\"]]\t[\"ICN\", \"JFK\", \"HND\", \"IAD\"]\n",
    "[[\"ICN\", \"SFO\"], [\"ICN\", \"ATL\"], [\"SFO\", \"ATL\"], [\"ATL\", \"ICN\"], [\"ATL\",\"SFO\"]]\t[\"ICN\", \"ATL\", \"ICN\", \"SFO\", \"ATL\", \"SFO\"]\n",
    "입출력 예 설명\n",
    "예제 #1\n",
    "\n",
    "[\"ICN\", \"JFK\", \"HND\", \"IAD\"] 순으로 방문할 수 있습니다.\n",
    "\n",
    "예제 #2\n",
    "\n",
    "[\"ICN\", \"SFO\", \"ATL\", \"ICN\", \"ATL\", \"SFO\"] 순으로 방문할 수도 있지만 [\"ICN\", \"ATL\", \"ICN\", \"SFO\", \"ATL\", \"SFO\"] 가 알파벳 순으로 앞섭니다.\n",
    "```"
   ]
  },
  {
   "cell_type": "code",
   "execution_count": 1,
   "metadata": {},
   "outputs": [],
   "source": [
    "from collections import defaultdict\n",
    "\n",
    "def solution(tickets):\n",
    "    def init_graph():\n",
    "        routes = defaultdict(list)\n",
    "        for key, value in tickets:\n",
    "            routes[key].append(value)\n",
    "        return routes\n",
    "\n",
    "    def dfs():\n",
    "        stack = [\"ICN\"]\n",
    "        path = []\n",
    "        while len(stack) > 0:\n",
    "            top = stack[-1]\n",
    "            if top not in routes or len(routes[top]) == 0:\n",
    "                path.append(stack.pop())\n",
    "            else:\n",
    "                stack.append(routes[top].pop(0))\n",
    "        return path[::-1]\n",
    "\n",
    "    routes = init_graph()\n",
    "\n",
    "    for r in routes:\n",
    "        routes[r].sort()\n",
    "\n",
    "    answer = dfs()\n",
    "    return answer"
   ]
  }
 ],
 "metadata": {
  "interpreter": {
   "hash": "7812ea015bdcee6f23a998adcdd2ef97c151c0c241b7b7070987d9313e41299d"
  },
  "kernelspec": {
   "display_name": "Python 3.9.5 64-bit",
   "language": "python",
   "name": "python3"
  },
  "language_info": {
   "codemirror_mode": {
    "name": "ipython",
    "version": 3
   },
   "file_extension": ".py",
   "mimetype": "text/x-python",
   "name": "python",
   "nbconvert_exporter": "python",
   "pygments_lexer": "ipython3",
   "version": "3.9.5"
  },
  "orig_nbformat": 4
 },
 "nbformat": 4,
 "nbformat_minor": 2
}
