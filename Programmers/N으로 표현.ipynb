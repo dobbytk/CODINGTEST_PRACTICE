{
 "cells": [
  {
   "cell_type": "markdown",
   "metadata": {},
   "source": [
    "```\n",
    "N으로 표현\n",
    "문제 설명\n",
    "아래와 같이 5와 사칙연산만으로 12를 표현할 수 있습니다.\n",
    "\n",
    "12 = 5 + 5 + (5 / 5) + (5 / 5)\n",
    "12 = 55 / 5 + 5 / 5\n",
    "12 = (55 + 5) / 5\n",
    "\n",
    "5를 사용한 횟수는 각각 6,5,4 입니다. 그리고 이중 가장 작은 경우는 4입니다.\n",
    "이처럼 숫자 N과 number가 주어질 때, N과 사칙연산만 사용해서 표현 할 수 있는 방법 중 N 사용횟수의 최솟값을 return 하도록 solution 함수를 작성하세요.\n",
    "\n",
    "제한사항\n",
    "N은 1 이상 9 이하입니다.\n",
    "number는 1 이상 32,000 이하입니다.\n",
    "수식에는 괄호와 사칙연산만 가능하며 나누기 연산에서 나머지는 무시합니다.\n",
    "최솟값이 8보다 크면 -1을 return 합니다.\n",
    "입출력 예\n",
    "N\tnumber\treturn\n",
    "5\t12\t4\n",
    "2\t11\t3\n",
    "입출력 예 설명\n",
    "예제 #1\n",
    "문제에 나온 예와 같습니다.\n",
    "\n",
    "예제 #2\n",
    "11 = 22 / 2와 같이 2를 3번만 사용하여 표현할 수 있습니다.\n",
    "```\n"
   ]
  },
  {
   "cell_type": "code",
   "execution_count": 1,
   "metadata": {},
   "outputs": [],
   "source": [
    "def solution(N, number):\n",
    "    total = [0, [N]]\n",
    "    if N == number:\n",
    "        return 1\n",
    "\n",
    "    for i in range(2, 9):\n",
    "        num_list = [int(str(N) * i)]\n",
    "        for j in range(1, i // 2 + 1):\n",
    "            for a in total[j]:\n",
    "                for b in total[i - j]:\n",
    "                    num_list.append(a + b)\n",
    "                    num_list.append(a - b)\n",
    "                    num_list.append(a * b)\n",
    "                    if a != 0:\n",
    "                        num_list.append(b // a)\n",
    "                    if b != 0:\n",
    "                        num_list.append(a // b)\n",
    "        if number in num_list:\n",
    "            return i\n",
    "        total.append(num_list)\n",
    "    return -1"
   ]
  }
 ],
 "metadata": {
  "interpreter": {
   "hash": "7812ea015bdcee6f23a998adcdd2ef97c151c0c241b7b7070987d9313e41299d"
  },
  "kernelspec": {
   "display_name": "Python 3.9.5 64-bit",
   "language": "python",
   "name": "python3"
  },
  "language_info": {
   "codemirror_mode": {
    "name": "ipython",
    "version": 3
   },
   "file_extension": ".py",
   "mimetype": "text/x-python",
   "name": "python",
   "nbconvert_exporter": "python",
   "pygments_lexer": "ipython3",
   "version": "3.9.5"
  },
  "orig_nbformat": 4
 },
 "nbformat": 4,
 "nbformat_minor": 2
}
