{
 "cells": [
  {
   "cell_type": "markdown",
   "metadata": {},
   "source": [
    "```\n",
    "전화번호 목록\n",
    "문제 설명\n",
    "전화번호부에 적힌 전화번호 중, 한 번호가 다른 번호의 접두어인 경우가 있는지 확인하려 합니다.\n",
    "전화번호가 다음과 같을 경우, 구조대 전화번호는 영석이의 전화번호의 접두사입니다.\n",
    "\n",
    "구조대 : 119\n",
    "박준영 : 97 674 223\n",
    "지영석 : 11 9552 4421\n",
    "전화번호부에 적힌 전화번호를 담은 배열 phone_book 이 solution 함수의 매개변수로 주어질 때, 어떤 번호가 다른 번호의 접두어인 경우가 있으면 false를 그렇지 않으면 true를 return 하도록 solution 함수를 작성해주세요.\n",
    "\n",
    "제한 사항\n",
    "phone_book의 길이는 1 이상 1,000,000 이하입니다.\n",
    "각 전화번호의 길이는 1 이상 20 이하입니다.\n",
    "같은 전화번호가 중복해서 들어있지 않습니다.\n",
    "입출력 예제\n",
    "phone_book\t                       return\n",
    "[\"119\", \"97674223\", \"1195524421\"]\tfalse\n",
    "[\"123\",\"456\",\"789\"]\t                true\n",
    "[\"12\",\"123\",\"1235\",\"567\",\"88\"]\t        false\n",
    "\n",
    "입출력 예 설명\n",
    "입출력 예 #1\n",
    "앞에서 설명한 예와 같습니다.\n",
    "\n",
    "입출력 예 #2\n",
    "한 번호가 다른 번호의 접두사인 경우가 없으므로, 답은 true입니다.\n",
    "\n",
    "입출력 예 #3\n",
    "첫 번째 전화번호, “12”가 두 번째 전화번호 “123”의 접두사입니다. 따라서 답은 false입니다.\n",
    "\n",
    "```"
   ]
  },
  {
   "cell_type": "code",
   "execution_count": null,
   "metadata": {},
   "outputs": [],
   "source": [
    "def solution(phone_book):\n",
    "    result = []\n",
    "    srt = sorted(phone_book, key = lambda x : (str(x), int(x)))\n",
    "    flag = False\n",
    "    \n",
    "    for i in range(1, len(srt)):\n",
    "        if srt[i-1] == srt[i][:len(srt[i-1])]:\n",
    "            flag = True\n",
    "            break\n",
    "            \n",
    "    if flag:\n",
    "        return False\n",
    "    else:\n",
    "        return True"
   ]
  }
 ],
 "metadata": {
  "language_info": {
   "name": "python"
  },
  "orig_nbformat": 4
 },
 "nbformat": 4,
 "nbformat_minor": 2
}
